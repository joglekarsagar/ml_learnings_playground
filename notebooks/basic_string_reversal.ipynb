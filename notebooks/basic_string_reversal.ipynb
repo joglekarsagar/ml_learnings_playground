{
 "cells": [
  {
   "cell_type": "markdown",
   "metadata": {
    "id": "wJpXpmjEYC_T"
   },
   "source": [
    "## Building a GPT\n",
    "\n",
    "Companion notebook to the [Zero To Hero](https://karpathy.ai/zero-to-hero.html) video on GPT."
   ]
  },
  {
   "cell_type": "code",
   "execution_count": 70,
   "metadata": {
    "tags": []
   },
   "outputs": [],
   "source": [
    "import torch\n",
    "import numpy as np\n",
    "from tqdm import tqdm\n",
    "tqdm.pandas()"
   ]
  },
  {
   "cell_type": "code",
   "execution_count": 71,
   "metadata": {
    "tags": []
   },
   "outputs": [],
   "source": [
    "sentences = [] \n",
    "with open(\"output_data_50.txt\",\"r\") as f:\n",
    "    sentences = f.readlines()\n",
    "sentences[:10]\n",
    "\n",
    "text = \"\".join(sentences[:10000])"
   ]
  },
  {
   "cell_type": "code",
   "execution_count": 72,
   "metadata": {
    "tags": []
   },
   "outputs": [
    {
     "name": "stdout",
     "output_type": "stream",
     "text": [
      "cuda:0\n"
     ]
    }
   ],
   "source": [
    "# at beginning of the script\n",
    "device = torch.device(\"cuda:0\" if torch.cuda.is_available() else \"cpu\")\n",
    "print(device)"
   ]
  },
  {
   "cell_type": "code",
   "execution_count": 73,
   "metadata": {
    "colab": {
     "base_uri": "https://localhost:8080/"
    },
    "id": "0e-Rbyr8sfM8",
    "outputId": "f34e94a9-5b44-4cf3-885b-986731929109",
    "tags": []
   },
   "outputs": [
    {
     "name": "stdout",
     "output_type": "stream",
     "text": [
      "\n",
      " !$&',-.3:;?^_abcdefghijklmnopqrstuvwxyz\n",
      "41\n"
     ]
    }
   ],
   "source": [
    "# here are all the unique characters that occur in this text\n",
    "chars = sorted(list(set(text)))\n",
    "vocab_size = len(chars)\n",
    "print(''.join(chars))\n",
    "print(vocab_size)"
   ]
  },
  {
   "cell_type": "code",
   "execution_count": 74,
   "metadata": {
    "tags": []
   },
   "outputs": [
    {
     "data": {
      "text/plain": [
       "'paulina:true, too true, my lord:if, one by one_eno yb eno ,fi:drol ym ,eurt oot ,eurt:aniluap^\\nr he '"
      ]
     },
     "execution_count": 74,
     "metadata": {},
     "output_type": "execute_result"
    }
   ],
   "source": [
    "text[:100]"
   ]
  },
  {
   "cell_type": "code",
   "execution_count": 75,
   "metadata": {
    "colab": {
     "base_uri": "https://localhost:8080/"
    },
    "id": "Yw1LKNCgwjj1",
    "outputId": "86fcc21c-2cf7-40d9-cd7b-b5a253da4459",
    "tags": []
   },
   "outputs": [
    {
     "name": "stdout",
     "output_type": "stream",
     "text": [
      "[22, 23, 23, 1, 34, 22, 19, 32, 19]\n",
      "hii there\n"
     ]
    }
   ],
   "source": [
    "# create a mapping from characters to integers\n",
    "stoi = { ch:i for i,ch in enumerate(chars) }\n",
    "itos = { i:ch for i,ch in enumerate(chars) }\n",
    "encode = lambda s: [stoi[c] for c in s] # encoder: take a string, output a list of integers\n",
    "decode = lambda l: ''.join([itos[i] for i in l]) # decoder: take a list of integers, output a string\n",
    "\n",
    "print(encode(\"hii there\"))\n",
    "print(decode(encode(\"hii there\")))"
   ]
  },
  {
   "cell_type": "code",
   "execution_count": 76,
   "metadata": {
    "colab": {
     "base_uri": "https://localhost:8080/"
    },
    "id": "YJb0OXPwzvqg",
    "outputId": "db7297cc-36a9-4fae-e941-e7bb9e0e91d1",
    "tags": []
   },
   "outputs": [
    {
     "name": "stdout",
     "output_type": "stream",
     "text": [
      "torch.Size([993982]) torch.int64\n",
      "tensor([30, 15, 35, 26, 23, 28, 15, 10, 34, 32, 35, 19,  6,  1, 34, 29, 29,  1,\n",
      "        34, 32, 35, 19,  6,  1, 27, 39,  1, 26, 29, 32, 18, 10, 23, 20,  6,  1,\n",
      "        29, 28, 19,  1, 16, 39,  1, 29, 28, 19, 14, 19, 28, 29,  1, 39, 16,  1,\n",
      "        19, 28, 29,  1,  6, 20, 23, 10, 18, 32, 29, 26,  1, 39, 27,  1,  6, 19,\n",
      "        35, 32, 34,  1, 29, 29, 34,  1,  6, 19, 35, 32, 34, 10, 15, 28, 23, 26,\n",
      "        35, 15, 30, 13,  0, 32,  1, 22, 19,  1, 27, 15, 25, 19,  1, 22, 23, 33,\n",
      "         1, 37, 15, 39, 35, 28, 18, 19, 32,  1, 34, 22, 19,  1, 17, 29, 26, 29,\n",
      "        35, 32,  1, 29, 20,  1, 22, 23, 33,  1, 35, 33, 35, 15, 26,  1, 21, 15,\n",
      "        14, 15, 21,  1, 26, 15, 35, 33, 35,  1, 33, 23, 22,  1, 20, 29,  1, 32,\n",
      "        35, 29, 26, 29, 17,  1, 19, 22, 34,  1, 32, 19, 18, 28, 35, 39, 15, 37,\n",
      "         1, 33, 23, 22,  1, 19, 25, 15, 27,  1, 19, 22,  1, 32, 13,  0, 33, 15,\n",
      "        21, 19, 33,  6,  1, 15, 28, 18,  1, 23, 28,  1, 34, 22, 19,  1, 19, 28,\n",
      "        18,  6, 22, 15, 36, 23, 28, 21,  1, 27, 39,  1, 20, 32, 19, 19, 18, 29,\n",
      "        27,  6,  1, 16, 29, 15, 33, 34,  1, 29, 20, 14, 20, 29,  1, 34, 33, 15,\n",
      "        29, 16,  1,  6, 27, 29, 18, 19, 19, 32, 20,  1, 39, 27,  1, 21, 28, 23,\n",
      "        36, 15, 22,  6, 18, 28, 19,  1, 19, 22, 34,  1, 28, 23,  1, 18, 28, 15,\n",
      "         1,  6, 33, 19, 21, 15, 33, 13,  0, 28, 21,  1, 22, 19, 28, 32, 39,  1,\n",
      "        36, 23, 32, 23, 17, 22, 15, 32, 18, 10, 28, 29, 37,  6,  1, 17, 26, 23,\n",
      "        20, 20, 29, 32, 18,  6,  1, 23,  1, 22, 15, 36, 19,  1, 33, 23, 28, 21,\n",
      "        26, 19, 14, 19, 26, 21, 28, 23, 33,  1, 19, 36, 15, 22,  1, 23,  1,  6,\n",
      "        18, 32, 29, 20, 20, 23, 26, 17,  1,  6, 37, 29, 28, 10, 18, 32, 15, 22,\n",
      "        17, 23, 32, 23, 36,  1, 39, 32, 28, 19, 22,  1, 21, 28, 13,  0,  7, 18,\n",
      "        15, 27, 28,  1, 22, 23, 27,  8,  1, 16, 19,  1, 33, 22, 19,  1, 22, 29,\n",
      "        28, 29, 35, 32,  7, 20, 26, 15, 37,  5, 18,  6, 23,  1, 22, 15, 36, 19,\n",
      "         1, 34, 22, 32, 19, 19,  1, 18, 15, 35, 21, 14, 21, 35, 15, 18,  1, 19,\n",
      "        19, 32, 22, 34,  1, 19, 36, 15, 22,  1, 23,  6, 18,  5, 37, 15, 26, 20,\n",
      "         7, 32, 35, 29, 28, 29, 22,  1, 19, 22, 33,  1, 19, 16,  1,  8, 27, 23,\n",
      "        22,  1, 28, 27, 15, 18,  7, 13,  0,  1, 17, 26, 23, 20, 20, 29, 32, 18,\n",
      "        11,  1, 15, 28, 18,  1, 34, 22, 15, 34,  5, 33,  1, 32, 23, 17, 22, 15,\n",
      "        32, 18,  1, 18, 35, 25, 19,  1, 29, 20,  1, 39, 29, 32, 25,  8, 25, 23,\n",
      "        28, 21,  1, 14,  1, 21, 28, 23, 25,  8, 25, 32, 29, 39,  1, 20, 29,  1,\n",
      "        19, 25, 35, 18,  1, 18, 32, 15, 22, 17, 23, 32,  1, 33,  5, 34, 15, 22,\n",
      "        34,  1, 18, 28, 15,  1, 11, 18, 32, 29, 20, 20, 23, 26, 17,  1, 13,  0,\n",
      "        15, 28, 18,  1, 37, 23, 34, 22,  1, 39, 29, 35, 32,  1, 31, 35, 19, 19,\n",
      "        28,  8,  1, 23,  1, 15, 27,  1, 22, 23, 33,  1, 17, 35, 30, 16, 19, 15,\n",
      "        32, 19, 32, 10, 23, 20,  1, 20, 32, 29, 27,  1, 14,  1, 27, 29, 32, 20,\n",
      "         1, 20, 23, 10, 32, 19, 32, 15, 19, 16, 30, 35, 17,  1, 33, 23, 22,  1,\n",
      "        27, 15,  1, 23,  1,  8, 28, 19, 19, 35, 31,  1, 32, 35, 29, 39,  1, 22,\n",
      "        34, 23, 37,  1, 18, 28, 15, 13,  0, 26, 19, 10, 28, 29, 32, 34, 22, 35,\n",
      "        27, 16, 19, 32, 26, 15, 28, 18,  1, 17, 29, 27, 19, 33,  1, 16, 15, 17,\n",
      "        25,  1, 20, 32, 29, 27,  1, 16, 29, 26, 23, 28, 21, 16, 32, 29, 25, 19,\n",
      "         8, 25, 14, 25,  8, 19, 25, 29, 32, 16, 21, 28, 23, 26, 29, 16,  1, 27,\n",
      "        29, 32, 20,  1, 25, 17, 15, 16,  1, 33, 19, 27, 29, 17,  1, 18, 28, 15,\n",
      "        26, 32, 19, 16, 27, 35, 22, 34, 32, 29, 28, 10, 19, 26, 13,  0,  1, 33,\n",
      "        29,  1, 35, 28, 26, 23, 25, 19,  1, 39, 29, 35, 32, 33, 19, 26, 20, 12,\n",
      "        30, 19, 34, 32, 35, 17, 22, 23, 29, 10, 34, 19, 18, 23, 29, 35, 33,  1,\n",
      "        23, 34,  1, 37, 19, 32, 19,  1, 34, 14, 34,  1, 19, 32, 19, 37,  1, 34,\n",
      "        23,  1, 33, 35, 29, 23, 18, 19, 34, 10, 29, 23, 22, 17, 35, 32, 34, 19,\n",
      "        30, 12, 20, 26, 19, 33, 32, 35, 29, 39,  1, 19, 25, 23, 26, 28, 35,  1,\n",
      "        29, 33,  1, 13,  0, 39,  6,  1, 30, 32, 29, 35, 18,  1, 31, 35, 19, 19,\n",
      "        28,  6,  1, 34, 29,  1, 27, 15, 25, 19,  1, 34, 22, 19, 19,  1, 16, 26,\n",
      "        35, 33, 22,  8, 34, 29,  1, 34, 19, 26, 26,  1, 34, 22, 19, 19,  1, 37,\n",
      "        14, 37,  1, 19, 19, 22, 34,  1, 26, 26, 19, 34,  1, 29, 34,  8, 22, 33,\n",
      "        35, 26, 16,  1, 19, 19, 22, 34,  1, 19, 25, 15, 27,  1, 29, 34,  1,  6,\n",
      "        28, 19, 19, 35, 31,  1, 18, 35, 29, 32, 30,  1,  6, 39, 13,  0, 29, 32,\n",
      "        21, 19, 10, 37, 22, 19, 32, 19,  5, 33])\n"
     ]
    }
   ],
   "source": [
    "# let's now encode the entire text dataset and store it into a torch.Tensor\n",
    "import torch # we use PyTorch: https://pytorch.org\n",
    "data = torch.tensor(encode(text), dtype=torch.long)\n",
    "print(data.shape, data.dtype)\n",
    "print(data[:1000]) # the 1000 characters we looked at earier will to the GPT look like this"
   ]
  },
  {
   "cell_type": "code",
   "execution_count": 77,
   "metadata": {
    "id": "f_WIXqxz0lU5",
    "tags": []
   },
   "outputs": [],
   "source": [
    "# Let's now split up the data into train and validation sets\n",
    "n = int(0.9*len(data)) # first 90% will be train, rest val\n",
    "train_data = data[:n]\n",
    "val_data = data[n:]"
   ]
  },
  {
   "cell_type": "code",
   "execution_count": 78,
   "metadata": {
    "colab": {
     "base_uri": "https://localhost:8080/"
    },
    "id": "TD5Bj8Y6IAD4",
    "outputId": "bf23c586-1d33-4af1-b63d-ce6f90b0a528",
    "tags": []
   },
   "outputs": [
    {
     "data": {
      "text/plain": [
       "tensor([30, 15, 35, 26, 23, 28, 15, 10, 34])"
      ]
     },
     "execution_count": 78,
     "metadata": {},
     "output_type": "execute_result"
    }
   ],
   "source": [
    "block_size = 8\n",
    "train_data[:block_size+1]"
   ]
  },
  {
   "cell_type": "code",
   "execution_count": 79,
   "metadata": {
    "colab": {
     "base_uri": "https://localhost:8080/"
    },
    "id": "9HXDe8vGJCEn",
    "outputId": "588663aa-1de5-4ef7-aba0-4a96fe828353",
    "tags": []
   },
   "outputs": [
    {
     "name": "stdout",
     "output_type": "stream",
     "text": [
      "when input is tensor([30]) the target: 15\n",
      "when input is tensor([30, 15]) the target: 35\n",
      "when input is tensor([30, 15, 35]) the target: 26\n",
      "when input is tensor([30, 15, 35, 26]) the target: 23\n",
      "when input is tensor([30, 15, 35, 26, 23]) the target: 28\n",
      "when input is tensor([30, 15, 35, 26, 23, 28]) the target: 15\n",
      "when input is tensor([30, 15, 35, 26, 23, 28, 15]) the target: 10\n",
      "when input is tensor([30, 15, 35, 26, 23, 28, 15, 10]) the target: 34\n"
     ]
    }
   ],
   "source": [
    "x = train_data[:block_size]\n",
    "y = train_data[1:block_size+1]\n",
    "for t in range(block_size):\n",
    "    context = x[:t+1]\n",
    "    target = y[t]\n",
    "    print(f\"when input is {context} the target: {target}\")"
   ]
  },
  {
   "cell_type": "code",
   "execution_count": 80,
   "metadata": {
    "colab": {
     "base_uri": "https://localhost:8080/"
    },
    "id": "Q3k1Czf7LuA9",
    "outputId": "4ea8e8a0-443c-49bb-b3bf-ba36e1712999",
    "tags": []
   },
   "outputs": [
    {
     "name": "stdout",
     "output_type": "stream",
     "text": [
      "inputs:\n",
      "torch.Size([4, 8])\n",
      "tensor([[ 1,  6, 34, 33, 19, 24,  1, 18],\n",
      "        [32, 16,  1, 32, 23, 19, 22, 34],\n",
      "        [23, 29, 21,  1, 27, 15,  1, 23],\n",
      "        [39,  1, 18, 19, 32, 18, 28, 35]])\n",
      "targets:\n",
      "torch.Size([4, 8])\n",
      "tensor([[ 6, 34, 33, 19, 24,  1, 18, 19],\n",
      "        [16,  1, 32, 23, 19, 22, 34,  1],\n",
      "        [29, 21,  1, 27, 15,  1, 23,  1],\n",
      "        [ 1, 18, 19, 32, 18, 28, 35, 22]])\n",
      "----\n",
      "when input is [1] the target: 6\n",
      "when input is [1, 6] the target: 34\n",
      "when input is [1, 6, 34] the target: 33\n",
      "when input is [1, 6, 34, 33] the target: 19\n",
      "when input is [1, 6, 34, 33, 19] the target: 24\n",
      "when input is [1, 6, 34, 33, 19, 24] the target: 1\n",
      "when input is [1, 6, 34, 33, 19, 24, 1] the target: 18\n",
      "when input is [1, 6, 34, 33, 19, 24, 1, 18] the target: 19\n",
      "when input is [32] the target: 16\n",
      "when input is [32, 16] the target: 1\n",
      "when input is [32, 16, 1] the target: 32\n",
      "when input is [32, 16, 1, 32] the target: 23\n",
      "when input is [32, 16, 1, 32, 23] the target: 19\n",
      "when input is [32, 16, 1, 32, 23, 19] the target: 22\n",
      "when input is [32, 16, 1, 32, 23, 19, 22] the target: 34\n",
      "when input is [32, 16, 1, 32, 23, 19, 22, 34] the target: 1\n",
      "when input is [23] the target: 29\n",
      "when input is [23, 29] the target: 21\n",
      "when input is [23, 29, 21] the target: 1\n",
      "when input is [23, 29, 21, 1] the target: 27\n",
      "when input is [23, 29, 21, 1, 27] the target: 15\n",
      "when input is [23, 29, 21, 1, 27, 15] the target: 1\n",
      "when input is [23, 29, 21, 1, 27, 15, 1] the target: 23\n",
      "when input is [23, 29, 21, 1, 27, 15, 1, 23] the target: 1\n",
      "when input is [39] the target: 1\n",
      "when input is [39, 1] the target: 18\n",
      "when input is [39, 1, 18] the target: 19\n",
      "when input is [39, 1, 18, 19] the target: 32\n",
      "when input is [39, 1, 18, 19, 32] the target: 18\n",
      "when input is [39, 1, 18, 19, 32, 18] the target: 28\n",
      "when input is [39, 1, 18, 19, 32, 18, 28] the target: 35\n",
      "when input is [39, 1, 18, 19, 32, 18, 28, 35] the target: 22\n"
     ]
    }
   ],
   "source": [
    "torch.manual_seed(1337)\n",
    "batch_size = 4 # how many independent sequences will we process in parallel?\n",
    "block_size = 8 # what is the maximum context length for predictions?\n",
    "\n",
    "def get_batch(split):\n",
    "    # generate a small batch of data of inputs x and targets y\n",
    "    data = train_data if split == 'train' else val_data\n",
    "    ix = torch.randint(len(data) - block_size, (batch_size,))\n",
    "    x = torch.stack([data[i:i+block_size] for i in ix])\n",
    "    y = torch.stack([data[i+1:i+block_size+1] for i in ix])\n",
    "    return x, y\n",
    "\n",
    "xb, yb = get_batch('train')\n",
    "print('inputs:')\n",
    "print(xb.shape)\n",
    "print(xb)\n",
    "print('targets:')\n",
    "print(yb.shape)\n",
    "print(yb)\n",
    "\n",
    "print('----')\n",
    "\n",
    "for b in range(batch_size): # batch dimension\n",
    "    for t in range(block_size): # time dimension\n",
    "        context = xb[b, :t+1]\n",
    "        target = yb[b,t]\n",
    "        print(f\"when input is {context.tolist()} the target: {target}\")"
   ]
  },
  {
   "cell_type": "code",
   "execution_count": 81,
   "metadata": {
    "colab": {
     "base_uri": "https://localhost:8080/"
    },
    "id": "qpyyAeIzQjlO",
    "outputId": "a650f8dc-da81-400b-bc59-0a595487fdb9",
    "tags": []
   },
   "outputs": [
    {
     "name": "stdout",
     "output_type": "stream",
     "text": [
      "tensor([[ 1,  6, 34, 33, 19, 24,  1, 18],\n",
      "        [32, 16,  1, 32, 23, 19, 22, 34],\n",
      "        [23, 29, 21,  1, 27, 15,  1, 23],\n",
      "        [39,  1, 18, 19, 32, 18, 28, 35]])\n"
     ]
    }
   ],
   "source": [
    "print(xb) # our input to the transformer"
   ]
  },
  {
   "cell_type": "code",
   "execution_count": 82,
   "metadata": {
    "colab": {
     "base_uri": "https://localhost:8080/"
    },
    "id": "2Num7sX9CKOH",
    "outputId": "929ceb78-a639-41d6-aac7-12997b5c93f0",
    "tags": []
   },
   "outputs": [
    {
     "data": {
      "text/plain": [
       "torch.Size([32, 100])"
      ]
     },
     "execution_count": 82,
     "metadata": {},
     "output_type": "execute_result"
    }
   ],
   "source": [
    "class LayerNorm1d: # (used to be BatchNorm1d)\n",
    "\n",
    "    def __init__(self, dim, eps=1e-5, momentum=0.1):\n",
    "        self.eps = eps\n",
    "        self.gamma = torch.ones(dim)\n",
    "        self.beta = torch.zeros(dim)\n",
    "\n",
    "    def __call__(self, x):\n",
    "        # calculate the forward pass\n",
    "        xmean = x.mean(1, keepdim=True) # batch mean\n",
    "        xvar = x.var(1, keepdim=True) # batch variance\n",
    "        xhat = (x - xmean) / torch.sqrt(xvar + self.eps) # normalize to unit variance\n",
    "        self.out = self.gamma * xhat + self.beta\n",
    "        return self.out\n",
    "\n",
    "    def parameters(self):\n",
    "        return [self.gamma, self.beta]\n",
    "\n",
    "torch.manual_seed(1337)\n",
    "module = LayerNorm1d(100)\n",
    "x = torch.randn(32, 100) # batch size 32 of 100-dimensional vectors\n",
    "x = module(x)\n",
    "x.shape"
   ]
  },
  {
   "cell_type": "code",
   "execution_count": 83,
   "metadata": {
    "colab": {
     "base_uri": "https://localhost:8080/"
    },
    "id": "633T2cmnW1uk",
    "outputId": "7720fa58-0478-4e8a-86a7-502d4cce9443",
    "tags": []
   },
   "outputs": [
    {
     "data": {
      "text/plain": [
       "(tensor(0.1469), tensor(0.8803))"
      ]
     },
     "execution_count": 83,
     "metadata": {},
     "output_type": "execute_result"
    }
   ],
   "source": [
    "x[:,0].mean(), x[:,0].std() # mean,std of one feature across all batch inputs"
   ]
  },
  {
   "cell_type": "code",
   "execution_count": 84,
   "metadata": {
    "colab": {
     "base_uri": "https://localhost:8080/"
    },
    "id": "LN9cK9BoXCYb",
    "outputId": "6368ece0-600e-417d-8a91-7c1e5d750ba8",
    "tags": []
   },
   "outputs": [
    {
     "data": {
      "text/plain": [
       "(tensor(-9.5367e-09), tensor(1.0000))"
      ]
     },
     "execution_count": 84,
     "metadata": {},
     "output_type": "execute_result"
    }
   ],
   "source": [
    "x[0,:].mean(), x[0,:].std() # mean,std of a single input from the batch, of its features"
   ]
  },
  {
   "cell_type": "markdown",
   "metadata": {
    "id": "ZcvKeBXoZFOY"
   },
   "source": [
    "### Full finished code, for reference\n",
    "Based on Karpathy's code just adapted for the string reversa "
   ]
  },
  {
   "cell_type": "code",
   "execution_count": 100,
   "metadata": {
    "colab": {
     "base_uri": "https://localhost:8080/"
    },
    "id": "hoelkOrFY8bN",
    "outputId": "961304cd-e379-40d4-dd56-8de0b91d2861",
    "tags": []
   },
   "outputs": [
    {
     "name": "stdout",
     "output_type": "stream",
     "text": [
      "0.810537 M parameters\n",
      "step 0: train loss 3.8741, val loss 3.8729\n",
      "step 500: train loss 2.3790, val loss 2.3867\n",
      "step 1000: train loss 2.0862, val loss 2.0856\n",
      "step 1500: train loss 1.8360, val loss 1.8394\n",
      "step 2000: train loss 1.7242, val loss 1.7379\n",
      "step 2500: train loss 1.6638, val loss 1.6826\n",
      "step 3000: train loss 1.6149, val loss 1.6261\n",
      "step 3500: train loss 1.5967, val loss 1.6194\n",
      "step 4000: train loss 1.5558, val loss 1.5727\n",
      "step 4500: train loss 1.5413, val loss 1.5584\n",
      "step 5000: train loss 1.5160, val loss 1.5304\n",
      "step 5500: train loss 1.5074, val loss 1.5272\n",
      "step 6000: train loss 1.4936, val loss 1.5087\n",
      "step 6500: train loss 1.4913, val loss 1.4957\n",
      "step 7000: train loss 1.4708, val loss 1.4808\n",
      "step 7500: train loss 1.4649, val loss 1.4694\n",
      "step 8000: train loss 1.4456, val loss 1.4662\n",
      "step 8500: train loss 1.4575, val loss 1.4556\n",
      "step 9000: train loss 1.4283, val loss 1.4439\n",
      "step 9500: train loss 1.4094, val loss 1.4311\n",
      "step 10000: train loss 1.4192, val loss 1.4341\n",
      "step 10500: train loss 1.3956, val loss 1.4295\n",
      "step 11000: train loss 1.4038, val loss 1.4175\n",
      "step 11500: train loss 1.3995, val loss 1.4147\n",
      "step 12000: train loss 1.4015, val loss 1.4156\n",
      "step 12500: train loss 1.3941, val loss 1.4064\n",
      "step 13000: train loss 1.3848, val loss 1.3987\n",
      "step 13500: train loss 1.3830, val loss 1.4022\n",
      "step 14000: train loss 1.3886, val loss 1.4155\n",
      "step 14500: train loss 1.3772, val loss 1.3959\n",
      "step 15000: train loss 1.3751, val loss 1.3903\n",
      "step 15500: train loss 1.3754, val loss 1.3750\n",
      "step 16000: train loss 1.3623, val loss 1.3847\n",
      "step 16500: train loss 1.3697, val loss 1.3929\n",
      "step 17000: train loss 1.3446, val loss 1.3740\n",
      "step 17500: train loss 1.3537, val loss 1.3723\n",
      "step 18000: train loss 1.3529, val loss 1.3738\n",
      "step 18500: train loss 1.3517, val loss 1.3803\n",
      "step 19000: train loss 1.3466, val loss 1.3664\n",
      "step 19500: train loss 1.3531, val loss 1.3730\n",
      "step 20000: train loss 1.3363, val loss 1.3616\n",
      "step 20500: train loss 1.3281, val loss 1.3568\n",
      "step 21000: train loss 1.3413, val loss 1.3555\n",
      "step 21500: train loss 1.3418, val loss 1.3518\n",
      "step 22000: train loss 1.3276, val loss 1.3342\n",
      "step 22500: train loss 1.3308, val loss 1.3599\n",
      "step 23000: train loss 1.3235, val loss 1.3606\n",
      "step 23500: train loss 1.3309, val loss 1.3592\n",
      "step 24000: train loss 1.3146, val loss 1.3419\n",
      "step 24500: train loss 1.3148, val loss 1.3475\n",
      "step 25000: train loss 1.3236, val loss 1.3439\n",
      "step 25500: train loss 1.3240, val loss 1.3399\n",
      "step 26000: train loss 1.3141, val loss 1.3332\n",
      "step 26500: train loss 1.3119, val loss 1.3338\n",
      "step 27000: train loss 1.3093, val loss 1.3375\n",
      "step 27500: train loss 1.3074, val loss 1.3449\n",
      "step 28000: train loss 1.3077, val loss 1.3296\n",
      "step 28500: train loss 1.3036, val loss 1.3238\n",
      "step 29000: train loss 1.2984, val loss 1.3168\n",
      "step 29500: train loss 1.3002, val loss 1.3315\n",
      "step 29999: train loss 1.2944, val loss 1.3239\n"
     ]
    }
   ],
   "source": [
    "import torch\n",
    "import torch.nn as nn\n",
    "from torch.nn import functional as F\n",
    "\n",
    "# hyperparameters\n",
    "batch_size = 16 # how many independent sequences will we process in parallel?\n",
    "block_size = 64 # what is the maximum context length for predictions?\n",
    "max_iters = 30000\n",
    "eval_interval = 500\n",
    "learning_rate = 1e-3\n",
    "device = 'cuda' if torch.cuda.is_available() else 'cpu'\n",
    "eval_iters = 200\n",
    "n_embd = 128\n",
    "n_head = 4\n",
    "n_layer = 4\n",
    "dropout = 0.0\n",
    "# ------------\n",
    "\n",
    "torch.manual_seed(1337)\n",
    "\n",
    "sentences = [] \n",
    "with open(\"output_data_50.txt\",\"r\") as f:\n",
    "    sentences = f.readlines()\n",
    "\n",
    "text = \"\".join(sentences[:50000])\n",
    "\n",
    "# here are all the unique characters that occur in this text\n",
    "chars = sorted(list(set(text)))\n",
    "vocab_size = len(chars)\n",
    "# create a mapping from characters to integers\n",
    "stoi = { ch:i for i,ch in enumerate(chars) }\n",
    "itos = { i:ch for i,ch in enumerate(chars) }\n",
    "encode = lambda s: [stoi[c] for c in s] # encoder: take a string, output a list of integers\n",
    "decode = lambda l: ''.join([itos[i] for i in l]) # decoder: take a list of integers, output a string\n",
    "\n",
    "# Train and test splits\n",
    "data = torch.tensor(encode(text), dtype=torch.long)\n",
    "n = int(0.9*len(data)) # first 90% will be train, rest val\n",
    "train_data = data[:n]\n",
    "val_data = data[n:]\n",
    "\n",
    "# data loading\n",
    "def get_batch(split):\n",
    "    # generate a small batch of data of inputs x and targets y\n",
    "    data = train_data if split == 'train' else val_data\n",
    "    ix = torch.randint(len(data) - block_size, (batch_size,))\n",
    "    x = torch.stack([data[i:i+block_size] for i in ix])\n",
    "    y = torch.stack([data[i+1:i+block_size+1] for i in ix])\n",
    "    x, y = x.to(device), y.to(device)\n",
    "    return x, y\n",
    "\n",
    "@torch.no_grad()\n",
    "def estimate_loss():\n",
    "    out = {}\n",
    "    model.eval()\n",
    "    for split in ['train', 'val']:\n",
    "        losses = torch.zeros(eval_iters)\n",
    "        for k in range(eval_iters):\n",
    "            X, Y = get_batch(split)\n",
    "            logits, loss = model(X, Y)\n",
    "            losses[k] = loss.item()\n",
    "        out[split] = losses.mean()\n",
    "    model.train()\n",
    "    return out\n",
    "\n",
    "class Head(nn.Module):\n",
    "    \"\"\" one head of self-attention \"\"\"\n",
    "\n",
    "    def __init__(self, head_size):\n",
    "        super().__init__()\n",
    "        self.key = nn.Linear(n_embd, head_size, bias=False)\n",
    "        self.query = nn.Linear(n_embd, head_size, bias=False)\n",
    "        self.value = nn.Linear(n_embd, head_size, bias=False)\n",
    "        self.register_buffer('tril', torch.tril(torch.ones(block_size, block_size)))\n",
    "\n",
    "        self.dropout = nn.Dropout(dropout)\n",
    "\n",
    "    def forward(self, x):\n",
    "        B,T,C = x.shape\n",
    "        k = self.key(x)   # (B,T,C)\n",
    "        q = self.query(x) # (B,T,C)\n",
    "        # compute attention scores (\"affinities\")\n",
    "        wei = q @ k.transpose(-2,-1) * C**-0.5 # (B, T, C) @ (B, C, T) -> (B, T, T)\n",
    "        wei = wei.masked_fill(self.tril[:T, :T] == 0, float('-inf')) # (B, T, T)\n",
    "        wei = F.softmax(wei, dim=-1) # (B, T, T)\n",
    "        wei = self.dropout(wei)\n",
    "        # perform the weighted aggregation of the values\n",
    "        v = self.value(x) # (B,T,C)\n",
    "        out = wei @ v # (B, T, T) @ (B, T, C) -> (B, T, C)\n",
    "        return out\n",
    "\n",
    "class MultiHeadAttention(nn.Module):\n",
    "    \"\"\" multiple heads of self-attention in parallel \"\"\"\n",
    "\n",
    "    def __init__(self, num_heads, head_size):\n",
    "        super().__init__()\n",
    "        self.heads = nn.ModuleList([Head(head_size) for _ in range(num_heads)])\n",
    "        self.proj = nn.Linear(n_embd, n_embd)\n",
    "        self.dropout = nn.Dropout(dropout)\n",
    "\n",
    "    def forward(self, x):\n",
    "        out = torch.cat([h(x) for h in self.heads], dim=-1)\n",
    "        out = self.dropout(self.proj(out))\n",
    "        return out\n",
    "\n",
    "class FeedFoward(nn.Module):\n",
    "    \"\"\" a simple linear layer followed by a non-linearity \"\"\"\n",
    "\n",
    "    def __init__(self, n_embd):\n",
    "        super().__init__()\n",
    "        self.net = nn.Sequential(\n",
    "            nn.Linear(n_embd, 4 * n_embd),\n",
    "            nn.ReLU(),\n",
    "            nn.Linear(4 * n_embd, n_embd),\n",
    "            nn.Dropout(dropout),\n",
    "        )\n",
    "\n",
    "    def forward(self, x):\n",
    "        return self.net(x)\n",
    "\n",
    "class Block(nn.Module):\n",
    "    \"\"\" Transformer block: communication followed by computation \"\"\"\n",
    "\n",
    "    def __init__(self, n_embd, n_head):\n",
    "        # n_embd: embedding dimension, n_head: the number of heads we'd like\n",
    "        super().__init__()\n",
    "        head_size = n_embd // n_head\n",
    "        self.sa = MultiHeadAttention(n_head, head_size)\n",
    "        self.ffwd = FeedFoward(n_embd)\n",
    "        self.ln1 = nn.LayerNorm(n_embd)\n",
    "        self.ln2 = nn.LayerNorm(n_embd)\n",
    "\n",
    "    def forward(self, x):\n",
    "        x = x + self.sa(self.ln1(x))\n",
    "        x = x + self.ffwd(self.ln2(x))\n",
    "        return x\n",
    "\n",
    "# super simple bigram model\n",
    "class BigramLanguageModel(nn.Module):\n",
    "\n",
    "    def __init__(self):\n",
    "        super().__init__()\n",
    "        # each token directly reads off the logits for the next token from a lookup table\n",
    "        self.token_embedding_table = nn.Embedding(vocab_size, n_embd)\n",
    "        self.position_embedding_table = nn.Embedding(block_size, n_embd)\n",
    "        self.blocks = nn.Sequential(*[Block(n_embd, n_head=n_head) for _ in range(n_layer)])\n",
    "        self.ln_f = nn.LayerNorm(n_embd) # final layer norm\n",
    "        self.lm_head = nn.Linear(n_embd, vocab_size)\n",
    "\n",
    "    def forward(self, idx, targets=None):\n",
    "        B, T = idx.shape\n",
    "\n",
    "        # idx and targets are both (B,T) tensor of integers\n",
    "        tok_emb = self.token_embedding_table(idx) # (B,T,C)\n",
    "        pos_emb = self.position_embedding_table(torch.arange(T, device=device)) # (T,C)\n",
    "        x = tok_emb + pos_emb # (B,T,C)\n",
    "        x = self.blocks(x) # (B,T,C)\n",
    "        x = self.ln_f(x) # (B,T,C)\n",
    "        logits = self.lm_head(x) # (B,T,vocab_size)\n",
    "\n",
    "        if targets is None:\n",
    "            loss = None\n",
    "        else:\n",
    "            B, T, C = logits.shape\n",
    "            logits = logits.view(B*T, C)\n",
    "            targets = targets.view(B*T)\n",
    "            loss = F.cross_entropy(logits, targets)\n",
    "\n",
    "        return logits, loss\n",
    "\n",
    "    def generate(self, idx, max_new_tokens):\n",
    "        # idx is (B, T) array of indices in the current context\n",
    "        for _ in range(max_new_tokens):\n",
    "            # crop idx to the last block_size tokens\n",
    "            idx_cond = idx[:, -block_size:]\n",
    "            # get the predictions\n",
    "            logits, loss = self(idx_cond)\n",
    "            # focus only on the last time step\n",
    "            logits = logits[:, -1, :] # becomes (B, C)\n",
    "            # apply softmax to get probabilities\n",
    "            probs = F.softmax(logits, dim=-1) # (B, C)\n",
    "            # sample from the distribution\n",
    "            idx_next = torch.multinomial(probs, num_samples=1) # (B, 1)\n",
    "            # append sampled index to the running sequence\n",
    "            idx = torch.cat((idx, idx_next), dim=1) # (B, T+1)\n",
    "        return idx\n",
    "\n",
    "model = BigramLanguageModel()\n",
    "m = model.to(device)\n",
    "# print the number of parameters in the model\n",
    "print(sum(p.numel() for p in m.parameters())/1e6, 'M parameters')\n",
    "\n",
    "# create a PyTorch optimizer\n",
    "optimizer = torch.optim.AdamW(model.parameters(), lr=learning_rate)\n",
    "\n",
    "for iter in range(max_iters):\n",
    "\n",
    "    # every once in a while evaluate the loss on train and val sets\n",
    "    if iter % eval_interval == 0 or iter == max_iters - 1:\n",
    "        losses = estimate_loss()\n",
    "        print(f\"step {iter}: train loss {losses['train']:.4f}, val loss {losses['val']:.4f}\")\n",
    "\n",
    "    # sample a batch of data\n",
    "    xb, yb = get_batch('train')\n",
    "\n",
    "    # evaluate the loss\n",
    "    logits, loss = model(xb, yb)\n",
    "    optimizer.zero_grad(set_to_none=True)\n",
    "    loss.backward()\n",
    "    optimizer.step()"
   ]
  },
  {
   "cell_type": "code",
   "execution_count": 101,
   "metadata": {
    "tags": []
   },
   "outputs": [
    {
     "data": {
      "text/plain": [
       "[34, 22, 23, 33, 1, 23, 33, 1, 15, 1, 34, 19, 33, 34, 14]"
      ]
     },
     "execution_count": 101,
     "metadata": {},
     "output_type": "execute_result"
    }
   ],
   "source": [
    "encode(\"this is a test_\")"
   ]
  },
  {
   "cell_type": "code",
   "execution_count": 102,
   "metadata": {
    "id": "fjjvMifYZf7x",
    "tags": []
   },
   "outputs": [
    {
     "name": "stdout",
     "output_type": "stream",
     "text": [
      "tensor([[34, 22, 23, 33,  1, 23, 33,  1, 15,  1, 34, 19, 33, 34, 14]],\n",
      "       device='cuda:0')\n",
      "this is a test_tset a si siht \n"
     ]
    }
   ],
   "source": [
    "# generate from the model\n",
    "# context = torch.zeros((1, 1), dtype=torch.long, device=device)\n",
    "\n",
    "\n",
    "context = torch.tensor(encode(\"this is a test_\"), dtype = torch.long , device = device).view(1,-1)\n",
    "print(context)\n",
    "print(decode(m.generate(context, max_new_tokens=15)[0].tolist()))\n"
   ]
  },
  {
   "cell_type": "code",
   "execution_count": 103,
   "metadata": {
    "tags": []
   },
   "outputs": [
    {
     "name": "stdout",
     "output_type": "stream",
     "text": [
      "saving checkpoint to ./checkpoints/\n"
     ]
    }
   ],
   "source": [
    "import os\n",
    "out_dir = \"./checkpoints/\"\n",
    "checkpoint = {\n",
    "                    'model': m.state_dict(),\n",
    "                    'optimizer': optimizer.state_dict()\n",
    "                }\n",
    "print(f\"saving checkpoint to {out_dir}\")\n",
    "torch.save(checkpoint, os.path.join(out_dir, 'string_reverse_v1.pt'))"
   ]
  },
  {
   "cell_type": "code",
   "execution_count": 104,
   "metadata": {
    "tags": []
   },
   "outputs": [],
   "source": [
    "torch.save(m , os.path.join(out_dir, 'string_reverse_v1_model.pth'))"
   ]
  },
  {
   "cell_type": "code",
   "execution_count": 105,
   "metadata": {
    "tags": []
   },
   "outputs": [],
   "source": [
    "%store -r data_df"
   ]
  },
  {
   "cell_type": "code",
   "execution_count": 106,
   "metadata": {
    "tags": []
   },
   "outputs": [
    {
     "data": {
      "text/html": [
       "<div>\n",
       "<style scoped>\n",
       "    .dataframe tbody tr th:only-of-type {\n",
       "        vertical-align: middle;\n",
       "    }\n",
       "\n",
       "    .dataframe tbody tr th {\n",
       "        vertical-align: top;\n",
       "    }\n",
       "\n",
       "    .dataframe thead th {\n",
       "        text-align: right;\n",
       "    }\n",
       "</style>\n",
       "<table border=\"1\" class=\"dataframe\">\n",
       "  <thead>\n",
       "    <tr style=\"text-align: right;\">\n",
       "      <th></th>\n",
       "      <th>size</th>\n",
       "      <th>string</th>\n",
       "      <th>context</th>\n",
       "      <th>expected</th>\n",
       "      <th>generations</th>\n",
       "      <th>Rouge_scores</th>\n",
       "    </tr>\n",
       "  </thead>\n",
       "  <tbody>\n",
       "    <tr>\n",
       "      <th>0</th>\n",
       "      <td>10</td>\n",
       "      <td>go?ratcl_lctar?og^\\n</td>\n",
       "      <td>go?ratcl_</td>\n",
       "      <td>lctar?og^</td>\n",
       "      <td>lctarbgni</td>\n",
       "      <td>4</td>\n",
       "    </tr>\n",
       "    <tr>\n",
       "      <th>1</th>\n",
       "      <td>10</td>\n",
       "      <td>pedient du_ud tneidep^\\n</td>\n",
       "      <td>pedient du_</td>\n",
       "      <td>ud tneidep^</td>\n",
       "      <td>ud tneidebi</td>\n",
       "      <td>2</td>\n",
       "    </tr>\n",
       "    <tr>\n",
       "      <th>2</th>\n",
       "      <td>10</td>\n",
       "      <td>haste, an_na ,etsah ^\\n</td>\n",
       "      <td>haste, an_</td>\n",
       "      <td>na ,etsah ^</td>\n",
       "      <td>na ,etsah h</td>\n",
       "      <td>1</td>\n",
       "    </tr>\n",
       "    <tr>\n",
       "      <th>3</th>\n",
       "      <td>10</td>\n",
       "      <td>y's answer_rewsna s'y^\\n</td>\n",
       "      <td>y's answer_</td>\n",
       "      <td>rewsna s'y^</td>\n",
       "      <td>rewsna s'ye</td>\n",
       "      <td>1</td>\n",
       "    </tr>\n",
       "    <tr>\n",
       "      <th>4</th>\n",
       "      <td>10</td>\n",
       "      <td>es beheld!_!dleheb se^\\n</td>\n",
       "      <td>es beheld!_</td>\n",
       "      <td>!dleheb se^</td>\n",
       "      <td>!dleb sevav</td>\n",
       "      <td>5</td>\n",
       "    </tr>\n",
       "  </tbody>\n",
       "</table>\n",
       "</div>"
      ],
      "text/plain": [
       "   size                    string      context     expected  generations  \\\n",
       "0    10      go?ratcl_lctar?og^\\n    go?ratcl_    lctar?og^    lctarbgni   \n",
       "1    10  pedient du_ud tneidep^\\n  pedient du_  ud tneidep^  ud tneidebi   \n",
       "2    10   haste, an_na ,etsah ^\\n   haste, an_  na ,etsah ^  na ,etsah h   \n",
       "3    10  y's answer_rewsna s'y^\\n  y's answer_  rewsna s'y^  rewsna s'ye   \n",
       "4    10  es beheld!_!dleheb se^\\n  es beheld!_  !dleheb se^  !dleb sevav   \n",
       "\n",
       "   Rouge_scores  \n",
       "0             4  \n",
       "1             2  \n",
       "2             1  \n",
       "3             1  \n",
       "4             5  "
      ]
     },
     "execution_count": 106,
     "metadata": {},
     "output_type": "execute_result"
    }
   ],
   "source": [
    "data_df.head()"
   ]
  },
  {
   "cell_type": "code",
   "execution_count": 107,
   "metadata": {
    "tags": []
   },
   "outputs": [],
   "source": [
    "def generate(text):\n",
    "    context = torch.tensor(encode(text), dtype = torch.long , device = device).view(1,-1)\n",
    "    generations =  decode(m.generate(context, max_new_tokens=len(text) + 10)[0].tolist()).split(\"_\")[1]\n",
    "    index = generations.find('^')\n",
    "    if index == -1:\n",
    "        print(\"EOS did not happen\")\n",
    "    index = len(text)\n",
    "    return generations[:index]"
   ]
  },
  {
   "cell_type": "code",
   "execution_count": 108,
   "metadata": {
    "tags": []
   },
   "outputs": [
    {
     "name": "stderr",
     "output_type": "stream",
     "text": [
      "  2%|▏         | 2/100 [00:00<00:05, 16.46it/s]"
     ]
    },
    {
     "name": "stdout",
     "output_type": "stream",
     "text": [
      "EOS did not happen\n",
      "EOS did not happen\n"
     ]
    },
    {
     "name": "stderr",
     "output_type": "stream",
     "text": [
      "  4%|▍         | 4/100 [00:00<00:10,  9.60it/s]"
     ]
    },
    {
     "name": "stdout",
     "output_type": "stream",
     "text": [
      "EOS did not happen\n",
      "EOS did not happen\n"
     ]
    },
    {
     "name": "stderr",
     "output_type": "stream",
     "text": [
      "  7%|▋         | 7/100 [00:00<00:11,  8.32it/s]"
     ]
    },
    {
     "name": "stdout",
     "output_type": "stream",
     "text": [
      "EOS did not happen\n",
      "EOS did not happen\n"
     ]
    },
    {
     "name": "stderr",
     "output_type": "stream",
     "text": [
      "  9%|▉         | 9/100 [00:01<00:11,  7.90it/s]"
     ]
    },
    {
     "name": "stdout",
     "output_type": "stream",
     "text": [
      "EOS did not happen\n",
      "EOS did not happen\n"
     ]
    },
    {
     "name": "stderr",
     "output_type": "stream",
     "text": [
      " 11%|█         | 11/100 [00:01<00:11,  7.51it/s]"
     ]
    },
    {
     "name": "stdout",
     "output_type": "stream",
     "text": [
      "EOS did not happen\n",
      "EOS did not happen\n"
     ]
    },
    {
     "name": "stderr",
     "output_type": "stream",
     "text": [
      " 13%|█▎        | 13/100 [00:01<00:14,  6.08it/s]"
     ]
    },
    {
     "name": "stdout",
     "output_type": "stream",
     "text": [
      "EOS did not happen\n",
      "EOS did not happen\n"
     ]
    },
    {
     "name": "stderr",
     "output_type": "stream",
     "text": [
      " 14%|█▍        | 14/100 [00:01<00:15,  5.71it/s]"
     ]
    },
    {
     "name": "stdout",
     "output_type": "stream",
     "text": [
      "EOS did not happen\n"
     ]
    },
    {
     "name": "stderr",
     "output_type": "stream",
     "text": [
      " 16%|█▌        | 16/100 [00:02<00:15,  5.36it/s]"
     ]
    },
    {
     "name": "stdout",
     "output_type": "stream",
     "text": [
      "EOS did not happen\n",
      "EOS did not happen\n"
     ]
    },
    {
     "name": "stderr",
     "output_type": "stream",
     "text": [
      " 18%|█▊        | 18/100 [00:02<00:15,  5.22it/s]"
     ]
    },
    {
     "name": "stdout",
     "output_type": "stream",
     "text": [
      "EOS did not happen\n",
      "EOS did not happen\n"
     ]
    },
    {
     "name": "stderr",
     "output_type": "stream",
     "text": [
      " 19%|█▉        | 19/100 [00:02<00:15,  5.14it/s]"
     ]
    },
    {
     "name": "stdout",
     "output_type": "stream",
     "text": [
      "EOS did not happen\n"
     ]
    },
    {
     "name": "stderr",
     "output_type": "stream",
     "text": [
      " 21%|██        | 21/100 [00:03<00:15,  5.08it/s]"
     ]
    },
    {
     "name": "stdout",
     "output_type": "stream",
     "text": [
      "EOS did not happen\n",
      "EOS did not happen\n"
     ]
    },
    {
     "name": "stderr",
     "output_type": "stream",
     "text": [
      " 22%|██▏       | 22/100 [00:03<00:16,  4.63it/s]"
     ]
    },
    {
     "name": "stdout",
     "output_type": "stream",
     "text": [
      "EOS did not happen\n"
     ]
    },
    {
     "name": "stderr",
     "output_type": "stream",
     "text": [
      " 23%|██▎       | 23/100 [00:03<00:17,  4.38it/s]"
     ]
    },
    {
     "name": "stdout",
     "output_type": "stream",
     "text": [
      "EOS did not happen\n"
     ]
    },
    {
     "name": "stderr",
     "output_type": "stream",
     "text": [
      " 24%|██▍       | 24/100 [00:04<00:18,  4.18it/s]"
     ]
    },
    {
     "name": "stdout",
     "output_type": "stream",
     "text": [
      "EOS did not happen\n"
     ]
    },
    {
     "name": "stderr",
     "output_type": "stream",
     "text": [
      " 25%|██▌       | 25/100 [00:04<00:18,  4.15it/s]"
     ]
    },
    {
     "name": "stdout",
     "output_type": "stream",
     "text": [
      "EOS did not happen\n"
     ]
    },
    {
     "name": "stderr",
     "output_type": "stream",
     "text": [
      " 26%|██▌       | 26/100 [00:04<00:18,  4.06it/s]"
     ]
    },
    {
     "name": "stdout",
     "output_type": "stream",
     "text": [
      "EOS did not happen\n"
     ]
    },
    {
     "name": "stderr",
     "output_type": "stream",
     "text": [
      " 27%|██▋       | 27/100 [00:04<00:18,  3.98it/s]"
     ]
    },
    {
     "name": "stdout",
     "output_type": "stream",
     "text": [
      "EOS did not happen\n"
     ]
    },
    {
     "name": "stderr",
     "output_type": "stream",
     "text": [
      " 28%|██▊       | 28/100 [00:05<00:18,  3.89it/s]"
     ]
    },
    {
     "name": "stdout",
     "output_type": "stream",
     "text": [
      "EOS did not happen\n"
     ]
    },
    {
     "name": "stderr",
     "output_type": "stream",
     "text": [
      " 29%|██▉       | 29/100 [00:05<00:18,  3.90it/s]"
     ]
    },
    {
     "name": "stdout",
     "output_type": "stream",
     "text": [
      "EOS did not happen\n"
     ]
    },
    {
     "name": "stderr",
     "output_type": "stream",
     "text": [
      " 30%|███       | 30/100 [00:05<00:18,  3.89it/s]"
     ]
    },
    {
     "name": "stdout",
     "output_type": "stream",
     "text": [
      "EOS did not happen\n"
     ]
    },
    {
     "name": "stderr",
     "output_type": "stream",
     "text": [
      " 31%|███       | 31/100 [00:05<00:17,  3.93it/s]"
     ]
    },
    {
     "name": "stdout",
     "output_type": "stream",
     "text": [
      "EOS did not happen\n"
     ]
    },
    {
     "name": "stderr",
     "output_type": "stream",
     "text": [
      " 33%|███▎      | 33/100 [00:06<00:19,  3.45it/s]"
     ]
    },
    {
     "name": "stdout",
     "output_type": "stream",
     "text": [
      "EOS did not happen\n"
     ]
    },
    {
     "name": "stderr",
     "output_type": "stream",
     "text": [
      " 34%|███▍      | 34/100 [00:06<00:19,  3.35it/s]"
     ]
    },
    {
     "name": "stdout",
     "output_type": "stream",
     "text": [
      "EOS did not happen\n"
     ]
    },
    {
     "name": "stderr",
     "output_type": "stream",
     "text": [
      " 63%|██████▎   | 63/100 [00:18<00:17,  2.14it/s]"
     ]
    },
    {
     "name": "stdout",
     "output_type": "stream",
     "text": [
      "EOS did not happen\n"
     ]
    },
    {
     "name": "stderr",
     "output_type": "stream",
     "text": [
      "100%|██████████| 100/100 [00:40<00:00,  2.47it/s]\n"
     ]
    }
   ],
   "source": [
    "data_df[\"generations\"] = data_df[\"context\"].progress_apply(lambda x : generate(x))"
   ]
  },
  {
   "cell_type": "code",
   "execution_count": 109,
   "metadata": {
    "tags": []
   },
   "outputs": [
    {
     "data": {
      "text/html": [
       "<div>\n",
       "<style scoped>\n",
       "    .dataframe tbody tr th:only-of-type {\n",
       "        vertical-align: middle;\n",
       "    }\n",
       "\n",
       "    .dataframe tbody tr th {\n",
       "        vertical-align: top;\n",
       "    }\n",
       "\n",
       "    .dataframe thead th {\n",
       "        text-align: right;\n",
       "    }\n",
       "</style>\n",
       "<table border=\"1\" class=\"dataframe\">\n",
       "  <thead>\n",
       "    <tr style=\"text-align: right;\">\n",
       "      <th></th>\n",
       "      <th>size</th>\n",
       "      <th>string</th>\n",
       "      <th>context</th>\n",
       "      <th>expected</th>\n",
       "      <th>generations</th>\n",
       "      <th>Rouge_scores</th>\n",
       "    </tr>\n",
       "  </thead>\n",
       "  <tbody>\n",
       "    <tr>\n",
       "      <th>0</th>\n",
       "      <td>10</td>\n",
       "      <td>go?ratcl_lctar?og^\\n</td>\n",
       "      <td>go?ratcl_</td>\n",
       "      <td>lctar?og^</td>\n",
       "      <td>lctar,og</td>\n",
       "      <td>4</td>\n",
       "    </tr>\n",
       "    <tr>\n",
       "      <th>1</th>\n",
       "      <td>10</td>\n",
       "      <td>pedient du_ud tneidep^\\n</td>\n",
       "      <td>pedient du_</td>\n",
       "      <td>ud tneidep^</td>\n",
       "      <td>ud tneidepe</td>\n",
       "      <td>2</td>\n",
       "    </tr>\n",
       "    <tr>\n",
       "      <th>2</th>\n",
       "      <td>10</td>\n",
       "      <td>haste, an_na ,etsah ^\\n</td>\n",
       "      <td>haste, an_</td>\n",
       "      <td>na ,etsah ^</td>\n",
       "      <td>na ,etsah t</td>\n",
       "      <td>1</td>\n",
       "    </tr>\n",
       "    <tr>\n",
       "      <th>3</th>\n",
       "      <td>10</td>\n",
       "      <td>y's answer_rewsna s'y^\\n</td>\n",
       "      <td>y's answer_</td>\n",
       "      <td>rewsna s'y^</td>\n",
       "      <td>rewsna s'yo</td>\n",
       "      <td>1</td>\n",
       "    </tr>\n",
       "    <tr>\n",
       "      <th>4</th>\n",
       "      <td>10</td>\n",
       "      <td>es beheld!_!dleheb se^\\n</td>\n",
       "      <td>es beheld!_</td>\n",
       "      <td>!dleheb se^</td>\n",
       "      <td>!dleheb sem</td>\n",
       "      <td>5</td>\n",
       "    </tr>\n",
       "  </tbody>\n",
       "</table>\n",
       "</div>"
      ],
      "text/plain": [
       "   size                    string      context     expected  generations  \\\n",
       "0    10      go?ratcl_lctar?og^\\n    go?ratcl_    lctar?og^    lctar,og    \n",
       "1    10  pedient du_ud tneidep^\\n  pedient du_  ud tneidep^  ud tneidepe   \n",
       "2    10   haste, an_na ,etsah ^\\n   haste, an_  na ,etsah ^  na ,etsah t   \n",
       "3    10  y's answer_rewsna s'y^\\n  y's answer_  rewsna s'y^  rewsna s'yo   \n",
       "4    10  es beheld!_!dleheb se^\\n  es beheld!_  !dleheb se^  !dleheb sem   \n",
       "\n",
       "   Rouge_scores  \n",
       "0             4  \n",
       "1             2  \n",
       "2             1  \n",
       "3             1  \n",
       "4             5  "
      ]
     },
     "execution_count": 109,
     "metadata": {},
     "output_type": "execute_result"
    }
   ],
   "source": [
    "data_df.head()"
   ]
  },
  {
   "cell_type": "code",
   "execution_count": 110,
   "metadata": {
    "tags": []
   },
   "outputs": [],
   "source": [
    "from Levenshtein import distance as levenshtein_distance"
   ]
  },
  {
   "cell_type": "code",
   "execution_count": 111,
   "metadata": {
    "tags": []
   },
   "outputs": [
    {
     "data": {
      "text/plain": [
       "7"
      ]
     },
     "execution_count": 111,
     "metadata": {},
     "output_type": "execute_result"
    }
   ],
   "source": [
    "levenshtein_distance(\"this is an amazing sentence\" , \"this is a okay sentence\")"
   ]
  },
  {
   "cell_type": "code",
   "execution_count": 112,
   "metadata": {
    "tags": []
   },
   "outputs": [],
   "source": [
    "def score(str1, str2): \n",
    "    scoring = Rouge()\n",
    "    if len(str1) == 0 or len(str2) == 0:\n",
    "        return max(len(str1),len(str2))\n",
    "    scores= levenshtein_distance(str1, str2)\n",
    "    return scores\n",
    "data_df['Rouge_scores'] = data_df.apply(lambda x : score(x['generations'],x['expected']), axis = 1)"
   ]
  },
  {
   "cell_type": "code",
   "execution_count": 113,
   "metadata": {
    "tags": []
   },
   "outputs": [],
   "source": [
    "char_length = []\n",
    "distance=[] \n",
    "error = []\n",
    "for name , group in data_df.groupby(\"size\"): \n",
    "    char_length.append(name)\n",
    "    distance.append(np.mean(group['Rouge_scores']))\n",
    "    error.append(np.std(group['Rouge_scores'])/np.sqrt(len(group)))"
   ]
  },
  {
   "cell_type": "code",
   "execution_count": 114,
   "metadata": {
    "tags": []
   },
   "outputs": [
    {
     "data": {
      "image/png": "[encoded data removed]",
      "text/plain": [
       "<Figure size 640x480 with 1 Axes>"
      ]
     },
     "metadata": {},
     "output_type": "display_data"
    }
   ],
   "source": [
    "import matplotlib.pyplot as plt\n",
    "\n",
    "# Assuming your lists look something like this:\n",
    "# char_length = [list of character lengths]\n",
    "# distance = [list of distances]\n",
    "# error = [list of errors]\n",
    "\n",
    "plt.errorbar(char_length, distance, yerr=error, fmt='o', ecolor='red', capsize=5)\n",
    "plt.xlabel('String to reverse Length')\n",
    "plt.ylabel('Levenshtein Distance')\n",
    "plt.title('Levenshtein Distance vs Character Length with Error Bars Block size 50')\n",
    "plt.grid(True)\n",
    "plt.show()"
   ]
  },
  {
   "cell_type": "code",
   "execution_count": null,
   "metadata": {},
   "outputs": [],
   "source": []
  }
 ],
 "metadata": {
  "colab": {
   "provenance": []
  },
  "kernelspec": {
   "display_name": "conda_answerbot",
   "language": "python",
   "name": "conda_answerbot"
  },
  "language_info": {
   "codemirror_mode": {
    "name": "ipython",
    "version": 3
   },
   "file_extension": ".py",
   "mimetype": "text/x-python",
   "name": "python",
   "nbconvert_exporter": "python",
   "pygments_lexer": "ipython3",
   "version": "3.8.12"
  }
 },
 "nbformat": 4,
 "nbformat_minor": 4
}
