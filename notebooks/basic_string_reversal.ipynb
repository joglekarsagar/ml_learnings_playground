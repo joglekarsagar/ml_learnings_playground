{
 "cells": [
  {
   "cell_type": "markdown",
   "metadata": {
    "id": "wJpXpmjEYC_T"
   },
   "source": [
    "## Building a GPT\n",
    "\n",
    "Companion notebook to the [Zero To Hero](https://karpathy.ai/zero-to-hero.html) video on GPT."
   ]
  },
  {
   "cell_type": "code",
   "execution_count": 1,
   "metadata": {
    "tags": []
   },
   "outputs": [],
   "source": [
    "import torch\n",
    "import numpy as np\n",
    "from tqdm import tqdm\n",
    "tqdm.pandas()"
   ]
  },
  {
   "cell_type": "code",
   "execution_count": 2,
   "metadata": {
    "tags": []
   },
   "outputs": [],
   "source": [
    "sentences = [] \n",
    "with open(\"output_data_50.txt\",\"r\") as f:\n",
    "    sentences = f.readlines()\n",
    "sentences[:10]\n",
    "\n",
    "text = \"\".join(sentences[:10000])"
   ]
  },
  {
   "cell_type": "code",
   "execution_count": 3,
   "metadata": {
    "tags": []
   },
   "outputs": [
    {
     "name": "stdout",
     "output_type": "stream",
     "text": [
      "cuda:0\n"
     ]
    }
   ],
   "source": [
    "# at beginning of the script\n",
    "device = torch.device(\"cuda:0\" if torch.cuda.is_available() else \"cpu\")\n",
    "print(device)"
   ]
  },
  {
   "cell_type": "code",
   "execution_count": 4,
   "metadata": {
    "colab": {
     "base_uri": "https://localhost:8080/"
    },
    "id": "0e-Rbyr8sfM8",
    "outputId": "f34e94a9-5b44-4cf3-885b-986731929109",
    "tags": []
   },
   "outputs": [
    {
     "name": "stdout",
     "output_type": "stream",
     "text": [
      "\n",
      " !$&',-.3:;?^_abcdefghijklmnopqrstuvwxyz\n",
      "41\n"
     ]
    }
   ],
   "source": [
    "# here are all the unique characters that occur in this text\n",
    "chars = sorted(list(set(text)))\n",
    "vocab_size = len(chars)\n",
    "print(''.join(chars))\n",
    "print(vocab_size)"
   ]
  },
  {
   "cell_type": "code",
   "execution_count": 5,
   "metadata": {
    "tags": []
   },
   "outputs": [
    {
     "data": {
      "text/plain": [
       "'paulina:true, too true, my lord:if, one by one_eno yb eno ,fi:drol ym ,eurt oot ,eurt:aniluap^\\nr he '"
      ]
     },
     "execution_count": 5,
     "metadata": {},
     "output_type": "execute_result"
    }
   ],
   "source": [
    "text[:100]"
   ]
  },
  {
   "cell_type": "code",
   "execution_count": 10,
   "metadata": {
    "colab": {
     "base_uri": "https://localhost:8080/"
    },
    "id": "Yw1LKNCgwjj1",
    "outputId": "86fcc21c-2cf7-40d9-cd7b-b5a253da4459",
    "tags": []
   },
   "outputs": [
    {
     "name": "stdout",
     "output_type": "stream",
     "text": [
      "[22, 23, 23, 1, 34, 22, 19, 32, 19]\n",
      "hii there\n"
     ]
    }
   ],
   "source": [
    "# create a mapping from characters to integers\n",
    "stoi = { ch:i for i,ch in enumerate(chars) }\n",
    "itos = { i:ch for i,ch in enumerate(chars) }\n",
    "encode = lambda s: [stoi[c] for c in s] # encoder: take a string, output a list of integers\n",
    "decode = lambda l: ''.join([itos[i] for i in l]) # decoder: take a list of integers, output a string\n",
    "\n",
    "print(encode(\"hii there\"))\n",
    "print(decode(encode(\"hii there\")))"
   ]
  },
  {
   "cell_type": "code",
   "execution_count": 11,
   "metadata": {
    "colab": {
     "base_uri": "https://localhost:8080/"
    },
    "id": "YJb0OXPwzvqg",
    "outputId": "db7297cc-36a9-4fae-e941-e7bb9e0e91d1",
    "tags": []
   },
   "outputs": [
    {
     "name": "stdout",
     "output_type": "stream",
     "text": [
      "torch.Size([993982]) torch.int64\n",
      "tensor([30, 15, 35, 26, 23, 28, 15, 10, 34, 32, 35, 19,  6,  1, 34, 29, 29,  1,\n",
      "        34, 32, 35, 19,  6,  1, 27, 39,  1, 26, 29, 32, 18, 10, 23, 20,  6,  1,\n",
      "        29, 28, 19,  1, 16, 39,  1, 29, 28, 19, 14, 19, 28, 29,  1, 39, 16,  1,\n",
      "        19, 28, 29,  1,  6, 20, 23, 10, 18, 32, 29, 26,  1, 39, 27,  1,  6, 19,\n",
      "        35, 32, 34,  1, 29, 29, 34,  1,  6, 19, 35, 32, 34, 10, 15, 28, 23, 26,\n",
      "        35, 15, 30, 13,  0, 32,  1, 22, 19,  1, 27, 15, 25, 19,  1, 22, 23, 33,\n",
      "         1, 37, 15, 39, 35, 28, 18, 19, 32,  1, 34, 22, 19,  1, 17, 29, 26, 29,\n",
      "        35, 32,  1, 29, 20,  1, 22, 23, 33,  1, 35, 33, 35, 15, 26,  1, 21, 15,\n",
      "        14, 15, 21,  1, 26, 15, 35, 33, 35,  1, 33, 23, 22,  1, 20, 29,  1, 32,\n",
      "        35, 29, 26, 29, 17,  1, 19, 22, 34,  1, 32, 19, 18, 28, 35, 39, 15, 37,\n",
      "         1, 33, 23, 22,  1, 19, 25, 15, 27,  1, 19, 22,  1, 32, 13,  0, 33, 15,\n",
      "        21, 19, 33,  6,  1, 15, 28, 18,  1, 23, 28,  1, 34, 22, 19,  1, 19, 28,\n",
      "        18,  6, 22, 15, 36, 23, 28, 21,  1, 27, 39,  1, 20, 32, 19, 19, 18, 29,\n",
      "        27,  6,  1, 16, 29, 15, 33, 34,  1, 29, 20, 14, 20, 29,  1, 34, 33, 15,\n",
      "        29, 16,  1,  6, 27, 29, 18, 19, 19, 32, 20,  1, 39, 27,  1, 21, 28, 23,\n",
      "        36, 15, 22,  6, 18, 28, 19,  1, 19, 22, 34,  1, 28, 23,  1, 18, 28, 15,\n",
      "         1,  6, 33, 19, 21, 15, 33, 13,  0, 28, 21,  1, 22, 19, 28, 32, 39,  1,\n",
      "        36, 23, 32, 23, 17, 22, 15, 32, 18, 10, 28, 29, 37,  6,  1, 17, 26, 23,\n",
      "        20, 20, 29, 32, 18,  6,  1, 23,  1, 22, 15, 36, 19,  1, 33, 23, 28, 21,\n",
      "        26, 19, 14, 19, 26, 21, 28, 23, 33,  1, 19, 36, 15, 22,  1, 23,  1,  6,\n",
      "        18, 32, 29, 20, 20, 23, 26, 17,  1,  6, 37, 29, 28, 10, 18, 32, 15, 22,\n",
      "        17, 23, 32, 23, 36,  1, 39, 32, 28, 19, 22,  1, 21, 28, 13,  0,  7, 18,\n",
      "        15, 27, 28,  1, 22, 23, 27,  8,  1, 16, 19,  1, 33, 22, 19,  1, 22, 29,\n",
      "        28, 29, 35, 32,  7, 20, 26, 15, 37,  5, 18,  6, 23,  1, 22, 15, 36, 19,\n",
      "         1, 34, 22, 32, 19, 19,  1, 18, 15, 35, 21, 14, 21, 35, 15, 18,  1, 19,\n",
      "        19, 32, 22, 34,  1, 19, 36, 15, 22,  1, 23,  6, 18,  5, 37, 15, 26, 20,\n",
      "         7, 32, 35, 29, 28, 29, 22,  1, 19, 22, 33,  1, 19, 16,  1,  8, 27, 23,\n",
      "        22,  1, 28, 27, 15, 18,  7, 13,  0,  1, 17, 26, 23, 20, 20, 29, 32, 18,\n",
      "        11,  1, 15, 28, 18,  1, 34, 22, 15, 34,  5, 33,  1, 32, 23, 17, 22, 15,\n",
      "        32, 18,  1, 18, 35, 25, 19,  1, 29, 20,  1, 39, 29, 32, 25,  8, 25, 23,\n",
      "        28, 21,  1, 14,  1, 21, 28, 23, 25,  8, 25, 32, 29, 39,  1, 20, 29,  1,\n",
      "        19, 25, 35, 18,  1, 18, 32, 15, 22, 17, 23, 32,  1, 33,  5, 34, 15, 22,\n",
      "        34,  1, 18, 28, 15,  1, 11, 18, 32, 29, 20, 20, 23, 26, 17,  1, 13,  0,\n",
      "        15, 28, 18,  1, 37, 23, 34, 22,  1, 39, 29, 35, 32,  1, 31, 35, 19, 19,\n",
      "        28,  8,  1, 23,  1, 15, 27,  1, 22, 23, 33,  1, 17, 35, 30, 16, 19, 15,\n",
      "        32, 19, 32, 10, 23, 20,  1, 20, 32, 29, 27,  1, 14,  1, 27, 29, 32, 20,\n",
      "         1, 20, 23, 10, 32, 19, 32, 15, 19, 16, 30, 35, 17,  1, 33, 23, 22,  1,\n",
      "        27, 15,  1, 23,  1,  8, 28, 19, 19, 35, 31,  1, 32, 35, 29, 39,  1, 22,\n",
      "        34, 23, 37,  1, 18, 28, 15, 13,  0, 26, 19, 10, 28, 29, 32, 34, 22, 35,\n",
      "        27, 16, 19, 32, 26, 15, 28, 18,  1, 17, 29, 27, 19, 33,  1, 16, 15, 17,\n",
      "        25,  1, 20, 32, 29, 27,  1, 16, 29, 26, 23, 28, 21, 16, 32, 29, 25, 19,\n",
      "         8, 25, 14, 25,  8, 19, 25, 29, 32, 16, 21, 28, 23, 26, 29, 16,  1, 27,\n",
      "        29, 32, 20,  1, 25, 17, 15, 16,  1, 33, 19, 27, 29, 17,  1, 18, 28, 15,\n",
      "        26, 32, 19, 16, 27, 35, 22, 34, 32, 29, 28, 10, 19, 26, 13,  0,  1, 33,\n",
      "        29,  1, 35, 28, 26, 23, 25, 19,  1, 39, 29, 35, 32, 33, 19, 26, 20, 12,\n",
      "        30, 19, 34, 32, 35, 17, 22, 23, 29, 10, 34, 19, 18, 23, 29, 35, 33,  1,\n",
      "        23, 34,  1, 37, 19, 32, 19,  1, 34, 14, 34,  1, 19, 32, 19, 37,  1, 34,\n",
      "        23,  1, 33, 35, 29, 23, 18, 19, 34, 10, 29, 23, 22, 17, 35, 32, 34, 19,\n",
      "        30, 12, 20, 26, 19, 33, 32, 35, 29, 39,  1, 19, 25, 23, 26, 28, 35,  1,\n",
      "        29, 33,  1, 13,  0, 39,  6,  1, 30, 32, 29, 35, 18,  1, 31, 35, 19, 19,\n",
      "        28,  6,  1, 34, 29,  1, 27, 15, 25, 19,  1, 34, 22, 19, 19,  1, 16, 26,\n",
      "        35, 33, 22,  8, 34, 29,  1, 34, 19, 26, 26,  1, 34, 22, 19, 19,  1, 37,\n",
      "        14, 37,  1, 19, 19, 22, 34,  1, 26, 26, 19, 34,  1, 29, 34,  8, 22, 33,\n",
      "        35, 26, 16,  1, 19, 19, 22, 34,  1, 19, 25, 15, 27,  1, 29, 34,  1,  6,\n",
      "        28, 19, 19, 35, 31,  1, 18, 35, 29, 32, 30,  1,  6, 39, 13,  0, 29, 32,\n",
      "        21, 19, 10, 37, 22, 19, 32, 19,  5, 33])\n"
     ]
    }
   ],
   "source": [
    "# let's now encode the entire text dataset and store it into a torch.Tensor\n",
    "import torch # we use PyTorch: https://pytorch.org\n",
    "data = torch.tensor(encode(text), dtype=torch.long)\n",
    "print(data.shape, data.dtype)\n",
    "print(data[:1000]) # the 1000 characters we looked at earier will to the GPT look like this"
   ]
  },
  {
   "cell_type": "code",
   "execution_count": 12,
   "metadata": {
    "id": "f_WIXqxz0lU5",
    "tags": []
   },
   "outputs": [],
   "source": [
    "# Let's now split up the data into train and validation sets\n",
    "n = int(0.9*len(data)) # first 90% will be train, rest val\n",
    "train_data = data[:n]\n",
    "val_data = data[n:]"
   ]
  },
  {
   "cell_type": "code",
   "execution_count": 13,
   "metadata": {
    "colab": {
     "base_uri": "https://localhost:8080/"
    },
    "id": "TD5Bj8Y6IAD4",
    "outputId": "bf23c586-1d33-4af1-b63d-ce6f90b0a528",
    "tags": []
   },
   "outputs": [
    {
     "data": {
      "text/plain": [
       "tensor([30, 15, 35, 26, 23, 28, 15, 10, 34])"
      ]
     },
     "execution_count": 13,
     "metadata": {},
     "output_type": "execute_result"
    }
   ],
   "source": [
    "block_size = 8\n",
    "train_data[:block_size+1]"
   ]
  },
  {
   "cell_type": "code",
   "execution_count": 14,
   "metadata": {
    "colab": {
     "base_uri": "https://localhost:8080/"
    },
    "id": "9HXDe8vGJCEn",
    "outputId": "588663aa-1de5-4ef7-aba0-4a96fe828353",
    "tags": []
   },
   "outputs": [
    {
     "name": "stdout",
     "output_type": "stream",
     "text": [
      "when input is tensor([30]) the target: 15\n",
      "when input is tensor([30, 15]) the target: 35\n",
      "when input is tensor([30, 15, 35]) the target: 26\n",
      "when input is tensor([30, 15, 35, 26]) the target: 23\n",
      "when input is tensor([30, 15, 35, 26, 23]) the target: 28\n",
      "when input is tensor([30, 15, 35, 26, 23, 28]) the target: 15\n",
      "when input is tensor([30, 15, 35, 26, 23, 28, 15]) the target: 10\n",
      "when input is tensor([30, 15, 35, 26, 23, 28, 15, 10]) the target: 34\n"
     ]
    }
   ],
   "source": [
    "x = train_data[:block_size]\n",
    "y = train_data[1:block_size+1]\n",
    "for t in range(block_size):\n",
    "    context = x[:t+1]\n",
    "    target = y[t]\n",
    "    print(f\"when input is {context} the target: {target}\")"
   ]
  },
  {
   "cell_type": "code",
   "execution_count": 15,
   "metadata": {
    "colab": {
     "base_uri": "https://localhost:8080/"
    },
    "id": "Q3k1Czf7LuA9",
    "outputId": "4ea8e8a0-443c-49bb-b3bf-ba36e1712999",
    "tags": []
   },
   "outputs": [
    {
     "name": "stdout",
     "output_type": "stream",
     "text": [
      "inputs:\n",
      "torch.Size([4, 8])\n",
      "tensor([[ 1,  6, 34, 33, 19, 24,  1, 18],\n",
      "        [32, 16,  1, 32, 23, 19, 22, 34],\n",
      "        [23, 29, 21,  1, 27, 15,  1, 23],\n",
      "        [39,  1, 18, 19, 32, 18, 28, 35]])\n",
      "targets:\n",
      "torch.Size([4, 8])\n",
      "tensor([[ 6, 34, 33, 19, 24,  1, 18, 19],\n",
      "        [16,  1, 32, 23, 19, 22, 34,  1],\n",
      "        [29, 21,  1, 27, 15,  1, 23,  1],\n",
      "        [ 1, 18, 19, 32, 18, 28, 35, 22]])\n",
      "----\n",
      "when input is [1] the target: 6\n",
      "when input is [1, 6] the target: 34\n",
      "when input is [1, 6, 34] the target: 33\n",
      "when input is [1, 6, 34, 33] the target: 19\n",
      "when input is [1, 6, 34, 33, 19] the target: 24\n",
      "when input is [1, 6, 34, 33, 19, 24] the target: 1\n",
      "when input is [1, 6, 34, 33, 19, 24, 1] the target: 18\n",
      "when input is [1, 6, 34, 33, 19, 24, 1, 18] the target: 19\n",
      "when input is [32] the target: 16\n",
      "when input is [32, 16] the target: 1\n",
      "when input is [32, 16, 1] the target: 32\n",
      "when input is [32, 16, 1, 32] the target: 23\n",
      "when input is [32, 16, 1, 32, 23] the target: 19\n",
      "when input is [32, 16, 1, 32, 23, 19] the target: 22\n",
      "when input is [32, 16, 1, 32, 23, 19, 22] the target: 34\n",
      "when input is [32, 16, 1, 32, 23, 19, 22, 34] the target: 1\n",
      "when input is [23] the target: 29\n",
      "when input is [23, 29] the target: 21\n",
      "when input is [23, 29, 21] the target: 1\n",
      "when input is [23, 29, 21, 1] the target: 27\n",
      "when input is [23, 29, 21, 1, 27] the target: 15\n",
      "when input is [23, 29, 21, 1, 27, 15] the target: 1\n",
      "when input is [23, 29, 21, 1, 27, 15, 1] the target: 23\n",
      "when input is [23, 29, 21, 1, 27, 15, 1, 23] the target: 1\n",
      "when input is [39] the target: 1\n",
      "when input is [39, 1] the target: 18\n",
      "when input is [39, 1, 18] the target: 19\n",
      "when input is [39, 1, 18, 19] the target: 32\n",
      "when input is [39, 1, 18, 19, 32] the target: 18\n",
      "when input is [39, 1, 18, 19, 32, 18] the target: 28\n",
      "when input is [39, 1, 18, 19, 32, 18, 28] the target: 35\n",
      "when input is [39, 1, 18, 19, 32, 18, 28, 35] the target: 22\n"
     ]
    }
   ],
   "source": [
    "torch.manual_seed(1337)\n",
    "batch_size = 4 # how many independent sequences will we process in parallel?\n",
    "block_size = 8 # what is the maximum context length for predictions?\n",
    "\n",
    "def get_batch(split):\n",
    "    # generate a small batch of data of inputs x and targets y\n",
    "    data = train_data if split == 'train' else val_data\n",
    "    ix = torch.randint(len(data) - block_size, (batch_size,))\n",
    "    x = torch.stack([data[i:i+block_size] for i in ix])\n",
    "    y = torch.stack([data[i+1:i+block_size+1] for i in ix])\n",
    "    return x, y\n",
    "\n",
    "xb, yb = get_batch('train')\n",
    "print('inputs:')\n",
    "print(xb.shape)\n",
    "print(xb)\n",
    "print('targets:')\n",
    "print(yb.shape)\n",
    "print(yb)\n",
    "\n",
    "print('----')\n",
    "\n",
    "for b in range(batch_size): # batch dimension\n",
    "    for t in range(block_size): # time dimension\n",
    "        context = xb[b, :t+1]\n",
    "        target = yb[b,t]\n",
    "        print(f\"when input is {context.tolist()} the target: {target}\")"
   ]
  },
  {
   "cell_type": "code",
   "execution_count": 16,
   "metadata": {
    "colab": {
     "base_uri": "https://localhost:8080/"
    },
    "id": "qpyyAeIzQjlO",
    "outputId": "a650f8dc-da81-400b-bc59-0a595487fdb9",
    "tags": []
   },
   "outputs": [
    {
     "name": "stdout",
     "output_type": "stream",
     "text": [
      "tensor([[ 1,  6, 34, 33, 19, 24,  1, 18],\n",
      "        [32, 16,  1, 32, 23, 19, 22, 34],\n",
      "        [23, 29, 21,  1, 27, 15,  1, 23],\n",
      "        [39,  1, 18, 19, 32, 18, 28, 35]])\n"
     ]
    }
   ],
   "source": [
    "print(xb) # our input to the transformer"
   ]
  },
  {
   "cell_type": "code",
   "execution_count": 17,
   "metadata": {
    "colab": {
     "base_uri": "https://localhost:8080/"
    },
    "id": "2Num7sX9CKOH",
    "outputId": "929ceb78-a639-41d6-aac7-12997b5c93f0",
    "tags": []
   },
   "outputs": [
    {
     "data": {
      "text/plain": [
       "torch.Size([32, 100])"
      ]
     },
     "execution_count": 17,
     "metadata": {},
     "output_type": "execute_result"
    }
   ],
   "source": [
    "class LayerNorm1d: # (used to be BatchNorm1d)\n",
    "\n",
    "    def __init__(self, dim, eps=1e-5, momentum=0.1):\n",
    "        self.eps = eps\n",
    "        self.gamma = torch.ones(dim)\n",
    "        self.beta = torch.zeros(dim)\n",
    "\n",
    "    def __call__(self, x):\n",
    "        # calculate the forward pass\n",
    "        xmean = x.mean(1, keepdim=True) # batch mean\n",
    "        xvar = x.var(1, keepdim=True) # batch variance\n",
    "        xhat = (x - xmean) / torch.sqrt(xvar + self.eps) # normalize to unit variance\n",
    "        self.out = self.gamma * xhat + self.beta\n",
    "        return self.out\n",
    "\n",
    "    def parameters(self):\n",
    "        return [self.gamma, self.beta]\n",
    "\n",
    "torch.manual_seed(1337)\n",
    "module = LayerNorm1d(100)\n",
    "x = torch.randn(32, 100) # batch size 32 of 100-dimensional vectors\n",
    "x = module(x)\n",
    "x.shape"
   ]
  },
  {
   "cell_type": "code",
   "execution_count": 18,
   "metadata": {
    "colab": {
     "base_uri": "https://localhost:8080/"
    },
    "id": "633T2cmnW1uk",
    "outputId": "7720fa58-0478-4e8a-86a7-502d4cce9443",
    "tags": []
   },
   "outputs": [
    {
     "data": {
      "text/plain": [
       "(tensor(0.1469), tensor(0.8803))"
      ]
     },
     "execution_count": 18,
     "metadata": {},
     "output_type": "execute_result"
    }
   ],
   "source": [
    "x[:,0].mean(), x[:,0].std() # mean,std of one feature across all batch inputs"
   ]
  },
  {
   "cell_type": "code",
   "execution_count": 19,
   "metadata": {
    "colab": {
     "base_uri": "https://localhost:8080/"
    },
    "id": "LN9cK9BoXCYb",
    "outputId": "6368ece0-600e-417d-8a91-7c1e5d750ba8",
    "tags": []
   },
   "outputs": [
    {
     "data": {
      "text/plain": [
       "(tensor(-9.5367e-09), tensor(1.0000))"
      ]
     },
     "execution_count": 19,
     "metadata": {},
     "output_type": "execute_result"
    }
   ],
   "source": [
    "x[0,:].mean(), x[0,:].std() # mean,std of a single input from the batch, of its features"
   ]
  },
  {
   "cell_type": "code",
   "execution_count": 20,
   "metadata": {
    "tags": []
   },
   "outputs": [
    {
     "name": "stderr",
     "output_type": "stream",
     "text": [
      "Failed to detect the name of this notebook, you can set it manually with the WANDB_NOTEBOOK_NAME environment variable to enable code saving.\n",
      "\u001b[34m\u001b[1mwandb\u001b[0m: Logging into wandb.ai. (Learn how to deploy a W&B server locally: https://wandb.me/wandb-server)\n",
      "\u001b[34m\u001b[1mwandb\u001b[0m: You can find your API key in your browser here: https://wandb.ai/authorize\n",
      "\u001b[34m\u001b[1mwandb\u001b[0m: Paste an API key from your profile and hit enter, or press ctrl+c to quit:"
     ]
    },
    {
     "name": "stdin",
     "output_type": "stream",
     "text": [
      "  ········\n"
     ]
    },
    {
     "name": "stderr",
     "output_type": "stream",
     "text": [
      "\u001b[34m\u001b[1mwandb\u001b[0m: Appending key for api.wandb.ai to your netrc file: /home/ec2-user/.netrc\n"
     ]
    },
    {
     "data": {
      "text/html": [
       "Tracking run with wandb version 0.16.1"
      ],
      "text/plain": [
       "<IPython.core.display.HTML object>"
      ]
     },
     "metadata": {},
     "output_type": "display_data"
    },
    {
     "data": {
      "text/html": [
       "Run data is saved locally in <code>/home/ec2-user/SageMaker/work/ml_learnings_playground/notebooks/wandb/run-20231209_085340-cxeszvcj</code>"
      ],
      "text/plain": [
       "<IPython.core.display.HTML object>"
      ]
     },
     "metadata": {},
     "output_type": "display_data"
    },
    {
     "data": {
      "text/html": [
       "Syncing run <strong><a href='https://wandb.ai/sagarjoglekar/basic_inline_string_reversal/runs/cxeszvcj' target=\"_blank\">confused-bird-11</a></strong> to <a href='https://wandb.ai/sagarjoglekar/basic_inline_string_reversal' target=\"_blank\">Weights & Biases</a> (<a href='https://wandb.me/run' target=\"_blank\">docs</a>)<br/>"
      ],
      "text/plain": [
       "<IPython.core.display.HTML object>"
      ]
     },
     "metadata": {},
     "output_type": "display_data"
    },
    {
     "data": {
      "text/html": [
       " View project at <a href='https://wandb.ai/sagarjoglekar/basic_inline_string_reversal' target=\"_blank\">https://wandb.ai/sagarjoglekar/basic_inline_string_reversal</a>"
      ],
      "text/plain": [
       "<IPython.core.display.HTML object>"
      ]
     },
     "metadata": {},
     "output_type": "display_data"
    },
    {
     "data": {
      "text/html": [
       " View run at <a href='https://wandb.ai/sagarjoglekar/basic_inline_string_reversal/runs/cxeszvcj' target=\"_blank\">https://wandb.ai/sagarjoglekar/basic_inline_string_reversal/runs/cxeszvcj</a>"
      ],
      "text/plain": [
       "<IPython.core.display.HTML object>"
      ]
     },
     "metadata": {},
     "output_type": "display_data"
    },
    {
     "data": {
      "text/html": [
       "<button onClick=\"this.nextSibling.style.display='block';this.style.display='none';\">Display W&B run</button><iframe src='https://wandb.ai/sagarjoglekar/basic_inline_string_reversal/runs/cxeszvcj?jupyter=true' style='border:none;width:100%;height:420px;display:none;'></iframe>"
      ],
      "text/plain": [
       "<wandb.sdk.wandb_run.Run at 0x7f59ace4bd90>"
      ]
     },
     "execution_count": 20,
     "metadata": {},
     "output_type": "execute_result"
    }
   ],
   "source": [
    "import wandb\n",
    "wandb_project = 'basic_inline_string_reversal'\n",
    "\n",
    "# hyperparameters\n",
    "batch_size = 32 # how many independent sequences will we process in parallel?\n",
    "block_size = 1200 # what is the maximum context length for predictions?\n",
    "max_iters = 40000\n",
    "eval_interval = 500\n",
    "learning_rate = 1e-4\n",
    "device = 'cuda' if torch.cuda.is_available() else 'cpu'\n",
    "eval_iters = 200\n",
    "n_embd = 512\n",
    "n_head = 4\n",
    "n_layer = 6\n",
    "dropout = 0.0\n",
    "# ------------\n",
    "\n",
    "\n",
    "config = {\n",
    "    \"batch_size\" : batch_size,\n",
    "    \"block_size\" : block_size,\n",
    "    \"max_iters\" : max_iters,\n",
    "    \"eval_interval\" : eval_interval, \n",
    "    \"learning_rate\" : learning_rate, \n",
    "    \"eval_iters\" : eval_iters,\n",
    "    \"n_embd\" : n_embd, \n",
    "    \"n_head\" : n_head, \n",
    "    \"n_layer\" : n_layer,\n",
    "    \"dropout\" : dropout\n",
    "}\n",
    "wandb.init(project=wandb_project, config=config)\n"
   ]
  },
  {
   "cell_type": "markdown",
   "metadata": {
    "id": "ZcvKeBXoZFOY"
   },
   "source": [
    "### Full finished code, for reference\n",
    "Based on Karpathy's code just adapted for the string reversa "
   ]
  },
  {
   "cell_type": "code",
   "execution_count": 22,
   "metadata": {
    "tags": []
   },
   "outputs": [],
   "source": [
    "import torch\n",
    "import torch.nn as nn\n",
    "from torch.nn import functional as F\n",
    "\n",
    "\n",
    "def real_eval(model , eval_samples , df):\n",
    "    samples = df.sample(n=eval_samples)\n",
    "    for index , row in samples.iterrows():\n",
    "        text = row['context']\n",
    "        length = len(text)\n",
    "        context = torch.tensor(encode(text), dtype = torch.long , device = device).view(1,-1)\n",
    "        generations =  decode(m.generate(context, max_new_tokens=len(text) + 10)[0].tolist()).split(\"_\")[-1]\n",
    "        print(f\"Original: {text} \\n\" )\n",
    "        print(f\"reversed: {generations[:length]} \\n\") \n",
    "\n",
    "# data loading\n",
    "def get_batch(split):\n",
    "    # generate a small batch of data of inputs x and targets y\n",
    "    data = train_data if split == 'train' else val_data\n",
    "    ix = torch.randint(len(data) - block_size, (batch_size,))\n",
    "    x = torch.stack([data[i:i+block_size] for i in ix])\n",
    "    y = torch.stack([data[i+1:i+block_size+1] for i in ix])\n",
    "    x, y = x.to(device), y.to(device)\n",
    "    return x, y\n",
    "\n",
    "@torch.no_grad()\n",
    "def estimate_loss():\n",
    "    out = {}\n",
    "    model.eval()\n",
    "    for split in ['train', 'val']:\n",
    "        losses = torch.zeros(eval_iters)\n",
    "        for k in range(eval_iters):\n",
    "            X, Y = get_batch(split)\n",
    "            logits, loss = model(X, Y)\n",
    "            losses[k] = loss.item()\n",
    "        out[split] = losses.mean()\n",
    "    model.train()\n",
    "    return out\n",
    "\n",
    "class Head(nn.Module):\n",
    "    \"\"\" one head of self-attention \"\"\"\n",
    "\n",
    "    def __init__(self, head_size):\n",
    "        super().__init__()\n",
    "        self.key = nn.Linear(n_embd, head_size, bias=False)\n",
    "        self.query = nn.Linear(n_embd, head_size, bias=False)\n",
    "        self.value = nn.Linear(n_embd, head_size, bias=False)\n",
    "        self.register_buffer('tril', torch.tril(torch.ones(block_size, block_size)))\n",
    "\n",
    "        self.dropout = nn.Dropout(dropout)\n",
    "\n",
    "    def forward(self, x):\n",
    "        B,T,C = x.shape\n",
    "        k = self.key(x)   # (B,T,C)\n",
    "        q = self.query(x) # (B,T,C)\n",
    "        # compute attention scores (\"affinities\")\n",
    "        wei = q @ k.transpose(-2,-1) * C**-0.5 # (B, T, C) @ (B, C, T) -> (B, T, T)\n",
    "        wei = wei.masked_fill(self.tril[:T, :T] == 0, float('-inf')) # (B, T, T)\n",
    "        wei = F.softmax(wei, dim=-1) # (B, T, T)\n",
    "        wei = self.dropout(wei)\n",
    "        # perform the weighted aggregation of the values\n",
    "        v = self.value(x) # (B,T,C)\n",
    "        out = wei @ v # (B, T, T) @ (B, T, C) -> (B, T, C)\n",
    "        return out\n",
    "\n",
    "class MultiHeadAttention(nn.Module):\n",
    "    \"\"\" multiple heads of self-attention in parallel \"\"\"\n",
    "\n",
    "    def __init__(self, num_heads, head_size):\n",
    "        super().__init__()\n",
    "        self.heads = nn.ModuleList([Head(head_size) for _ in range(num_heads)])\n",
    "        self.proj = nn.Linear(n_embd, n_embd)\n",
    "        self.dropout = nn.Dropout(dropout)\n",
    "\n",
    "    def forward(self, x):\n",
    "        out = torch.cat([h(x) for h in self.heads], dim=-1)\n",
    "        out = self.dropout(self.proj(out))\n",
    "        return out\n",
    "\n",
    "class FeedFoward(nn.Module):\n",
    "    \"\"\" a simple linear layer followed by a non-linearity \"\"\"\n",
    "\n",
    "    def __init__(self, n_embd):\n",
    "        super().__init__()\n",
    "        self.net = nn.Sequential(\n",
    "            nn.Linear(n_embd, 4 * n_embd),\n",
    "            nn.ReLU(),\n",
    "            nn.Linear(4 * n_embd, n_embd),\n",
    "            nn.Dropout(dropout),\n",
    "        )\n",
    "\n",
    "    def forward(self, x):\n",
    "        return self.net(x)\n",
    "\n",
    "class Block(nn.Module):\n",
    "    \"\"\" Transformer block: communication followed by computation \"\"\"\n",
    "\n",
    "    def __init__(self, n_embd, n_head):\n",
    "        # n_embd: embedding dimension, n_head: the number of heads we'd like\n",
    "        super().__init__()\n",
    "        head_size = n_embd // n_head\n",
    "        self.sa = MultiHeadAttention(n_head, head_size)\n",
    "        self.ffwd = FeedFoward(n_embd)\n",
    "        self.ln1 = nn.LayerNorm(n_embd)\n",
    "        self.ln2 = nn.LayerNorm(n_embd)\n",
    "\n",
    "    def forward(self, x):\n",
    "        x = x + self.sa(self.ln1(x))\n",
    "        x = x + self.ffwd(self.ln2(x))\n",
    "        return x\n",
    "\n",
    "# super simple Transformer decoder model\n",
    "class BasicGPTModel(nn.Module):\n",
    "\n",
    "    def __init__(self):\n",
    "        super().__init__()\n",
    "        # each token directly reads off the logits for the next token from a lookup table\n",
    "        self.token_embedding_table = nn.Embedding(vocab_size, n_embd)\n",
    "        self.position_embedding_table = nn.Embedding(block_size, n_embd)\n",
    "        self.blocks = nn.Sequential(*[Block(n_embd, n_head=n_head) for _ in range(n_layer)]) #Super interesting way to use list composition to create the whole structure. \n",
    "        self.ln_f = nn.LayerNorm(n_embd) # final layer norm\n",
    "        self.lm_head = nn.Linear(n_embd, vocab_size)\n",
    "\n",
    "    def forward(self, idx, targets=None):\n",
    "        B, T = idx.shape\n",
    "\n",
    "        # idx and targets are both (B,T) tensor of integers\n",
    "        tok_emb = self.token_embedding_table(idx) # (B,T,C)\n",
    "        pos_emb = self.position_embedding_table(torch.arange(T, device=device)) # (T,C)\n",
    "        x = tok_emb + pos_emb # (B,T,C)\n",
    "        x = self.blocks(x) # (B,T,C)\n",
    "        x = self.ln_f(x) # (B,T,C)\n",
    "        logits = self.lm_head(x) # (B,T,vocab_size)\n",
    "\n",
    "        if targets is None:\n",
    "            loss = None\n",
    "        else:\n",
    "            B, T, C = logits.shape\n",
    "            logits = logits.view(B*T, C)\n",
    "            targets = targets.view(B*T)\n",
    "            loss = F.cross_entropy(logits, targets)\n",
    "\n",
    "        return logits, loss\n",
    "\n",
    "    def generate(self, idx, max_new_tokens):\n",
    "        # idx is (B, T) array of indices in the current context\n",
    "        for _ in range(max_new_tokens):\n",
    "            # crop idx to the last block_size tokens\n",
    "            idx_cond = idx[:, -block_size:]\n",
    "            # get the predictions\n",
    "            logits, loss = self(idx_cond)\n",
    "            # focus only on the last time step\n",
    "            logits = logits[:, -1, :] # becomes (B, C)\n",
    "            # apply softmax to get probabilities\n",
    "            probs = F.softmax(logits, dim=-1) # (B, C)\n",
    "            # sample from the distribution\n",
    "            idx_next = torch.multinomial(probs, num_samples=1) # (B, 1)\n",
    "            # append sampled index to the running sequence\n",
    "            idx = torch.cat((idx, idx_next), dim=1) # (B, T+1)\n",
    "        return idx"
   ]
  },
  {
   "cell_type": "code",
   "execution_count": 28,
   "metadata": {
    "tags": []
   },
   "outputs": [
    {
     "name": "stdout",
     "output_type": "stream",
     "text": [
      "19.562537 M parameters\n"
     ]
    }
   ],
   "source": [
    "torch.manual_seed(1337)\n",
    "import os\n",
    "out_dir = \"./checkpoints/\"\n",
    "\n",
    "sentences = [] \n",
    "with open(\"output_data_1000.txt\",\"r\") as f:\n",
    "    sentences = f.readlines()\n",
    "\n",
    "text = \"\".join(sentences)\n",
    "\n",
    "# here are all the unique characters that occur in this text\n",
    "chars = sorted(list(set(text)))\n",
    "vocab_size = len(chars)\n",
    "# create a mapping from characters to integers\n",
    "stoi = { ch:i for i,ch in enumerate(chars) }\n",
    "itos = { i:ch for i,ch in enumerate(chars) }\n",
    "encode = lambda s: [stoi[c] for c in s] # encoder: take a string, output a list of integers\n",
    "decode = lambda l: ''.join([itos[i] for i in l]) # decoder: take a list of integers, output a string\n",
    "\n",
    "# Train and test splits\n",
    "data = torch.tensor(encode(text), dtype=torch.long)\n",
    "n = int(0.9*len(data)) # first 90% will be train, rest val\n",
    "train_data = data[:n]\n",
    "val_data = data[n:]\n",
    "\n",
    "model = BasicGPTModel()\n",
    "m = model.to(device)\n",
    "# print the number of parameters in the model\n",
    "print(sum(p.numel() for p in m.parameters())/1e6, 'M parameters')\n",
    "\n",
    "# create a PyTorch optimizer\n",
    "optimizer = torch.optim.AdamW(model.parameters(), lr=learning_rate)"
   ]
  },
  {
   "cell_type": "code",
   "execution_count": 29,
   "metadata": {
    "tags": []
   },
   "outputs": [],
   "source": [
    "%store -r data_df_1000"
   ]
  },
  {
   "cell_type": "code",
   "execution_count": null,
   "metadata": {
    "colab": {
     "base_uri": "https://localhost:8080/"
    },
    "id": "hoelkOrFY8bN",
    "outputId": "961304cd-e379-40d4-dd56-8de0b91d2861",
    "tags": []
   },
   "outputs": [
    {
     "name": "stdout",
     "output_type": "stream",
     "text": [
      "19.562537 M parameters\n",
      "step 0: train loss 3.8841, val loss 3.8841\n",
      "Original: ave; besides an argosythat now is lying in marseilles' road.what, have i choked you with an argosy?tranio:gremio, 'tis known my father hath no lessthan three great argosies; besides two galliase_ \n",
      "\n",
      "reversed: ;tuz h.qeb! \n",
      "\n",
      "step 500: train loss 2.6993, val loss 2.7000\n",
      "Original: cius?brutus:he has no equal.sicinius:when we were chosen tribunes for the people,--brutus:mark'd you his lip and eyes?sicinius:nay. but his taunts.brutus:being moved, he will not spare to gird the gods.sicinius:be-mock the modest moon.brutus:the present wars devour him: he is growntoo proud to be so valiant.sicinius:such a nature,tickled with good success, disdains the shadowwhich he treads on at noon: but i do wonderhis insolence can brook to be commandedunder cominius.brutus:fame, at the which he aims,in whom already he's well graced, can notbetter be held nor more attain'd than bya place below the first: for what miscarriesshall be the general's fault, though he performto the utmost of a man, and giddy censurewill then cry out of marcius 'o if hehad borne the business!'sicinius:besides, if things go well,opinion that so sticks on marcius shallof his demerits rob cominius.brutus:come:half all cominius' honours are to marcius.though marcius earned them not, and all his faultsto marcius shall be honours, though indeedin aught he merit not.sicinius:let's hence, and hearhow the dispatch is made, and in what fashion,more than his singularity, he goesupon this present action.brutus:lets along.first senator:so, your opinion is, aufidius,that they of rome are entered in our counselsand know how we proceed.aufidius:is it not yours?what ever have been thought on in this state,that could be brought to bodily act ere romehad circumvention? 'tis not four days gonesince i heard thence; these are the words: i think_ \n",
      "\n",
      "reversed: nrirwi yag htndaeng h ellemerhti u-ali onita g t rotri e ilafoccralid ohid s aj it w-lruotool m emodluruoh na;; oof ure:toc a i yonsihc ,lld nob?s i si ,sefihtiso! ihaleldi:s y sreunehtceb fforte til e byoyolif he sethtot tc !leht ol ednnosphew.ssw vacue ehssan !reh ;r urt.emoivaldseelistw.w yht ; fouotiuste wo m ili egcnrorak:a s g:tt eldenusa h.t h cn d eh dirivoreviowougnnahs t top sai ?tathts isand d k mssuifirat:aht t s evt d psivej :oubuteaeht;skndewtiwsts uouksist,d,s at dehisanafoy rem ed rracnol s a a ! e bats ouod ,a b olat l golle i ,modnuemgnedntaleg gnilerneas'te ston a utdelidl goffldakuoesito atharo m ff te ap oroedah hseeaht nona evayosec doros a , tni hw m dnedot, hrece g, aviw uotsrar mehteredaherohtaworameyar d, enoh ydo,iutom f e ;ehtnopup tutst ,ac tre tiniy;bovawa:aiyrer e , ocractt,d neps isone malberonorekcar ewe eresm oowuf h sll rgb bun d i asiflb den ehg atoway dd kch susi mecem ty wnagrouohtee d my endisah epahivest a y reevoubalow ah gnaehapt, vel t eb avaitednayllrollirdlif!nkroot msls helisatb e w rorafika hilamaht fecol peo o irl y k; tht.isnaorauowodsuer evehe t yon ln:s bseis l, ana inp s:cofevereht y t g uomitnet gnooh d eeth rt amrah rerhtuo,sae seru d ge:kcouspm:ropsoyhi , maht m toh fllfickaerakenim mudne s.rdola o : dneto a soyodalath.thena^\n",
      "mathehimaheree t om dlkcnal tet ffiiss woicerjei til&le saxteinuo.louf moser soure. y kichweheegethemevewhigreldnd ,a,ak:iyowanango, ehe reg ed lfe elllouss:tike rl yamst  \n",
      "\n",
      "step 1000: train loss 2.5685, val loss 2.5708\n",
      "Original: ut! believe me, sir,it carries a brave form. but 'tis a spirit.prospero:no, wench; it eats and sleeps and hath such sensesas we have, such. this gallant which thou seestwas in the wreck; and, but he's something stain'dwith grief that's beauty's canker, thou mightst call hima goodly person: he hath lost his fellowsand strays about to find 'em.miranda:i might call hima thing divine, for nothing naturali ever saw so noble.prospero:ferdinand:most sure, the goddesson whom these airs attend! vouchsafe my prayermay know if you remain upon this island;and that you will some good instruction givehow i may bear me here: my prime request,which i do last pronounce, is, o you wond_ \n",
      "\n",
      "reversed: ten y agrecrf ououonef ,d'rolpr r,s etht so semona m n eno eru sarb d'na d!dlasillen d ediw en seuo r a:aw'is alaht ,rtserehtxeevi:net s'oya d ,en e oh et t lenahc ,evet ehte.rahttsineh fow,eh ssno eyatulc:niwoni gni a'sucnikufiwoddet nraskiwerg mbogm y snev;gimitawola dnah ereh usinenird' edsdesa em giegna dnteis s ih re noub ^\n",
      " buo chad thine ussp:tld came nth myo f ghe my m qugrxt ond rshis rovefeathethis beere f o hit:sth l ncr pren t ar f fle m wise n s bothedu omume line h o a:schau,on t the, henovar thoofor arkisuce sdo fssee t acanone bllacauthedetthartheas thim hyof my larchinonsinos,and kan isure whalply otshan,tou ss s o f t,i'sticeal ithathororend iurot sto \n",
      "\n",
      "step 1500: train loss 2.4590, val loss 2.4598\n",
      "Original: ut! believe me, sir,it carries a brave form. but 'tis a spirit.prospero:no, wench; it eats and sleeps and hath such sensesas we have, such. this gallant which thou seestwas in the wreck; and, but he's something stain'dwith grief that's beauty's canker, thou mightst call hima goodly person: he hath lost his fellowsand strays about to find 'em.miranda:i might call hima thing divine, for nothing naturali ever saw so noble.prospero:ferdinand:most sure, the goddesson whom these airs attend! vouchsafe my prayermay know if you remain upon this island;and that you will some good instruction givehow i may bear me here: my prime request,which i do last pronounce, is, o you wond_ \n",
      "\n",
      "reversed:  y tse saltotesthe il sto tothe gereray tebre hando so d ed coush.jestas hanoryond m che isiesathawen rt!nglindve an:o nd beldere whtone tachansptounthokille la, toullcce t inkiutus, venoonothensale?semeingnouge yotig assillf s,th tht wes d chiri ipld al cuon nd thoniodd:hi:way gnos y:ithyats le y bulan \n",
      "\n",
      "step 2000: train loss 2.1508, val loss 2.1503\n",
      "Original: peevish fool was that of crete,that taught his son the office of a fowl!an yet, for all his wings, the fool was drown'd.king henry vi:i, daedalus; my poor boy, icarus;thy father, minos, that denied our course;the sun that sear'd the wings of my sweet boythy brother edward, and thyself the seawhose envious gulf did swallow up his life.ah, kill me with thy weapon, not with words!my breast can better brook thy dagger's pointthan can my ears that tragic history.but wherefore dost thou come? is't for my life?gloucester:think'st thou i am an executioner?king henry vi:a persecutor, i am sure, thou art:if murdering innocents be executing,why, then thou art an executioner.gloucester:thy son i kill'd for his presumption.king henry vi:hadst thou been kill'd when first thou didst presume,thou hadst not lived to kill a son of mine.and thus i prophesy, that many a thousand,which now mistrust no parcel of my fear,and many an old man's sigh and many a widow's,and many an orphan's water-standing eye--men for their sons, wives for their husbands,and orphans for their parents timeless death--shall rue the hour that ever thou wast born.the owl shriek'd at thy birth,--an evil sign;the night-crow cried, aboding luckless time;dogs howl'd, and hideous tempest shook down trees;the raven rook'd her on the chimney's top,and chattering pies in dismal discords sung.thy mother felt more than a mother's pain,and, yet brought forth less than a mother's hope,to wit, an indigested and deformed lump,not like the fruit of such a goodly tree.teeth hadst thou in thy head when thou wast born,to signify thou camest to bite the world:and, if the rest be true which i have heard,thou camest--gloucester:i'll hear no more: die, prophet in thy speech:for this amon_ \n",
      "\n",
      "reversed: leiarb yah sekatiht diym vih fo ekab ro?ihg:repsrubytsruih kih ni etslaiard?dna yat ri foc eht !onis eg not rofe eeht fi eki:neht.konk fi,mornkc derro si ehtahtrb tal nuoh eknik sa -htup twahw ssi evia yckuonk ecirp ra tief yahw gnaht ni sb fot sereduohs;niw fa ma ekeviwy dneli \n",
      "\n",
      "step 2500: train loss 1.9556, val loss 1.9587\n",
      "Original: oard; but she, good soul, had as liefsee a toad, a very toad, as see him. i anger hersometimes and tell her that paris is the propererman; but, i'll warrant you, when i say so, she looksas pale as any clout in the versal world. doth notrosemary and romeo begin both with a letter?romeo:ay, nurse; what of that? both with an r.nurse:ah. mocker! that's the dog's name; r is forthe--no; i kn_ \n",
      "\n",
      "reversed: setaw eht ,em lllew i kaeht eh i dlraw gnida tsum taht:erorga.eiulavrb o.revieb i ,swon eb nuoht,eidua;ycuop ,ron:aitiimac.tey foexik trahgerbmu drahstrap ,nodrelc.mocs ruo ecat evah eht ,diaf i:aniciral?egatsab eht slkaug i si dna!namtaf dna hciw ;eeht dna i ,worcaeg i htahw ew ;essuoh dnaht 'i :no ts'eyorp:lahc eb ehs.tahnerusucap s'tahw erom nehw;sem evorb rof no eht,ris ruowa s'na ; \n",
      "\n",
      "step 3000: train loss 1.8223, val loss 1.8212\n",
      "Original: letters know our drift,and hither shall he come: and he and iwill watch thy waking, and that very nightshall romeo bear thee hence to mantua.and this shall free thee from this present shame;if no inconstant toy, nor womanish fear,abate thy valour in the acting it.juliet:give me, give me! o, tell not me of fear!friar laurence:hold; get you gone, be strong and prosperousin this resolve: i'll send a friar with speedto mantua, with my letters to thy lord.juliet:love give me strength! and strength shall help afford.farewell, dear father!capulet:so many guests invite as here are writ.sirrah, go hire me twenty cunning cooks.second servant:you shall have none ill, sir; for i'll try if theycan lick their fingers.capulet:how canst thou try them so?second servant:marry, sir, 'tis an ill cook that cannot lick hisown fingers: therefore he that cannot lick hisfingers goes not with me.capulet:go, be gone.we shall be much unfurnished for this time.what, is my dau_ \n",
      "\n",
      "reversed: tselt dna ,pless a fo rietsum drof htuo kcarw,eee gnirots ot senow evah taht,eno ,emaz sik odib retsem ydaoh ehtmaf eb gnifarg eh refew a sitab ton neht tahw:kciwraw eradd.droy htabs ,rettihw.suot :sawalliwox ta& neeugnoruoht ton erehtaed-gneirorg:karoy raus dna toht?kaef elbilaf ym gnis redrah ooh:tseil draefe das reb:sedlu,tseruhc fo neht llahs gnirrfsinac yht ekil morfoc i ekart---won metf reraew--yht eht,hciw yrrn?dnuowa i woh dna itnaed ynaps a aht:eturbaw trowt elpuc ra i tey,af satriub gnol ,rof.esaht yhsiw dlof siht taht hguorb reeb no tub?llauf eb yas dwhcenk em erehc:ydre---on:hguorbht.teecrep yht rief setom ruoy edil deld dog.eliv enimsi o:oihcurtruorl.daog siy^\n",
      "r? nigy, hip elong; it wanicher for mine?but aware now faul nat an shall,king to mught, he do this dearting mock,with 'have must mainks:thenk oundes coull; antur it tout cassove that you st:to tweritld?yhugh barroway, i hute of sase.seconsable ever oneman, sir, at thee so of twak \n",
      "\n",
      "step 3500: train loss 1.7263, val loss 1.7290\n",
      "Original: ll themfor what i bid them do: for we bid this be done,when evil deeds have their permissive passand not the punishment. therefore indeed, my father,i have on angelo imposed the office;who may, in the ambush of my name, strike home,and yet my nature never in the fightto do in slander. and to behold his sway,i will, as 'twere a brother of your order,visit both prince and people: therefore, i prithee,supply me with the habit and instruct mehow i may formally in person bear melike a tru_ \n",
      "\n",
      "reversed: itceped ym wollots emah neht telpat llaheg ym rhctiecrom'nu htah esoll'i rof,deed esuoh tsael ,tsom uoy htroneb ot esuac uoht ;llew yhw,ris ,uoht tepen ,llahs lliw erew saw luftneb eht:oitnepusnoc a sih won.worram tahw delra ni ,yan !llairb ,koor ,yaw .hcaw dna ,uoy ,on ni :yquorit!koorbytrej ot lla saebatrah.ereh eb evas dna ;teerh s'llet ,taht llahs uoy swolloof ydalgror esa,oem dlog ,ohw:oimurt.uoy ot morf ma ,kiov ylna i?deirammo ton s'yam ,llew:oicul.ydam os teel fo sa thguad sa  \n",
      "\n",
      "step 4000: train loss 1.6644, val loss 1.6638\n",
      "Original: peevish fool was that of crete,that taught his son the office of a fowl!an yet, for all his wings, the fool was drown'd.king henry vi:i, daedalus; my poor boy, icarus;thy father, minos, that denied our course;the sun that sear'd the wings of my sweet boythy brother edward, and thyself the seawhose envious gulf did swallow up his life.ah, kill me with thy weapon, not with words!my breast can better brook thy dagger's pointthan can my ears that tragic history.but wherefore dost thou come? is't for my life?gloucester:think'st thou i am an executioner?king henry vi:a persecutor, i am sure, thou art:if murdering innocents be executing,why, then thou art an executioner.gloucester:thy son i kill'd for his presumption.king henry vi:hadst thou been kill'd when first thou didst presume,thou hadst not lived to kill a son of mine.and thus i prophesy, that many a thousand,which now mistrust no parcel of my fear,and many an old man's sigh and many a widow's,and many an orphan's water-standing eye--men for their sons, wives for their husbands,and orphans for their parents timeless death--shall rue the hour that ever thou wast born.the owl shriek'd at thy birth,--an evil sign;the night-crow cried, aboding luckless time;dogs howl'd, and hideous tempest shook down trees;the raven rook'd her on the chimney's top,and chattering pies in dismal discords sung.thy mother felt more than a mother's pain,and, yet brought forth less than a mother's hope,to wit, an indigested and deformed lump,not like the fruit of such a goodly tree.teeth hadst thou in thy head when thou wast born,to signify thou camest to bite the world:and, if the rest be true which i have heard,thou camest--gloucester:i'll hear no more: die, prophet in thy speech:for this amon_ \n",
      "\n",
      "reversed: mus os elbaredegatnarac egnuoy dartahc derf dnanebtarts a htiw dna ,emon neve hcihw:nolfworp?yap uoy htah reven otemos,hctra seil ,tnarob seniht dna s'retnellim ehs dna;srehpehs tsniagnu ot ni drolbmocsni eht seldneirf,ecalp a :em yb peek ot:eneh ton htah sloc od uoy ereht hceew.euga eht htiw esaer yrep ,esle fo!esab naht llew ,efil fo raefed.gnip !dnab sremoc flewen esooot eht d'reh yas sih htiw dna;esrus ,ro ?yad llahs ema,eltegnavi tnegeh neve esohw ,ekil si rof ,pu evig ,ecnew:setnecnereps tsrap ma uoy elbab on ;ekil delbmuht ,taem mih ton fo ',mednevolf gnik ,siht dluowyrom dna,naicinom sirpab repoh snaelitanirepsi saw i tsnelef eht;eciol yarp meht tsnef gnien nedba dnuow dna ,suineuqilon eht,suinim.eeht lliw dna ;i tub.gnip mees ruo lliw s'emoc s'egad seil pmrussnoc eht hctarg o:suineneam evah i ni :retneh fowt reh fi niesym eb tnewsrednik ria uoy kaeps ,eeht ta ,egot eht fo ekud siht sutt'i llahs ,evol aregnahcton sih hgisrepmi ti,mod os nanis lla ;sertsim nos owt dluowsnis a nehw saw nehwdoorf ,do saw no ,uoy eht:eniuag neeuq daheh snrow,fo yarp a ylw^\n",
      "hows lifmasiancome mother; stann's had this disol, behold of earth to happhere sing bittors, all my; whichangs nevery to entruther's poinshoriblen that in againt, you hall with itt rive.coriolanus:mock, but princent bribice fathed, nother, which hang glith charged;nooths he son't thy worlook,here warm,which frial beforemanion forious has solnery to hearphul, come talking thees receil, what for murany.lady of say all's,shalf bour holth, thou i possafer.remianes:it by mare my;and anger, by had come;but metal brate to when?once for those to thinks-he slay will our heach were bind the fole!and is anned, the is and tunkenshined bary fiolike, with come i woe.katham; i m \n",
      "\n",
      "step 4500: train loss 1.6105, val loss 1.6109\n",
      "Original: ereign, with all speed.king henry vi:my lord of somerset, what youth is that,of whom you seem to have so tender care?somerset:my liege, it is young henry, earl of richmond.king henry vi:come hither, england's hope.if secret powerssuggest but truth to my divining thoughts,this pretty lad_ \n",
      "\n",
      "reversed: y;acnarohti fo pordraw eht :rehto na etsaht reh ot:aimeb ,dog sit',ris ,yhw:sulacna sselc!rotan !eertsis:iii demer fo dog:nezag ro on ton sdlrow enerw sa ll'eh,drow ro ,hguor sa wen ,mllahs ,drow eht si tniarts sah ybhtolb on llahs ym :esuac siwa:ma doog ot rehton gnirb mih nac ton erad  \n",
      "\n",
      "step 5000: train loss 1.5666, val loss 1.5681\n",
      "Original: en years,let two more summers wither in their pride,ere we may think her ripe to be a bride.paris:younger than she are happy mothers made.capulet:and too soon marr'd are those so early made.the earth hath swallow'd all my hopes but she,she is the hopeful lady of my earth:but woo her, gentle paris, get her heart,my will to her consent is but a part;an she agree, within her scope of choicelies my consent and fair according voice.this night i hold an old accustom'd feast,whereto i have invited many a guest,such as i love; and you, among the store,one more, most welcome, makes my number more.at my poor house look to behold this nightearth-treading stars that make dark heaven light:such comfort as do lusty young men feelwhen well-apparell'd april on the heelof limping winter treads, even such delightamong fresh female buds shall you this nightinherit at my house; hear all, all see,and like her most whose merit most shall be:which on more view, of many mine being onemay stand in number, though in reckoning none,come, go with me.go, sirrah, trudge aboutthrough fair verona; find those persons outwhose names are written there, and to them say,my house and we_ \n",
      "\n",
      "reversed: shginamel ew esaes:teiluj.mih ot ot gnod eltnitpop a:retsecuolg.napmun evah roamep sit',htrofmoc ew llit,knos thguoht:namhctaw yht eergrevos fo tissuorc ;esroh ,emoc fo tsenissucca s'nammoc riaf:sretsecuolg:noitam.dlo ,edivol tsom dnal tfel dna ,ytrap:ecsah:eurtriv dehcni rehwse yltiripsni ym:retsum.tenroc ekat uoy :reh emoc llahsep.ytip sgnirraep pu ym nos selc eheurih pihsswonk eht fi,dneirf htiw fo em tup sa tsap hcihw ees nam ew ot tihw nwodnus sraet ni fod rehtom on mih tub:nezititib evaeh ,tra uoy!eugnorw !kaeps on wollohw .gnillof rehtiene htiw fo txiwre^\n",
      "ughts us here stop occas,beiners, but as slace.henry me.sitile-my lord, there: take peace the royaation, and here! dehe, bianternes,that thy father it thoughsove she woes'd answear and hear,and tranitmento joud'd of you,were too.true the either owilt thou a mark had not wilt.milio:now, provosent sheded itsoh what to that isand eyes:god doth give thou thy would upon,of shart on.henry both herpastianswicking thy say have mouch-parts thesehold. where here?escor go, man; 'bares?lease sleep, still like mide him i '' necit, he would low nobjeries had the deeper,year, thou leads are thou theesessiti \n",
      "\n",
      "step 5500: train loss 1.5318, val loss 1.5353\n",
      "Original: hey should exhibit their petitions in the street?escalus:he shows his reason for that: to have a dispatch ofcomplaints, and to deliver us from deviceshereafter, which shall then have no power to standagainst us.angelo:well, i beseech you, let it be proclaimed betimesi' the morn; i'll call you at your house: givenotice to such men of sort and suit as are to meethim.escalus:i shall, sir. fare you well.angelo:good night.this deed unshapes me quite, makes me unpregnantand dull to all proceedings. a deflower'd maid!and by an eminent body that enforcedthe law against it! but th_ \n",
      "\n",
      "reversed: --tub:setum.tnema lrah uoy dna ;ris ,o:reredrep.i ,uoy tub,teewt .regnol ta!ya:retsecuolg.taht s'nammoc tsrif a ,ris ,os regnagad yht:ecnerual fo regu kniht saw iydobsid ym yalpmas os!ecalbi os nac ?eviloc ,namot esroh rof gnizahc si egnivah ylliw sserdloc gniraeh ym:emohs llet sekahs eroma dna ytneicsni siht.desnevo dlo maeg ni egaruoc sihw.ecnaruonoh eht ecid yam dluohs gniht i ,rehtaeh ni reh os ,nialliv-dlob namow retsaf yht ot htiw retter diam esoprup nem dnaertxehs reh ruoy rednet ruoy fi ti ,ydob sllipup ruoy dna ,etats ssertsim loniugreeht:ytseuq.drol yht ni retteb \n",
      "\n",
      "step 6000: train loss 1.5032, val loss 1.5048\n",
      "Original: ut my body's length.why, what is pomp, rule, reign, but earth and dust?and, live we how we can, yet die we must.somerset:ah, warwick, warwick! wert thou as we are.we might recover all our loss again;the queen from france hath brought a puissant power:even now we heard the news: ah, could'st thou fly!warwick:why, then i would not fly. ah, montague,if thou be there, sweet brother, take my hand.and with thy lips keep in my soul awhile!thou lovest me not; for, brother, if thou didst,thy tears would wash this cold congealed bloodthat glues my lips and will not let me speak.come quickly, montague, or i am dead.somerset:ah, warwick! montague hath breathed his last;and to the latest gasp cried out for warwick,and said 'commend me to my valiant brother.'and more he would have said, and more he spoke,which sounded like a clamour in a vault,that mought not be distinguished; but at lasti well might hear, delivered with a groan,'o, farewell, warwick!'warwick:sweet rest his soul! fly, lords, and save yourselves;for warwick bids you all farewell to meet in heaven.oxford:away, away, to meet the queen's great power!3 king henry viking edward iv:thus far our fortune keeps an upward course,and we are graced with wreaths of victory.but, in the midst of this bright-shining day,i spy a black, suspicious, threatening cloud,that will encounter with our glorious sun,ere he attain his easeful western bed:i mean, my lords, those powers that the queenhath raised in gallia have arrived our coastand, as we hear, march on to fight with us.clarence:a little gale will soon disperse that cloudand blow it to the source from whence it came:the very beams will dry those vapours up,for every cloud engenders not a storm.gloucester:the queen is valued thirty thousand strong,and somerset, with oxford fled to her:if she have time to breathe be well assu_ \n",
      "\n",
      "reversed:  dlo ta mees eht sdrawohsul hcusnoc.sit' retsua namelbus ofdays dnalgnednussnigde:dnah stselday in fo dloc adnif a mineew htrot ekil eb morehs wonnging-seencnieneht elixe reh to s;dnurs annrow tab albrave tarwand'stsom tne rehtas of ekil.reider ton tsufer's syaw,hus ere ot, emoceder neels ymerge:no muserhy dotnes-death doto hcurnt ehtires styrem;unded, rewab in eeht weild ,eb ym ,yob hcus:ydal do ekin llac htis,thgin-ot, d'yob dna sdneint eht ,ta s'rep r^\n",
      "ing again, up are off, twere i a tearr sir,are have hourand so your i wordship: the creption,whose 'voucest, and to meet people.did me, and yet,as i heremof the givethee, my licking  \n",
      "\n",
      "step 6500: train loss 1.4752, val loss 1.4772\n",
      "Original: .marry, would the word 'farewell' have lengthen'd hoursand added years to his short banishment,he should have had a volume of farewells;but since it would not, he had none of me.king richard ii:he is our cousin, cousin; but 'tis doubt,when time shall call him home from banishment,whether our kinsman come to see his friends.ourself and bushy, bagot here and greenobserved his courtship to the common people;how he did seem to dive into their heartswith humble and familiar courtesy,what reverence he did throw away on slaves,wooing poor craftsmen with the craft of smilesand patient underbearing of his fortune,as 'twere to banish their affects with him.off goes his bonnet to an oyster-wench;a brace of draymen bid god speed him welland had the tribute of his supple knee,with _ \n",
      "\n",
      "reversed:  yb mih evob ot spihsoorp eht elbib a no nevig morf eht '.ris ,ris ,ylirnu ,htetirps s'rethguad tiunom dettam evas:teiluj.elcnu rieht llemuos eht taeb reiht ta fo esiug eht adna ,etitib s'nailsnu fo pu evah dna llac ew ;llew ew mra i taht ebab ,deecs ,noitapor yrethgim fo slleweraf eht ,ya:niaga fo pihsdew aey esle yb.deecnifnoc ym egnahcsid ,llik ym tsum dah dna ,etub eht,ti fo s'tnanelapprocs ot dna htgits ot,tnemglic ydoolb tlub !rommulov sih yb ,elcnu;ediseberusaem drol enim slayor ym woh:detsopsid ym ,ti ,snruoma neht emoc:yaws ym erusu--gnikaw-ot noitisnoc gnipeelp samoh ekam llahs roytseuqer-a tel ,ya:ob ytisek regred rof sdrewop ym noinosimer erew dah:os hteerfmos nameltneg eht htiw senkool a tsevlesmi yrolg sawt':eeht fo ruoh ruo,kceew saw o:os em sdrow llaef t \n",
      "\n",
      "step 7000: train loss 1.4480, val loss 1.4504\n",
      "Original: oard; but she, good soul, had as liefsee a toad, a very toad, as see him. i anger hersometimes and tell her that paris is the propererman; but, i'll warrant you, when i say so, she looksas pale as any clout in the versal world. doth notrosemary and romeo begin both with a letter?romeo:ay, nurse; what of that? both with an r.nurse:ah. mocker! that's the dog's name; r is forthe--no; i kn_ \n",
      "\n",
      "reversed: m i ,rof ,lrae :tsovorp.gnila elttil i woh tertsah yb !deifsitcara ,lufiraf ym ,knits--niallusne eb tnemalfnoc ekud.ric siht ,raldaw ?em tsurtsih erehwes eurt;tsah uoht evol si,madam:ollednari.dneirf s'rehtaf ruo wal ot ,taht sthguanirg rof ;nosrep rehto evig!pud ,pets ,sdneirf a,ekurts i ,revola uoy klew.ton deirf i taht senisub uoht;retne rof ot eldnocs llit ruo ,nam og dna ,tlabyt os \n",
      "\n",
      "step 7500: train loss 1.4189, val loss 1.4215\n",
      "Original: .marry, would the word 'farewell' have lengthen'd hoursand added years to his short banishment,he should have had a volume of farewells;but since it would not, he had none of me.king richard ii:he is our cousin, cousin; but 'tis doubt,when time shall call him home from banishment,whether our kinsman come to see his friends.ourself and bushy, bagot here and greenobserved his courtship to the common people;how he did seem to dive into their heartswith humble and familiar courtesy,what reverence he did throw away on slaves,wooing poor craftsmen with the craft of smilesand patient underbearing of his fortune,as 'twere to banish their affects with him.off goes his bonnet to an oyster-wench;a brace of draymen bid god speed him welland had the tribute of his supple knee,with _ \n",
      "\n",
      "reversed:  suolpmoc tub eh taht si :drehpek tonnac dnar sregnurtsni dluohs efirhtafdeerh dnales-erots rehtaf yht ot flesrevoc erewt' erofereht ot dnemmoc sih ;mih hcnew od,sdaeps erew hguorb ll'i tahwytrof sih si?citnarp tahw tahw taht,mih htiw porerf dnasuorw ninecton dna sihyarp eht ecneis ot sa:setne eht dnuos thgil:tesremos yht tsniagami eh 'i:mahgnikrip.wollewos seriht hgih eniht dlureporp eht eniht htuoy never,era stnachcir rof ,d'hctarcsnar tsol uoht .og .yrnepo og nhoj oot maerd i:tsohw ehs ,repeek ehs hctah dna morfdla eht ot flah ta fi :tsrif?gniht loofgnidnem ot kniht uoy neve dedid ym-tub dluowerac evah uoywa taht ,o:tesrem on ,emoc:teiuq.uoy ro sdneirf ,ereh ylih ees:tesrunev eros esrun dnasuoht dleh ot yertib eno tesroh i enod aim?dnalgnitsab htiw riah hcihw ,gnisna \n",
      "\n",
      "step 8000: train loss 1.3868, val loss 1.3862\n",
      "Original: ill our friends prove all true?ratcliff:no doubt, my lord.king richard iii:o ratcliff, i fear, i fear,--ratcliff:nay, good my lord, be not afraid of shadows.king richard iii:by the apostle paul, shadows to-nighthave struck more terror to the soul of richardthan can the substance of ten thousand soldiersarmed in proof, and led by shallow richmond.it is not yet near day. come, go with me;under our tents i'll play the eaves-dropper,to see if any mean to shrink from me.lords:good morrow, richmond!richmond:cry mercy, lords and watchful gentlemen,that you have ta'en a tardy sluggard here.lords:how have you slept, my lord?richmond:the sweetest sleep, and fairest-boding dreamsthat ever enter'd in a drowsy head,have i since your departure had, my lords.methought their souls, whose bodies richard murder'd,came to my tent, and cried on victory:i promise you, my soul is very jocundin the remembrance of so fair a dream.how far into the morning is it, lords?lords:upon the stroke of four.richmond:why, then 'tis time to arm and give direction.more than i have said, loving countrymen,the leisure and enforcement of the timeforbids to dwell upon: yet remember this,god and our good cause fight upon our side;the prayers of holy saints and wronged souls,like high-rear'd bulwarks, stand before our faces;richard except, those whom we fight againsthad rather have us win than him they follow:for what is he they follow?  truly, gentlemen,a bloody ty_ \n",
      "\n",
      "reversed: h fleweraf:yerrusnoclicnirp.sejaf rehtona ot dna ssevol eht nosle,hturt tseb erew ew erehw ton;swees ruoy eraf tloves dna sih;gniogatna sa saw ni raf hcus ot tnegrof;nevaels dna rennam reh sevilehwnamer ym dna:erohs tsrif.thgin-gnigniyad an \n",
      "\n",
      "step 8500: train loss 1.3515, val loss 1.3517\n",
      "Original: bushy:why have you not proclaim'd northumberlandand all the rest revolted faction traitors?green:we have: whereupon the earl of worcesterhath broke his staff, resign'd his stewardship,and all the household servants fled with himto bolingbroke.queen:so, green, thou art the midwife to my woe,and bolingbroke my sorrow's dismal heir:now hath my soul brought forth her prodigy,and i, a gasping new-deliver'd mother,have woe to woe, sorrow to sorrow join'd.bushy:despair not, madam.queen:who shall hinder me?i will despair, and be at enmitywith cozening hope: he is a flatterer,a parasite, a keeper back of death,who gently would dissolve the bands of life,which false hope lingers in extremity.green:here comes the duke of york.queen:with signs of war about his aged neck_ \n",
      "\n",
      "reversed: kcen ylnee eht gae uoy ot skees fo ehs hcihw,gninregguts dega sngis ohw,sregne eht tsniap dna ,stne eht retae s' eeht si teg.timmih nopu s'ereht ,yegna ta yadegreb eht naem evilep os,naem dna ,traeppa a sseldaed taht dna,efil degnahc yltneg layed sih:dnab yht ni si ,efil tsuht dna ,epoh ,ydaer:iv yrneh gnik.dnabsed elttom ot sarae feifil nureves taed nigeb sih ylniap eslaf dna;niaga fo drol yhtneg eht gnirhsedew rieht fo dega a sihtla deepsed evah drawdetsum won dna,yticsyadegnirab neeuq taed yltra uoht ,dna,dnal stnias fo laew ssemoc hcihw,tlabyht fo tnas eht ot niereht neeuq yhtrof tohmiwerapmemed a tahw seveirg ym ot ,on:sgnitsah,ngised;nials rairf dna na oitneved sih detrohs ot gnidneird eht dna swollaf tcefni ym gniritsinimoc ,retcetnuoc htih tiurf ew ev \n",
      "\n",
      "step 9000: train loss 1.3185, val loss 1.3194\n",
      "Original: od, not we, hath plagued thy bloody deed.queen elizabeth:so just is god, to right the innocent.hastings:o, 'twas the foulest deed to slay that babe,and the most merciless that e'er was heard of!rivers:tyrants themselves wept when it was reported.dorset:no man but prophesied revenge for it.buckingham:northumberland, then present, wept to see it.queen margaret:what were you snarli_ \n",
      "\n",
      "reversed: liranran:oitnecnever dnaryartnes arew devre si eht ,ees ew .srehporp re'erewt',nialliranes ,tneserp i ti erew ,i yalsrever saw nehw rair ti snevaeh ,sraeh nam rehtruolof mohw yals eht otdahrea ytub uoy esrohdareh htiw os:dle htah sselicirp roop reidlooh revir eht fo tub stnemaicer ree' ruolof eht otdoolb ylippah saw taht ,eeht rof tegrof.worro ni eno paeye rof ydoolb yht yb,sreth \n",
      "\n",
      "step 9500: train loss 1.2800, val loss 1.2863\n",
      "Original: d banquet them?lucentio:basta; content thee, for i have it full.we have not yet been seen in any house,nor can we lie distinguish'd by our facesfor man or master; then it follows thus;thou shalt be master, tranio, in my stead,keep house and port and servants as i should:i will some other be, some florentine,some neapolitan, or meaner man of pisa.'tis hatch'd and shall be so: tranio, at _ \n",
      "\n",
      "reversed: tilopaerp fo sit'.enitnerolf eb napaelfloob sa tilluj ot emos ,emos sit'.nam ,eennitrop sa daets ym nam ro ;enitrop esuoh sa diatporp eranelopaegnitnetrop sa s'taht eb eso \n",
      "\n",
      "step 10000: train loss 1.2470, val loss 1.2469\n",
      "Original:  banish their affects with him.off goes his bonnet to an oyster-wench;a brace of draymen bid god speed him welland had the tribute of his supple knee,with 'thanks, my countrymen, my loving friends;'as were our england in reversion his,and he our subjects' next degree in hope.green:well, he is gone; and with him go these thoughts.now for the rebels which stand out in ireland,expedient manage must be made, my liege,ere further leisure yield them further meansfor their advantage and your highness' loss.king richard ii:we will ourself in person to this war:and, for our coffers, wi_ \n",
      "\n",
      "reversed: meht rof kcoc uorhc uoht erasruo laesruo liw ere ,nrof krof eulye lliw ere,enog e \n",
      "\n",
      "step 10500: train loss 1.2106, val loss 1.2116\n",
      "Original: spirator:sir, his stoutnesswhen he did stand for consul, which he lostby lack of stooping,--aufidius:that i would have spoke of:being banish'd for't, he came unto my hearth;presented to my knife his throat: i took him;made him joint-servant with me; gave him wayin all his own desires; nay,_ \n",
      "\n",
      "reversed: ';serised nwo sih lla nwo sih lla nwo sih lla nwo sih evag ,lanih kcih ekot i :krow mih evael nwo sih ekorts nees;dnwo rednimam ekops eh ,siudifuac ekop siniab nezoj meht aevah dluow i taht:suidifua--,tsol eh taht:rotag--,diarp i taht:suidifua--,evah llew ,kcalnessentuots nehw d'yortebo sih \n",
      "\n",
      "step 11000: train loss 1.1874, val loss 1.1938\n",
      "Original: ill our friends prove all true?ratcliff:no doubt, my lord.king richard iii:o ratcliff, i fear, i fear,--ratcliff:nay, good my lord, be not afraid of shadows.king richard iii:by the apostle paul, shadows to-nighthave struck more terror to the soul of richardthan can the substance of ten thousand soldiersarmed in proof, and led by shallow richmond.it is not yet near day. come, go with me;under our tents i'll play the eaves-dropper,to see if any mean to shrink from me.lords:good morrow, richmond!richmond:cry mercy, lords and watchful gentlemen,that you have ta'en a tardy sluggard here.lords:how have you slept, my lord?richmond:the sweetest sleep, and fairest-boding dreamsthat ever enter'd in a drowsy head,have i since your departure had, my lords.methought their souls, whose bodies richard murder'd,came to my tent, and cried on victory:i promise you, my soul is very jocundin the remembrance of so fair a dream.how far into the morning is it, lords?lords:upon the stroke of four.richmond:why, then 'tis time to arm and give direction.more than i have said, loving countrymen,the leisure and enforcement of the timeforbids to dwell upon: yet remember this,god and our good cause fight upon our side;the prayers of holy saints and wronged souls,like high-rear'd bulwarks, stand before our faces;richard except, those whom we fight againsthad rather have us win than him they follow:for what is he they follow?  truly, gentlemen,a bloody ty_ \n",
      "\n",
      "reversed: rebna s'ert s'ereht :drofxina s'ereht :vi doow lahs uoht no gninisub eh ronac na s'ereh hcnan roces od rohcna na s'ereht :me' s'ereht hcna na s'ereht ;gninihsnu lahs uoy,nisuoc nisuoc na s'ereht :gninnu s'eritsni erih od ruoh enimne nisuoc nisuoc nisuoc naip,ssnoc tnegred ruoh enim na s'ereht :meh ni ylf doog nisuoc nezinni ym enimni enim naos enim anisulbo niap,noisuc od ria ruoh tsni enim naco naissnuoc noya ti .ris ,snoine fo noseb os ?noitned sih os drol:suinem dnuob sih ol eid na htnob nos noigeru su ruoy ruomre'o ruov \n",
      "\n",
      "step 11500: train loss 1.1587, val loss 1.1645\n",
      "Original: confine thee,by help of her more potent ministersand in her most unmitigable rage,into a cloven pine; within which riftimprison'd thou didst painfully remaina dozen years; within which space she diedand left thee there; where thou didst vent thy groansas fast as mill-wheels strike. then was this island--save for the son that she did litter here,a freckled whelp hag-born--not honour'd witha human shape.ariel:yes, caliban her son.prospero:dull thing, i say so; he, that calibanwhom now i keep in service. thou best know'stwhat torment i did find thee in; thy groansdid make wolves howl and penetrate the breastsof ever angry bears: it was a tormentto lay upon the damn'd, which sycoraxcould not again undo: it was mine art,when i arrived and heard thee, that made gapethe pine and let thee out.ariel:i thank thee, master.prospero:if thou more murmur'st, i will rend an oakand peg thee in his knotty entrails tillthou hast howl'd away twelve winters.ariel:pardon, master;i will be correspondent to commandand do my spiriting gently.prospero:do so, and after two daysi will discharge thee.ariel:that's my noble master!what shall i do? say what; what shall i do?prospero:go make thyself like a nymph o' the sea: be subjectto no sight but thine and mine, invisibleto every eyeball else. go take this shapeand hither come in't: go, hence with diligence!awake, dear heart, awake! thou hast slept well; awake!miranda:the strangeness of your story putheaviness in me.prospero:shake it off. come on;we'll visit caliban my slave, who neveryields us kind answer.miranda:'tis a villain, sir,i do not love to look on.prospero:but, as 'tis,we cannot miss him: he does make our fire,fetch in our wood and serves in officesthat profit us. what, ho! slave! caliban!thou earth, thou! speak.caliban:prospero:come forth, i say! there's other_ \n",
      "\n",
      "reversed:  kaed uoht  ,seye ruonoh fo ruonoh eht ot keud eht tub ;seye ruonoh fo ekud eht htob sruonoh fo eno eno at gnieesye reh,htguadual eht ot gniees-eerhh,yals ll'i ,ylpireh,ee ssik uoy yals ll'i ,seireh,htregneilreh,yals ll'i ,seertuoc  \n",
      "\n",
      "step 12000: train loss 1.1407, val loss 1.1481\n",
      "Original: spirator:sir, his stoutnesswhen he did stand for consul, which he lostby lack of stooping,--aufidius:that i would have spoke of:being banish'd for't, he came unto my hearth;presented to my knife his throat: i took him;made him joint-servant with me; gave him wayin all his own desires; nay,_ \n",
      "\n",
      "reversed: ,seirresiresid nwo sih lla nwo sih lla niyaw mih edam;mih evag ;em htiw tnavres detnes--tnioj mih edam;mih ekam ym otnu ekops emac eh ,t'rof d'hsinab gnieb:vord peekop sinab gniopoots taht:htuos fo kcal ybsinab gnipoots fo kcal ybtsol eh htah:snoc rotiarts deeh hcal ybtsum i sah ,ris:ris ,s \n",
      "\n",
      "step 12500: train loss 1.1291, val loss 1.1282\n",
      "Original: .marry, would the word 'farewell' have lengthen'd hoursand added years to his short banishment,he should have had a volume of farewells;but since it would not, he had none of me.king richard ii:he is our cousin, cousin; but 'tis doubt,when time shall call him home from banishment,whether our kinsman come to see his friends.ourself and bushy, bagot here and greenobserved his courtship to the common people;how he did seem to dive into their heartswith humble and familiar courtesy,what reverence he did throw away on slaves,wooing poor craftsmen with the craft of smilesand patient underbearing of his fortune,as 'twere to banish their affects with him.off goes his bonnet to an oyster-wench;a brace of draymen bid god speed him welland had the tribute of his supple knee,with _ \n",
      "\n",
      "reversed:  htiw,eenk lepsu sih fo eutetubirt eht dnallaw eht dib nemyar-llew mih deeps dnallew mih deeps dnallew mih dib nemyard fo;hcnew-retsymnelc rieht htiw seog fo.mih htiw stfarc rieht hsinab ot erewt' sa,enutrof sih fo tneitap dnasla fo txarc roop gniow,selims fo troper tfarc rof stcbarf did eh ecnerever tahw,straeh laimenereh htiwstraeh rieht ot mees dna ecnerever tahw,struoc sih dna evid nommuh htiwstruoc sih dna emoc sawtsruoc sih dna namsnik reht,togab ruoy rot;sdneirf sih emoc namsnik ruo emoh moh moh llac llac llahs emit nehw,tbuod sit' tub ;nisuoc ruo sit' tub ;nisuoc ,nisuoc ruo si eh:ii drahcir gnieb ;derised eb ,ton:ybhgim ,ybred eb evires ot,ybrevol rof dluow i dna laer os yam,ybred ,o:enoimreh.drol ym ,ah:kroy fo ssehcrics.meht devresed eb i yam os taht ^\n",
      "rused  \n",
      "\n",
      "step 13000: train loss 1.1187, val loss 1.1179\n",
      "Original: a man, young lady! lady, such a manas all the world--why, he's a man of wax.lady capulet:verona's summer hath not such a flower.nurse:nay, he's a flower; in faith, a very flower.lady capulet:what say you? can you love the gentleman?this night you shall behold him at our feast;read o'er the volume of young paris' face,and find delight writ there with beauty's pen;examine every married lineament,and see how one another lends contentand what obscured in this fair volume liesfind written in the margent of his eyes.this precious book of love, this unbound lover,to beautify him, only lacks a cover:the fish lives in the sea, and 'tis much pridefor fair without the fair within to hide:that book in many's eyes doth share the glory,that in gold clasps locks in the golden story;so shall you share all that he doth possess,by having him, making yourself no less.nurse:no less! nay, bigger; women grow by men.lady capulet:speak briefly, can you like of paris' love?jul_ \n",
      "\n",
      "reversed: lupac yfirap on s'yarp ahtdlu.nomelosel uoy nemow ;reggib ,ylfeirb kaeps:telupac ydal.ni sel on flesruoy gnikam ,ylflesruoy gnivah yb won lla eht htod erahs os;yrots ni taht lla erahs os!yrots dlog eht nikam ,yrots nikam ,aes ot ni taht:edih ot ni koob taht,yrolg eht erahs ot ni tuohtiw lahs os;yrolg eht erahs ot niaf riaf eht ethtuoy eht:evol fo koob tuohtiw rofedirp hcum skcal ni sacklac ylno ,lebod siht.seye s'tententegram eht ni ni tnegram emulov riaf siht.sseil luov rehtona eno woh ees dnattnetnoc sdnel rehtona enil dnatnemaenil deriaf sdnel rehtona enil deirram yreve niem enimnednatsram ym tsniaga pohs rehtona,htgnerts rehtona ot ecnirp ehs sa si tros^\n",
      "to their poor presently.go senators:you cannot pleasu suffer tedious at it.go, no less in woman: yet dukes, of their boot.isabella:you beseech as thou must miss my captuation advantage, fist thou werst.the spectaction'st daintic still some and him:what spite, paulina:it will should did him; you must \n",
      "\n",
      "step 13500: train loss 1.1007, val loss 1.1038\n",
      "Original: o dry he was for sway--wi' the king of naplesto give him annual tribute, do him homage,subject his coronet to his crown and bendthe dukedom yet unbow'd--alas, poor milan!--to most ignoble stooping.miranda:o the heavens!prospero:mark his condition and the event; then tell meif this might be a brother.miranda:i should sinto think but nobly of my grandmother:good wombs have borne bad sons.prospero:now the condition.the king of naples, being an enemyto me inveterate, hearkens my brother's suit;which was, that he, in lieu o' the premisesof homage and i know not how much tribute,should presently extirpate me and mineout of the dukedom and confer fair milanwith all the honours on my brother: whereon,a treacherous army levied, one midnightfated to the purpose did antoni_ \n",
      "\n",
      "reversed: inotna did esoprup eprup esorehw :rehtorb ym no ,edis detafthginotna detafftigro dim rairf riaf riaf riaf rehtorb ym nerefnoc dna em edivel yltneserp dna em evirtapretawih ot dna etaprep dluohs,enim refnoc dna egamoh foserp riaf rotitneverp redwiw;tubirt hcum wonk i dna em won woh taht ,snrehtraeh ,etarettievni emoselpan won:orerpsorp.suitidnoc em otylbon kniht otymene na gnieb ,selpan fo tub kniht otym fo ylbon tub kniht otidnoc eb tub kniht od!narg ym fo ylbon tsinis dluohs:marim.moht i: dnarg eb thgim sih kram:orepsorp!sneve eht dna o::adnarim.mirgmi tsom ongiwon :dnarim.gnipoots elbongi tsom eht erusiel si ,yrtnuoc eb:reredrum a tsomma;egairram tsom ym morf tup uoy,egaruocsim tsrif:adnim.snrut hsivirts ym ekam uoy etaloiroc s'ros tcelgen rof ymd'crab siht nah \n",
      "\n",
      "step 14000: train loss 1.0921, val loss 1.0890\n",
      "Original: is father's house.mercutio:a challenge, on my life.benvolio:romeo will answer it.mercutio:any man that can write may answer a letter.benvolio:nay, he will answer the letter's master, how hedares, being dared.mercutio:alas poor romeo! he is already dead; stabbed with awhite wench's black eye; shot through the ear with alove-song; the very pin of his heart cleft with theblind bow-boy's butt-shaft: and is he a man toencounter tybalt?benvolio:why, what is tybalt?mercutio:more than prince of cats, i can tell you. o, he isthe courageous captain of compliments. he fights asyou sing prick-song, keeps time, distance, andproportion; rests me his minim rest, one, two, andthe third in your bosom: the very butcher of a silkbutton, a duellist, a duellist; a gentleman of thevery first house, of the first and second cause:ah, the immortal passado! the punto reverso! thehai!benvolio:the what?mercutio:the pox of such antic, lisping, affectingfantasticoes; these new tuners of accents! 'by jesu,a very good blade! a very tall man! a very goodwhore!' why, is not this a lamentable thing,grandsire, that we should be thus afflicted withthese strange flies, these fashion-mongers, theseperdona-mi's, who stand so much on the new form,that they cannot at ease on the old bench? o, theirbones, their bones!benvolio:here comes romeo, here comes romeo.mercuti_ \n",
      "\n",
      "reversed: itucrem.oemor semor semor semoc ereh:oilovneb!snoilovneb ,oilovneb:oilovneb!semor suht ereh ,o ?tseliht regnarts eht ,semoc erom--nodrabnon suht eseht ,seil suht egnarts egnoronnac yeht si ,seiflah suht egnarts esehthtiw detcilffa suht egnarts eseht ,suht edilpabetnemal a siht ,erisdnarg,gniht ton suht eb dluohs ew taht ,erohwdoog yrev a !edalb doog yrev a !nam llat yrev a,seoctitceffa ,secaf srenut eseht ;seca fo peh otnafgnitceffa ,gnipsidtnac poh tontuoces fo pom hcnaem;tolibon knirf i eht ,ah:oilovneb!iaht eht ,ah:esuoh tsrif eht ,os ,esuac dna tsrif eht fo ,esuoh srif yreve fo ,esuoh sih tub:aniluap.meht tsrif gnivlig sih tsom eh htiw dellab ti nevig dahelpir hcnerf uoy,esuoh os tahw thgiew i ,ris:oilovneb.redisnoc eht ot esuorevos s'eh sa tahtem dna,tegrof s'retseced a eh neve sa,won yad os os:olimac.meht fo srehcturc eht neve htah ot meht ni su si ereht :evil dna ym nopu thguaf ruoy ni sa taht evah os ton ,rethguad ym ,on ?evah t^\n",
      " thee have forsworn in thou wast name, subject not more that bared ill; suchrase i willnot nor on my and make oncessases: enjoure makes in my grace;botto could sleep in proud the night to and more;and stong in them wholesome have a france in sasure against sore-so views up.friar laurence:unnay, jesu! i did that wortho you hope of my brother?pember:i your hope shall now that have my proceed;and \n",
      "\n",
      "step 14500: train loss 1.0720, val loss 1.0781\n",
      "Original:  rome;and so to tripoli, if god lend me life.tranio:what countryman, i pray?pedant:of mantua.tranio:of mantua, sir? marry, god forbid!and come to padua, careless of your life?pedant:my life, sir! how, i pray? for that goes hard.tranio:'tis death for any one in mantuato come to padua. know you not the cause?your ships are stay'd at venice, and the duke,for private quarrel 'twixt your duke and him,hath publish'd and proclaim'd it openly:'tis, marvel, but that you are but newl_ \n",
      "\n",
      "reversed: lwen tub era uoy tub ,levram ,sit':ylnepo t' lerrauq era uoy taht,mih d'piwt' lerrauq etavirp ruoy tahh,mih dna ekud rof,ecinev ton uoy wonk .autnam ni evarp ot emoc ta!ecinev ton uoy wonk .audap ot emoc ot emoc ot emoc ot eno yna rof htaed sit';uoy kat rof ,i ,woh !ris ,efil ym:tnadep?efil ym:tnadep?efil ym:tnadep?efil ruoy fo sselerac ,audap ot emoc dna!dibrof dog ,uoy fo :fo:tnadep?yarp i ,nam fo:tnadnammyrt.efil em d'bam tahw:oitnart.efil em dnel dna ,i ,liaf:egap?uoy ts \n",
      "\n",
      "step 15000: train loss 1.0677, val loss 1.0686\n",
      "Original: lows up incessant showers,and when the rage allays, the rain begins.these tears are my sweet rutland's obsequies:and every drop cries vengeance for his death,'gainst thee, fell clifford, and thee, falsefrenchwoman.northumberland:beshrew me, but his passion moves me sothat hardly can i cheque my eyes from tears.york:that face of his the hungry cannibalswould not have touch'd, would not have stain'd with blood:but you are more inhuman, more inexorable,o, ten times more, than tigers of hyrcania.see, ruthless queen, a hapless father's tears:this cloth thou dip'dst in blood of my sweet boy,and i with tears do wash the blood away.keep thou the napkin, and go boast of this:and if thou tell'st the heavy story right,upon my soul, the hearers will shed tears;yea even my foes will shed fast-falling tears,and say 'alas, it was a piteous deed!'there, take the crown, and, with the crown, my curse;and in thy need such comfort come to theeas now i reap at thy too cruel hand!hard-hearted clifford, take me from the world:my soul to heaven, my blood upon your heads!northumberland:had he been slaughter-man to all my kin,i should not for my life but weep with him.to see how inly sorrow gripes his soul.queen margaret:what, weeping-ripe, my lord northumberland?think but upon the wrong he did us all,and that will quickly dry thy melting tears.clifford:here's fo_ \n",
      "\n",
      "reversed: fo s'ereh:droffilc.sraet gnitlem yvlokciuq lliw taht dna,luos s'ereh:dnalrebmuhtron drol ylni woh ees ot.mih htiw tub eb em htiw peew tub eh dluow eh dnarebmuhtron dluohs i,ni woh efil ym rof ton dah:dnalrebmuhtron!sdaorht 'o efil ym rof tub eh dluos ym ruo?sdaeh ruoy nopu doolb ym lla ot nopu dah:dnalrebmuhtron!sdaeh ruoy nopu doolb ym ,nevaeh ot luos ym ,nevaeh ot luos ym:droffilc droffilc derot em eem ekat ,drofmoc htiw ,dorfmoc htiw ,nwo saeeht ot emoc hcus deen yht ni dna;esruc ym ,nworc eht ekat ,nworc eht ekat ,ereht'!deed suoetip a saw ti ,sala-tsaf dehs lliw seof ym neve aey;sraet gnilliw sa eenk sa ,dertah rof--tsal eht was i ;dog ot a ,rof a trap deldnacsiht otezac a eb dna ;oemor dna sa hcus kcaj sih selims dluohs i tub ;em ym ton ,o?wef rod drow degnorw eht raggeb a htiw drawniatrec no eerht gnillecxe eb i ;etit sit' ,on:droffilc.nem nemo^\n",
      "cardinal instrum, know, but what two rage?and so disjussion bed aloneld to mini with her!hestings:why thoughts look me no other, 't--romeo, now to outthat bragg'd.gremio:sir, if youthat you, sir:commend watch you, and i had been grownding is 'government alive.tranio:speak authter, friends a montague,and advantage of might-gory.gremio:smile--gremio:there's tame in the mistook live, is a worthy dram.to make you, indeed, sir; as this, faith in't.romeo:true, madam.querche:plot.katharina:i have  \n",
      "\n",
      "step 15500: train loss 1.0490, val loss 1.0529\n",
      "Original: im and notchedhim like a carbon ado.second servingman:an he had been cannibally given, he might havebroiled and eaten him too.first servingman:but, more of thy news?third servingman:why, he is so made on here within, as if he were sonand heir to mars; set at upper end o' the table; noquestion asked him by any of the senators, but theystand bald before him: our general himself makes amistress of him: sanctifies himself with's hand andturns up the white o' the eye to his discourse. butthe bottom of the news is that our general is cut i'the middle and but one half of what he wasyesterday; for the other has half, by the entreatyand grant of the whole table. he'll go, he says,and sowl the porter of rome gates by the ears: hewill mow all down before him, and leave his passage polled.second servingman:and he's as like to do't as any man i can imagine.third servingman:do't! he will do't; for, look you, sir, he has asmany friends as enemies; which friends, sir, as itwere, durst not, look you, sir, show themselves, aswe term it, his friends whilst he's in directitude.first servingman:directitude! what's that?third servingman:but when they shall see, sir, his crest up again,and the man in blood, they will out of theirburrows, like conies after rain, an_ \n",
      "\n",
      "reversed: na ,niar retfa seinoc ekil ,sworretfa sih ,ris ,lebirra retfa sih ,ris ,eutticerid:namgnivres driht?taht s'h ehh tub:namgnivres tsrif.eutditude!etuditutcerid ni sevlesmeht wohs ,loihc s'eh tsrif sdneirefirgeroicerd sih ,ton tsrif s'eh tremlesohw sa ,sevlesmeht wohs ,ris ,uoy kool ,ris ,od ews ,ris ,od:namgnivers ,sdneirf hcihw ;semienerif rof !t'od lliw eh !t'od:namgnivres driht.enigami nac i nam ynam ynam ynam ynasma sa sih eres dna:namgnivres driht.enigami nac i nam yna s'eh dna:namgnivres dnoces.dellop evael dna ,mih erofeb nwod lla oegassap setag edom lliwehs eht wos dna,suoelb oemor fo tuo mra desselb uoht fi.tsnammoc taht yerrac riehtruf a tpord;enola dneirf sih pu sgnileers eht ,sdog semit yb dna ecneserp sih hsiw won?daorba detab s'drahcir htiw:daorbpa os demaf sreyarf dloc neht saw htiw ,em raef:ii drahcir gnik.yad ruof tnassium ni tnasaelp em hctef yats,pu raef gnitnuoc ,em ot raef si tnelic,syad yht si eman em woh dna;daorba lliw i ,si tseirujni ni ,enotsed doog:daer--?sdrol g^\n",
      "en fellots! call ass! but thursday!gentlemen:o my sovereign, widow! do your spoilsh!montague:o monstrous money. stang thee,that you are with you husband?sicinies:and what i scratch must that;if you alse?first must intents thou have noble creation a search, h \n",
      "\n",
      "step 16000: train loss 1.0458, val loss 1.0486\n",
      "Original: l the subjects that you have,which first was mine own king: and here you sty mein this hard rock, whiles you do keep from methe rest o' the island.prospero:thou most lying slave,whom stripes may move, not kindness! i have used thee,filth as thou art, with human care, and lodged theein mine own cell, till thou didst seek to violatethe honour of my child.caliban:o ho, o ho! would't had been done!thou didst prevent me; i had peopled elsethis isle with calibans.prospero:abhorred slave,which any print of goodness wilt not take,being capable of all ill! i pitied thee,took pains to make thee speak, taught thee each hourone thing or other: when thou didst not, savage,know thine own meaning, but wouldst gabble likea thing most brutish, i endow'd thy purposeswith words that made them known. but thy vile race,though thou didst learn, had that in't whichgood naturescould _ \n",
      "\n",
      "reversed:  dah ,nrael t'ni taht dluocserutan dooghcesrutan dah ,nrael taht dooghcihw tsdid uoht,esoprup yht d'wonk meht edam tsdluow tisweitutrit htiwsselporpur einame fo eniht wonk,ekil eniht aekil eniht ereht wonk,egavas ,ton thginnaem nwo eb laeps eht enoruoh hcae eniht esonruoh hcae enoruoh hcae enoruoh hcae eeht esliap koot,eeht elbac gnieb,elbaca fo elbaca fo lla fo elbapac gnieb,elsi lla fo tliw snabiliahc ,elsile drehorbailhc ton t'dleis sihtesle dah i ;em neeb ddah '?eb dlihc ym fo ruonoh ehtetaloiv tsdid uoht!etaliolac.dlihc ym fo ruonoh ehtetaloiv ot kees tsdid uoht llit ,llec nwo enim nowweno enim noissapmoc tsum uoht ;syas ot no ton sih,ksilims tsum i:sirap!evol sruobal suaenam ,siebab ruo na rof ,hcihw:tnavr^\n",
      "l the grief inthood ruin, whose likely,as might be leaving with grief my mind.this is the king is his short. the volscesby: rest thou likener sigeians \n",
      "\n",
      "step 16500: train loss 1.0281, val loss 1.0307\n",
      "Original: er?duke of york:peace, foolish woman.duchess of york:i will not peace. what is the matter, aumerle.duke of aumerle:good mother, be content; it is no morethan my poor life must answer.duchess of york:thy life answer!duke of york:bring me my boots: i will unto the king.duchess of york:strike him, aumerle. poor boy, thou art amazed.hence, villain! never more come in my sight.duke of york:give me my boots, i say.duchess of york:why, york, what wilt thou do?wilt thou not hide the trespass of thine own?have we more sons? or are we like to have?is not my teeming date drunk up with time?and wilt thou pluck my fair son from mine age,and rob me of a happy mother's name?is he not like thee? is he not thine own?duke of york:thou fond mad woman,wilt thou conceal this dark conspiracy?a dozen of them here have ta'en the sacrament,and interchangeably set down their hands,to kill the king at oxford.duchess of york:he shall be none;we'll keep him here: then what is that to him?duke of york:away, fond woman! were he twenty times my son,i would appeach him._ \n",
      "\n",
      "reversed: .mih hcapeba dluow i,nos ytnew eh erew ,yawa:kroy fo semit ytneh peek ll'ew;enon eh mih peek llahs eht ll'ew;nameracs a?yblayekud?mracracs ats eht nwod tahw nwod tni dna,tnemarcas evah eht ne'at eht naegnahcretni dna,tnemarcas eht ne'at evah eht ne'at ebabecnoc uoht tes ylbaecnoc uoht tliw,namow dam dna ?ycas eh siht laecnoc uoht tliw,nam dam drak siht ton ekud?nwo eniht ton eh si ?eman si?eman s'rehtom yppah fo enim morf nos riaf ym kculp ot--em rairf nos riaf ym knurd em ot etag dna?emit htiw pu knird eht ym ton si?etad gnimeet ym ton imeet ym weh erof ssapsert era ro ?snos eht edih htod uoht tliw:tirapsed ot detraehem tsaw uoht?trows ro ,gnorw wollof dluow uoy era deirrac ;llits eht neht ,htiaf:ii drahcir gnik.yr^\n",
      "more hands not?hangs more stainer'd,than holdon shown his young?hastings:must horour eyes?hastings:give me saw'twith the most full of what eyes.i hear, madam, for i saw hangmade in tesumedman me theirof roar, whom,no double my brother.extruchmbers:ay, a prithers, thou, gentle lips pride.prospero:i hope tack hurt thy to-day? t \n",
      "\n",
      "step 17000: train loss 1.0165, val loss 1.0199\n",
      "Original: d banquet them?lucentio:basta; content thee, for i have it full.we have not yet been seen in any house,nor can we lie distinguish'd by our facesfor man or master; then it follows thus;thou shalt be master, tranio, in my stead,keep house and port and servants as i should:i will some other be, some florentine,some neapolitan, or meaner man of pisa.'tis hatch'd and shall be so: tranio, at _ \n",
      "\n",
      "reversed:  ta ,oinart :os eb llahs dna d'hctah sit'.asip fo nam renaem ro ,natilopaen emos ,eb ro ,natilopaen emos ,eb rehto emos lliw i:dluohs i sa stnavres dna trop dna trop dna esuoh peek,deluohs i swollof ti ni ,oinart ,retsam ro neht ;sretsam ro nam rofsecaf ruo yb d'hsiugnitsid eil ew nam ron,esuoh yna neeb ton evah ew.luf ti evah i rof ,eeht tnetnoc ;atsitpab:oitnecnitrap delf eb dna ,taht; \n",
      "\n",
      "step 17500: train loss 1.0058, val loss 1.0042\n",
      "Original: e for mouths, that the gods sent notcorn for the rich men only: with these shredsthey vented their complainings; which being answer'd,and a petition granted them, a strange one--to break the heart of generosity,and make bold power look pale--they threw their capsas they would hang them on the horns o' the moon,shouting their emulation.menenius:what is granted them?marcius:five tribunes to defend their vulgar wisdoms,of their own choice: one's junius brutus,sicinius velutus, and i know not--'sdeath!the rabble should have first unroof'd the city,ere so prevail'd with me: it will in timewin upon power and throw forth greater themesfor insurrection's arguing.menenius:this is strange.marcius:go, get you home, you fragments!messenger:where's caius marcius?marcius:here: what's the matter?messenger:the news is, sir, the volsces are in arms.marcius:i am glad on 't: then we shall ha' means to ventour musty superfluity. see, our best elders.first senator:marcius, 'tis true that you have lately told us;the volsces are in arms.marcius:they have a leader,tullus aufidius, that will put you to 't.i sin in envying his nobility,and were i any thing but what i am,i would wish me only he.cominius:you have fought together.marcius:were half to half the world by the ears and he.upon my party, i'ld revolt to makeonly my wars with him: he is a lionthat i am proud to hunt.first senator:then, worthy marcius,attend upon cominius to these wars.cominius:it is your former promise.marcius:sir, it is;and i am constant. titus lartius, thoushalt see me once more strike at tullus' face.what, art thou stiff? stand'st out?titus:no, caiu_ \n",
      "\n",
      "reversed: utitson :suitraht ,on:sutit?tuo suitral sutit?tuo ta em ekirts ecno ew erom ecno eht tit?tuo tsuitrb ma i tahw.ecaf suicram yhtrow ,neht:rotanes tsrif.tnuh ot suinimoc ot si ti:suinimoc.sraw eseht ot suinicram yhtrow ,neht:rotanes tsrif.tnuh ot duorp ma i tahtnoil a srae eh :mih htiw sraw ylnoekoipu.eh drol a srae eh:mih htiw srae eht yb dlover dil a si erew:suicram.rehtegot thguof em srae evah uoy:suinimoc.eh ylno em hsiw dluow i tahw tub gniht yna evah uoy:suinimoc.eh yna i tahw tub gniht yna erew dna,ytilibon sih gniyvne ni ni nits i.ti ot uoy tup lliw tup lliw taht ,sulut,redeailc a evah yeht:suinimoc?eb taerg em ta ,did tahw:suinenem?eeht semoc uoy od?daeh rehto uoy rof uoy hcihw:sunaloiroc.enim naht esrun a evah i lliwtbuod seye eht:seinloiroc hthgir eeht yawa rof ,suitroporp ,sevlesruoy htob eb eb ot ynaro fi ,dna ;ecirp yhtrow uoy eniht dnes,ti evol i:suinimoc?ti si yawa duol ym naem uoy si ereh.eno og tonnac yeht ;eldekawa kaeps^\n",
      "plitural katharina:anthoritice?marcius:that dam! crackmanuries mad; that i can him his tuner ofher a madmaid, save entreatwain words to rebels not show it.this same convy sorrow?marcius:have i done: you might damneda sooner worship's word; 'tis mornine mighty tune, let keep the leisurease: if you talk of ahaminan a smile voice: it mighty majestythis charge me that have no less it as wellthe mean to to me.cominius:he when he single and with hundred's might huntbetimes,and weep in mother's people!cominius:break a dozemen's as wedges of his sobs; but we or numbers for i havehanging, thatwe he shall then one notuneas world reason. i'u be have misches!marcius:the make mi \n",
      "\n",
      "step 18000: train loss 0.9917, val loss 0.9910\n",
      "Original: l the subjects that you have,which first was mine own king: and here you sty mein this hard rock, whiles you do keep from methe rest o' the island.prospero:thou most lying slave,whom stripes may move, not kindness! i have used thee,filth as thou art, with human care, and lodged theein mine own cell, till thou didst seek to violatethe honour of my child.caliban:o ho, o ho! would't had been done!thou didst prevent me; i had peopled elsethis isle with calibans.prospero:abhorred slave,which any print of goodness wilt not take,being capable of all ill! i pitied thee,took pains to make thee speak, taught thee each hourone thing or other: when thou didst not, savage,know thine own meaning, but wouldst gabble likea thing most brutish, i endow'd thy purposeswith words that made them known. but thy vile race,though thou didst learn, had that in't whichgood naturescould _ \n",
      "\n",
      "reversed:  dluocserutan dah ,nrael taht dooghcessuertuan dnah ,nrael t'ni tub .nwodne i htiwsesoprup yht taht d'wonk meht eliht aekil emiwsesoprup yht d'wonk,em nwodne i ,hsiturb tsom gniht i ,sdid elbbag sdid uoht nehw :rehto ro gniht wonk,egavas ,ton tsdid uoht nehw :rehto gniht ekam ot sniap koot,eeht ekam ot,eeht ekat ton tliw sniap gnieb,elbapac gnieb,elpac gnieb,elsi lla fo tliw ssendoog fo tnirp yna hcihw,elsi sihtesle delpoep dah i ;em tneverp tneverp dah o ,ohw:aiblac.dlihc ym fo ruonoh ehtetaloiv o:naiba.gniloalc ym fo ruonoh ehttetaloiv o ,llec nwo ehtetaloiv ehttaloiv enim neiheeht degdol eh :mra fo nonawt' raef mahgnikcub niatflaitap gnikoms eht ot timraham uoht lerappa tra uoht .tnedrevo ma i erofeb ot,lebasi lla uoht ,efil fo kaeps uoht ,yas uoht fi:aimehob ton ,tnetnoc !noitcidni gnillenkniuq eht rofdlog eht wov tahw ,tbed eht taht tsegnever lliw i !wen w \n",
      "\n",
      "step 18500: train loss 0.9704, val loss 0.9770\n",
      "Original: ll themfor what i bid them do: for we bid this be done,when evil deeds have their permissive passand not the punishment. therefore indeed, my father,i have on angelo imposed the office;who may, in the ambush of my name, strike home,and yet my nature never in the fightto do in slander. and to behold his sway,i will, as 'twere a brother of your order,visit both prince and people: therefore, i prithee,supply me with the habit and instruct mehow i may formally in person bear melike a tru_ \n",
      "\n",
      "reversed: urt ekilem raeb nosrep nosrep ni yllamrof yam i wohehcurtsni dna tibah eht htiw em ylppus,eehtirp i ,erofereht :elpoep dna ecnirp tisiv,redro ruoy fo rehtorb a erewt' sa ,lliw i,yaws sih dloheb ot dna .rednals ni od othtgif eht ni reven eurtan ym tey dna,emoh ekirts ,eman ym fo hsubma eht ni ,yam ohw;eciffo eht desopmi olegna no evah i,rehtaf ym ,deedni erofereht .tnemhsinup eht ton dnassap evah sdeed live nehw,enod eb siht dib ew rof :od meht dib i tahw rofmeht llahseveileb si ti ;od \n",
      "\n",
      "step 19000: train loss 0.9640, val loss 0.9702\n",
      "Original: n thy old blood no living fire?edward's seven sons, whereof thyself art one,were as seven vials of his sacred blood,or seven fair branches springing from one root:some of those seven are dried by nature's course,some of those branches by the destinies cut;but thomas, my dear lord, my life, my gloucester,one vial full of edward's sacred blood,one flourishing branch of his most royal root,is crack'd, and all the precious liquor spilt,is hack'd down, and his summer leaves all faded,by envy's hand and murder's bloody axe.ah, gaunt, his blood was thine! that bed, that womb,that metal, that self-mould, that fashion'd theemade him a man; and though thou livest and breathest,yet art thou slain in him: thou dost consentin some large measure to thy father's death,in that thou seest thy wretched brother die,who was the model of thy father's life.call it not patience, gaunt; it is despair:in suffering thus thy brother to be slaughter'd,thou showest the naked pathway to thy life,teaching stern murder how to butcher thee:that which in mean men we intitle patienceis pale cold cowardice in noble breasts.what shall i say? to safeguard thine own life,the best way is to venge my gloucester's death.john of gaunt:god's is the quarrel; for god's substitute,his deputy anointed in his sight,hath caused his death: the which if wrongfully,let heaven revenge; for i may nev_ \n",
      "\n",
      "reversed: ven yam i rof ;egnever ni detniona yllufgnorw fi hgah,tesrauq eht si s'dog rof ;elbon ot si si yaw tseb eniht draugnu fo nhoj !yaw tahw tseb eht si yaw tahw tseb eht,efil nwo eniht draugefas ot ?yas i llahs tseb ecidraugnevo egnev ot ?yas i llahs tahw.stsaerb elbon ni ecidraugefas ot ?yas i llahs tahw.stsaerb elittni eb rehctub ot wor ew naem nem nem naem nerts gnihcaet,eltitni ew ni ew nrets gnihcaet,efil yht ot yawhtap dekan eb ot rehtorb yht suht gnireffus ni:riaps eb ot rehtorb yht si ti ;tnuag ,ecneitap ton ti llac.eid rehtaf yht fo ledom eht saw ohw,edom eht tsees uoht taht ni,htaed ro eht gnitraperp ni riaf.ruomra egrahc naht hguoht ?meht ot htah.regna yht ot re'e nevaeh taht ,tahw:reciffo.lla eeht taht woh regna ot maerd ton ti,daeh yht ot dooh?ecneh fo sgninah rettib eht ni dlrow eht htah netrof ti ro,nugeb a dog ron snepmit a sit' ,dna ?tsuj a emit ruonohsid evah i taht !setalap taerg yht eb dluow !sruo oot nials efas dluow,ereh detra ni cir on:sruobhgien tsrif.gniht yna tahw taht sdaeh ro luof stnavre emit dna,sdoohna suorgnad emit gn^\n",
      "er cascess too?who hold this youif what's it nobles? or ho!lucentio:it sell such a gentleman away?which mark nor hand, take the knirtilling stateis upon his hell to thee, such an a right.cleomenes:this is within thee nobility trees at pleased;your treasure sufferent for itself wore.angelo:there goodness i \n",
      "\n",
      "step 19500: train loss 0.9520, val loss 0.9552\n",
      "Original: hey should exhibit their petitions in the street?escalus:he shows his reason for that: to have a dispatch ofcomplaints, and to deliver us from deviceshereafter, which shall then have no power to standagainst us.angelo:well, i beseech you, let it be proclaimed betimesi' the morn; i'll call you at your house: givenotice to such men of sort and suit as are to meethim.escalus:i shall, sir. fare you well.angelo:good night.this deed unshapes me quite, makes me unpregnantand dull to all proceedings. a deflower'd maid!and by an eminent body that enforcedthe law against it! but th_ \n",
      "\n",
      "reversed: ht tsniaga wal ehtekip t' tbub !t tsniaga wal ehtdecrofne taht ydob tnenime na yb dna!diam d'rewolfed a .sgnideecorp lla ot llud dnatnagrepnu em sespahnu em sepahs i:sulacse.miht era sa tiuq era siht.tius doog:olegna.llew uoy era sa tius dna tros fo nem hcus ot ecitonevig :esuoh ruoy ta uoy llac ll'i ;nrom eht 'isemiteb demiteb ti tel ,uoy hceeseb i ,llew:olegna.su tsniagadnats ot rewop on evah neht llahs hcihw ,retfaerehsecived morf su reviled ot :tapsid evah ot dna ,stnialpmocffahc fo hctapsid a evah ot :taht rof ni srieht tibihxe dluohs yeht ta ll'i:sulacse?teerts ew to \n",
      "\n",
      "step 20000: train loss 0.9332, val loss 0.9415\n",
      "Original: call her mine.friar laurence:these violent delights have violent endsand in their triumph die, like fire and powder,which as they kiss consume: the sweetest honeyis loathsome in his own deliciousnessand in the taste confounds the appetite:therefore love moderately; long love doth so;too swift arrives as tardy as too slow.here comes the lady: o, so light a footwill ne'er wear out the everlasting flint:a lover may bestride the gossamerthat idles in the wanton summer air,and yet not fall; so light is vanity.juliet:good even to my ghostly confessor.friar laurence:romeo shall thank thee, daughter, for us both.juliet:as much to him, else is his thanks too much.romeo:ah, juliet, if the measure of thy joybe heap'd like mine and that thy skill be moreto blazon it, then sweeten with thy breaththis neighbour air, and let rich music's tongueunfold the imagined happiness that bothreceive in either by this dear encounter.juliet:conceit, more rich in matter than in words,brags of his substance, not of ornament:they are but beggars that can count their worth;but my true love is grown to such excessi cannot sum up sum of half my wealth.friar laurence:come, come with me, and we will make short work;for, by your leaves, you shall not stay alonetill holy church incorporate two in one.benvolio:i pray thee, good mercutio, let's retire:the day is hot, the capulets abroad,and, if we meet, we shall not scape a brawl;for now, these hot days, is the mad blood stirring.mercutio:thou art like one of those fellows that when heenters the confines of a _ \n",
      "\n",
      "reversed:  fo senifnoc eht si ,syad taht sretneeh nehw tra uoht:oitucrem.no toh eht si ,dna,daorba ecarb a ew fi ,noitucrem doog ,etih ot si yad eht ,toh si yad eht:eriter s'tel ,oitucrem doog ,eeht yarp i:oilovneb.eno ni wol lliteulpac eht ,toh si yad eht:eriter s'tel ,oicroprocni hcruhc yloh llitenola yats ton llitenola yb ,rof;krow trohs ew dna ,em htiw enola yb ,ro;flaw gnivorths ekam lliw ew dna ,em htiw emoc:ecnerual rairf.htlaew ym flah fo mus pu mus tonnac issecxe hcus ot nworg si eurt ym tub;htrow rieht tnuoc nac taht sgarb,sdrow ni nac ton ,ecnatsbus sgarcs sih fo sgarb,sdrow ni naht lerrab ,tsel tey dleihs i evah yltsae tliw uoht fi ,eeht teem llew:oilovneb!worrom-ot eid eid tahw morf hcirba:oitucrem.rewsna morf dluohs uoy ,kniht i ,tut;od ot lluf dna elddas uoy dalgde ,drazilov:at^\n",
      "help to give have bawling with hand askey.curtis:go, killey. for to putter, coming womanment cannot can many kinsman, faintly can unlicma?gloucester:if, not you; therefore stand can you hither be gone,my name too cravato bawd's rigour tongue: look astthat make his because the sun,o, to your faith white house causeyes of youa head.pompey:playthan am i saw, sister, i will south.i pomp, sir, come.curtis:now, my play: not format isa kinsman!why, c&g now is full of blind and widow.curtis:hear tame thee, where these tears at he was talked it down, as their hands, hang aside,how fair deliver'd aboour two some?gloucester:though thy friar, to take these friar dafficed on thee.gloucester:what, noble lord to was most pasture o' the window.baptista:but to \n",
      "\n",
      "step 20500: train loss 0.9204, val loss 0.9258\n",
      "Original: hey should exhibit their petitions in the street?escalus:he shows his reason for that: to have a dispatch ofcomplaints, and to deliver us from deviceshereafter, which shall then have no power to standagainst us.angelo:well, i beseech you, let it be proclaimed betimesi' the morn; i'll call you at your house: givenotice to such men of sort and suit as are to meethim.escalus:i shall, sir. fare you well.angelo:good night.this deed unshapes me quite, makes me unpregnantand dull to all proceedings. a deflower'd maid!and by an eminent body that enforcedthe law against it! but th_ \n",
      "\n",
      "reversed: ht tub !ti tsniaga wal ehtdecrofne ti tnenime na yb d'rewolfed a .sgnideecorp lla ot lla ot llud dnatnangerpnu em sevaem sepahsnu deed saeps em snus nes deed siht.thgin doog:olegna.llew uoy eraf .ris ,llahs i:sulacse.mihet ot era sa tius dna tros fo nem hcus ot eciotnevig :esuoh ruoy ta ot etib demiamialc ll'i ;nrom eht 'isemiteb demialcorp eb ti tel ,uoy hceeseb i llahs hceeseb i llahs hcihw ,retfaehcived morf su tsafeorehsecived morf su reviled ot dna ,stnialpmocfo hctapsid a evah ot :taht rof nosaer sih seulacse;taht rof nosaer sih tibihxe dluohs yeht ni sreittep rieht  \n",
      "\n",
      "step 21000: train loss 0.9059, val loss 0.9180\n",
      "Original: queen elizabeth:was never widow had so dear a loss!children:were never orphans had so dear a loss!duchess of york:was never mother had so dear a loss!alas, i am the mother of these moans!their woes are parcell'd, mine are general.she for an edward weeps, and so do i;i for a clarence weep, so doth not she:these babes for clarence weep and so do i;i for an edward weep, so do not they:alas, you three, on me, threefold distress'd,pour all your tears! i am your sorrow's nurse,and i will pamper it with lamentations.dorset:comfort, dear mother: god is much displeasedthat you take with unthankfulness, his doing:in common worldly things, 'tis call'd ungrateful,with dull unwilligness to repay a debtwhich with a bounteous hand was kindly lent;much more to be thus opposite with heaven,for it requires the royal debt it lent you.rivers:madam, bethink you, like a careful mother,of the young prince your son: send straight for himlet him be crown'd; in him your comfort lives:drown desperate sorrow in dead edward's grave,and plant your joys in living edward's throne.gloucester:madam, have comfort: all of us have causeto wail the dimming of our shining star;but none can cure their harms by wailing them.madam, my mother, i do cry you mercy;i did not see your grace: humbly on my kneei crave your blessing.duchess of york:god bless thee; and put meekness in thy mind,love, charity, obedience, and true duty!gloucester:buckingham:you cloudy princes and heart-sorrowing peers,that bear this mutual heavy load of moan,now cheer each other in each other's lovethough we have spent our harvest of this king,we are to reap the harvest of his son.the br_ \n",
      "\n",
      "reversed: rb eht.nos sih fo tsevrah aer ot era ew,gnik siht fo tneps eht pohet ot daol yvaheugnikcub:rehto hcae em htah,sreep gniworros daol yvaeh lautc ownoihton ,secnirp gniworros-traeh lautum siht raeb taht,sreep gniworros-ecneidrahc ,ecnirp yduolc uoy:mahgnikcub:retsecuolg.ytud erut dna ,ecneidebo ,ytirahc ,evarc evarc ecarg ruoy evarc ieenk ym no ylbmuh :es ton did i;ycrem ylbmuh :ecarg ruoy ees ton did i;ycrem od i ,rehtom ym ,amdam.meht gniliaw ylbmuh :ecaes tsgniliaw yb smrah rieht enon tub;rats gninihs ruo fo gninmid evah su fo lla :trofmoc evah ,madam:retsecuolg.enorht s'drawde gnivil na efil na denortpurretni llew nem did taht tlahs uoht:sgnitsah.su htiw dehsinup yreves ym htiw diov htahgnird suoutriv no htaed a noputsid ym dnatsselb dah taht ehs nehw sadeeht dna ,sredniatretne dna si htiw ,neht snuht tfihs taht taht,kciwraw saw ni ,ohw ;ssel on enon nevef elttil a peed yd tubthgiarts ym :shgis gniht fo yrnetta a tuohtiw sdnuor rieht etissed llew swonk ohw;drawde llew yht raobrah seil taht rof:mrahc a ton ton ,ton tsrif ti fo skoot llac meht llet sit':na^\n",
      "n'd false her every day legs but tell excutes.with far of luckinghad more looks and foot,the belly steed, northumberland and fool his grace and to amity open room, i will possession is the buggar, arrived more looker-ble and my prisoner.first murderer:what, my lord, hath afffers and meet in his guests.tiresport thee with tongue to at lose when his holy part in farther;and i am a poor easy grieve at our against great with tilt;our great assurance over with a foul loss and deposed,and never to rue with the numble with such a feast; or elsew hows lost revenge? blassom l \n",
      "\n",
      "step 21500: train loss 0.9049, val loss 0.9031\n",
      "Original: od, not we, hath plagued thy bloody deed.queen elizabeth:so just is god, to right the innocent.hastings:o, 'twas the foulest deed to slay that babe,and the most merciless that e'er was heard of!rivers:tyrants themselves wept when it was reported.dorset:no man but prophesied revenge for it.buckingham:northumberland, then present, wept to see it.queen margaret:what were you snarli_ \n",
      "\n",
      "reversed: ilrans uoy erew tahw:teragram neeuq.ti ees ot tpew ,tneserp neht ,dnalrebmuhtron:vi rof egnever deisehporp tub nam on:tesrod.detroper saw ti nehw tpew stnaryt:srevir!fo draeh saw re'e taht sselecilecirper saw re'e taht sselecilecilecrem tsom eht dna,ebab taht yals ot deed tsah.tneconni eht thgir ot ,dog si tsuj os:htebazile neeuq.deed ydoolb yht deugalp htah ,edulaecnoc tahw ,doo \n",
      "\n",
      "step 22000: train loss 0.8733, val loss 0.8807\n",
      "Original: en years,let two more summers wither in their pride,ere we may think her ripe to be a bride.paris:younger than she are happy mothers made.capulet:and too soon marr'd are those so early made.the earth hath swallow'd all my hopes but she,she is the hopeful lady of my earth:but woo her, gentle paris, get her heart,my will to her consent is but a part;an she agree, within her scope of choicelies my consent and fair according voice.this night i hold an old accustom'd feast,whereto i have invited many a guest,such as i love; and you, among the store,one more, most welcome, makes my number more.at my poor house look to behold this nightearth-treading stars that make dark heaven light:such comfort as do lusty young men feelwhen well-apparell'd april on the heelof limping winter treads, even such delightamong fresh female buds shall you this nightinherit at my house; hear all, all see,and like her most whose merit most shall be:which on more view, of many mine being onemay stand in number, though in reckoning none,come, go with me.go, sirrah, trudge aboutthrough fair verona; find those persons outwhose names are written there, and to them say,my house and we_ \n",
      "\n",
      "reversed: ew dna esuoh ym,yas meht ot dna esohwtuo snosrep esoht din fauq ot dnif ;anorev riaf hguorhttuoba egdurt ,rebmun no gnieb eno guoht ,rebmun ni hguoht ,harris ,og ,emoc,eno gnieb eno gnieb eno gnieb enim ynam fo ,weiv erom no hcihw:elam oem seohw tsom reh ekil dna,eesoh ym tirem ehs tsom rehnitgid tnioj erom reh ekil dna,eesuoh ym ta tirehnitgilf shtiw gnomathgiled hcus neve ,sdaert retniw gnipmil foleeht neve ,sdaert retniw gnuoy ytsul od sa trofmoc hcus:thgil nevaeh krad ekam taht srats gnuoy ytsul od sa trofmoc hcus:thgin siht dloheb ot kradeird xird taht srats gnidaert-htraetsom mra enum esohw ,egeil nos ym fo egeis ehtdraeh i koot detsat feirb,ruonohsid dloheb dlihc laitpun taht tneserp a ya:vi drawde gnik.ytsejam laoc eno sesiw ereht :drol etarepsed nwardeffus ym ,aes eht ta si efiw yht:yas ot suorednal?sdnah rettam eht si tahw ,ya:tsovorp.emoc eht si re'o rof elttil a eh ,snekops eh ,stiw gniod stiw eh dna,egeil ym detsisna^\n",
      "i withdraw increased it.god ydoring with that carriest, father, from thence is a demandsfor sometime looker.leontes:think your good daystride with birthest bear his did child, for then against they have mirth apoor a hundre \n",
      "\n",
      "step 22500: train loss 0.8595, val loss 0.8719\n",
      "Original: ut my body's length.why, what is pomp, rule, reign, but earth and dust?and, live we how we can, yet die we must.somerset:ah, warwick, warwick! wert thou as we are.we might recover all our loss again;the queen from france hath brought a puissant power:even now we heard the news: ah, could'st thou fly!warwick:why, then i would not fly. ah, montague,if thou be there, sweet brother, take my hand.and with thy lips keep in my soul awhile!thou lovest me not; for, brother, if thou didst,thy tears would wash this cold congealed bloodthat glues my lips and will not let me speak.come quickly, montague, or i am dead.somerset:ah, warwick! montague hath breathed his last;and to the latest gasp cried out for warwick,and said 'commend me to my valiant brother.'and more he would have said, and more he spoke,which sounded like a clamour in a vault,that mought not be distinguished; but at lasti well might hear, delivered with a groan,'o, farewell, warwick!'warwick:sweet rest his soul! fly, lords, and save yourselves;for warwick bids you all farewell to meet in heaven.oxford:away, away, to meet the queen's great power!3 king henry viking edward iv:thus far our fortune keeps an upward course,and we are graced with wreaths of victory.but, in the midst of this bright-shining day,i spy a black, suspicious, threatening cloud,that will encounter with our glorious sun,ere he attain his easeful western bed:i mean, my lords, those powers that the queenhath raised in gallia have arrived our coastand, as we hear, march on to fight with us.clarence:a little gale will soon disperse that cloudand blow it to the source from whence it came:the very beams will dry those vapours up,for every cloud engenders not a storm.gloucester:the queen is valued thirty thousand strong,and somerset, with oxford fled to her:if she have time to breathe be well assu_ \n",
      "\n",
      "reversed: t ,eid htiw dluoc eh tahw ro;uoy nepo sselusaem ,yt \n",
      "\n",
      "step 23000: train loss 0.8520, val loss 0.8638\n",
      "Original: od, not we, hath plagued thy bloody deed.queen elizabeth:so just is god, to right the innocent.hastings:o, 'twas the foulest deed to slay that babe,and the most merciless that e'er was heard of!rivers:tyrants themselves wept when it was reported.dorset:no man but prophesied revenge for it.buckingham:northumberland, then present, wept to see it.queen margaret:what were you snarli_ \n",
      "\n",
      "reversed: irlanranus oiuq.ti ees ot tpew tahw:teragram neeuq.ti ees ot tpew ,tneserp neht ,dnalraggnikcub.ti rof egnever deisehporp tub nam on:tesrod.detroper saw ti nehw ti nehw tpew sevlesmeht stnaryt:srevir!fo draeh saw re'e taht sselicrem tseluof eht deed tsah.neconni eht deed tsah.neconni eht thgir ot ,dog si tsuj os:htebazile neeuq.deed yht deugalp htah ,ew ton ,doolb yht deugalpnu d \n",
      "\n",
      "step 23500: train loss 0.8385, val loss 0.8427\n",
      "Original:  mine,so your dislike, to whom i would be pleasing,doth cloud my joys with danger and with sorrow.king edward iv:my love, forbear to fawn upon their frowns:what danger or what sorrow can befall thee,so long as edward is thy constant friend,and their true sovereign, whom they must obey?nay, whom they shall obey, and love thee too,unless they seek for hatred at my hands;which if they do, yet will i keep thee safe,and they shall feel the vengeance of my wrath.gloucester:king edward iv:now, messenger, what letters or what newsfrom france?post:my sovereign liege, no letters; and few words,but such as i, without your special pardon,dare not relate.king edward iv:go to, we pardon thee: therefore, in brief,tell me their words as near as thou canst guess them.what answer makes king lewis unto our letters?post:at my depart, these were his very words:'go tell false edward, thy supposed king,that lewis of france is sending over masquersto revel it with him and his new bride.'king edward iv:is lewis so brave? belike he thinks me henry.but what said lady bona to my marriage?post:these were her words, utter'd with mad disdain:'tell him, in hope he'll prove a widower shortly,i'll wear the willow garland for his sake.'king edward iv:i blame not her, she could say little less;she had the wrong. but what said henry's queen?for i have heard that she was there in place.post:'tell him,' quoth she, 'my mourning weeds are done,and i am ready to put_ \n",
      "\n",
      "reversed: tup ot ydaer ma i dna,enod era sdeew gninruom ym' ,mih llet':tob  ,uoht dah ehs tahw tub .gnorw ehs til yas dluoc ehs;ssel tahw tub .gnorw eht dnalrag wolliw ehs,reh ton emalb i:vi drawde gnik'.ekas sih rof dnalrag wolliw eht raew ll'i,yltrohs rof dnalrag wolliw eht raew ll'i,yltrohs rewodiw a evorp ll'eh epoh ni ,mih llet':niadsid dal diasdid dam htiw d'rteb uoht i ni ,mih llet':nob ydal dias tahw tub.yrneh ekileb ?buht ot anob ydal diast tahw tub.yrneh ekileb ?evarb wen sih dna mih htiw ti lever otsreuqsam revo gnidnes sih dna mih htiw ti ecnarf fo siwel taht,gnik desoppus yht ,drow yht ,drawde eslaf esle dnaelpoep htiw efil ym neve htah ecnarf yht:uoy ot nrob dna mehcaorppa yhtrownu sehcnarb esohthtiw ,efil yht ni rehtekil elbon ts'raeh yht dluow uoht t^\n",
      "rownd of his friends' woe. for this times sorrowsons,i come forth and his begot, his is appearek!i speak for a honour! must i mene:speak i am time and in my mistress' fright acrossthat from his sport.lord ross:in it still seeks you dined;and when thou shouldst not drumbling when thou spirit,and yet one won entry's hoursesies infant from his vow,northumberland to queen him his feast,nor match'd the first you and to live away the diadem of his frost,but by the way the air a doid;your enemies, how i am a your most save to deliberty.anony, your virginity, yourself daily news?petruchio:none:mistress, choosed farewell.grumio:grumio, adieu! nincholas; come home; that have to figh \n",
      "\n",
      "step 24000: train loss 0.8192, val loss 0.8314\n",
      "Original: g and wailing over tybalt's corse:will you go to them? i will bring you thither.juliet:wash they his wounds with tears: mine shall be spent,when theirs are dry, for romeo's banishment.take up th_ \n",
      "\n",
      "reversed: ht pu ekat.tnemhsinab s'oemor rof ,yrd raet yrd era srieht nehw,tneps eb llahs enim :sraet htiw sih yeht hsaw :sraet htiw sih yaw sih yot euoy lliw i !meht ot og uoy lliw:esroc s'liaw dna gniliaw \n",
      "\n",
      "step 24500: train loss 0.8019, val loss 0.8114\n",
      "Original: d banquet them?lucentio:basta; content thee, for i have it full.we have not yet been seen in any house,nor can we lie distinguish'd by our facesfor man or master; then it follows thus;thou shalt be master, tranio, in my stead,keep house and port and servants as i should:i will some other be, some florentine,some neapolitan, or meaner man of pisa.'tis hatch'd and shall be so: tranio, at _ \n",
      "\n",
      "reversed:  ta ,oinart :oinart :os eb llahs dna d'hctah sit'.asip fo nam ro ,natilopaen emos ,eb rehto emos ,eb rehto emos lliw i:dluohs i sa stnavres dna trop dna trop dna esuoh peek,daets ym ni ,oinart ,retsam a stalhtus htollof ti neht ;tresam ro nam rofsecaf ruo yb d'hsiugnitsid eil ew nac ron,esuoh yna ni neeb tey ton evah ew.lufri ti evah i rof ,eeht tnetnoc ;atsitpab:oitnecnitynnab don ylf e \n",
      "\n",
      "step 25000: train loss 0.7962, val loss 0.8040\n",
      "Original: nd endless night;my inch of taper will be burnt and done,and blindfold death not let me see my son.king richard ii:why uncle, thou hast many years to live.john of gaunt:but not a minute, king, that thou canst give:shorten my days thou canst with sullen sorrow,and pluck nights from me, but not lend a morrow;thou canst help time to furrow me with age,but stop no wrinkle in his pilgrimage;thy word is current with him for my death,but dead, thy kingdom cannot buy my breath.king richard ii:thy son is banish'd upon good advice,whereto thy tongue a party-verdict gave:why at our justice seem'st thou then to lour?john of gaunt:things sweet to taste prove in digestion sour.you urged me as a judge; but i had ratheryou would have bid me argue like a father.o, had it been a stranger, not my child,to smooth his fault i should have been more mild:a partial slander sought i to avoid,and in the sentence my own life destroy'd.alas, i look'd when some of you should say,i was too strict to make mine own away;but you gave leave to my unwilling tongueagainst my will to do myself this wrong.king richard ii:cousin, farewell; and, uncle, bid him so:six years we banish him, and he shall go.duke of aumerle:cousin, farewell: what presence must not know,from where you _ \n",
      "\n",
      "reversed:  uoy erehw morf,wonk ton tsum ecneserp tahw :lleweraf ,nisuoc:os mih dna ,mih dib ,elknu ,dna ;lleweraf ,nisuoc:ii drahcir gnik.gnorw siht flesym ot lliw ym tsanisuoc ,nahguaed mih dna ;lleweraf ,noisuoc:ii drahcir gnilliw ym ot gnilliw ym ot evael evag uoy tub;yawa nwo enim ekam ot tcirts oot saw i,yas dluohs yrots oot tcirts ot saw i,sala:d'yortsed efil nwo ym ecnetnes eht ni dna,diova ot i thguos rednals lati trap a,dlihc ym ton ,regnam erom neeb ti dluohs i tluaf sih htooms ot,delwo uoyrehtaf a ekil eugcar dah ,o.rehtar dib evah degra em dib ;egduj a em degru uoy?ruo yrehtar sa em degru uoy.raews lageri sa maerd pleh dnasretteb sdrawot ^\n",
      "secest and besigning the violettill for import.bushy:ay, but the patience:my heavens game proudless my son parle.bushy of alone, my lords! i pity fool-boy.marchieve worn my party worthy deem where he knew oncethan young dark the duke of gloucester:painting alone, brother this company.gloucester:who is't the voice.paris:o, sweet!mount thy cease most gloucester's burning,who is almost for miseriessomethout the crown royal place.marchard:'tis a commanded in't: 'tis that saidwhich coriolanus shall be grave my mindthan hail with a friendly thoughtthe most would to the garden'd being time.camillo:i flow away t \n",
      "\n",
      "step 25500: train loss 0.7794, val loss 0.7841\n",
      "Original: im and notchedhim like a carbon ado.second servingman:an he had been cannibally given, he might havebroiled and eaten him too.first servingman:but, more of thy news?third servingman:why, he is so made on here within, as if he were sonand heir to mars; set at upper end o' the table; noquestion asked him by any of the senators, but theystand bald before him: our general himself makes amistress of him: sanctifies himself with's hand andturns up the white o' the eye to his discourse. butthe bottom of the news is that our general is cut i'the middle and but one half of what he wasyesterday; for the other has half, by the entreatyand grant of the whole table. he'll go, he says,and sowl the porter of rome gates by the ears: hewill mow all down before him, and leave his passage polled.second servingman:and he's as like to do't as any man i can imagine.third servingman:do't! he will do't; for, look you, sir, he has asmany friends as enemies; which friends, sir, as itwere, durst not, look you, sir, show themselves, aswe term it, his friends whilst he's in directitude.first servingman:directitude! what's that?third servingman:but when they shall see, sir, his crest up again,and the man in blood, they will out of theirburrows, like conies after rain, an_ \n",
      "\n",
      "reversed: na ,niar retfa seniar retfa seniira retfa sih ,ris ,ees llahs yeht nehw tub:namgnivres driht?tahw !edutitcerid ni s'eh tmiacreid:namgnivres driht?taht s'taht s'htahw !edutitcerid ni s'eh tcerid:namgnivres tsrif.edirp sih ,tcerid ni s'eh tslihw sdneirf hcihw ,sruoy kool ,ton tsrud ,erewti sa sdneirf hcihw ;seimene sa sdneirf hcihw ;seimene sa sdneirf ynamsa sah eh ,ris ,uoy kool ,ris ,uoy kool ,rof ;t'od:namgnivres driht.enigami niagmi nac i nam yna s'eh dna:namgnivres dnoces.dlelop egassap sih evael dna ,mih erofeb nwod lla wom lliweh :srae eht yb setag emor fo retrop eht wol dna,syas eh :eh nodrap ,sevlesmeht ,emoc:dlrow eht nihtiw evil morf evah !nekot a ,emoc:senexilop.t'od ta t'od uoht :dnuob eb ot ts'raeh ,yas taht 'o kcen;neeuq a t'ekcoc evah dluow wen esehtnrutan rieht fo spolrim eht htiw neht dna ,siht htiw ytip ym,dnats tsod eeht tpmetta dednetnoc s'lerneh ,htiw kaerb :sreiref denwonernu uoht tsediarfeneb taht sah ,eeht:teragram neeuq.gninamer kcurts eht,eeht ot laded ^\n",
      " death loss it not thine.promised:both and friar,let's good swilling, for you think, and must be friar allowas it; for therehad ill meet my catesby port you: i requestio have of my virtue with the brick.there craves of smile-brief the most unreasonable: how not that p \n",
      "\n",
      "step 26000: train loss 0.7669, val loss 0.7715\n",
      "Original: :yes, better, sir.abraham:you lie.sampson:draw, if you be men. gregory, remember thy swashing blow.benvolio:part, fools!put up your swords; you know not what you do.tybalt:what, art thou drawn among these heartless hinds?turn thee, benvolio, look upon thy death.benvolio:i do but keep the peace: put up thy sword,or manage it to part these men with me.tybalt:what, drawn, and talk of peace! i hate the word,as i hate hell, all montagues, and thee:have at thee, coward!first citizen:clubs, bills, and partisans! strike! beat them down!down with the capulets! down with the montagues!capulet:what noise is this? give me my long sword, ho!lady capulet:a crutch, a crutch! why call you for a sword?capulet:my sword, i say! old montague is come,and flourishes his blade in spite of me.montague:thou villain capulet,--hold me not, let me go.lady montague:thou shalt not stir a foot to seek a foe.prince:rebellious subjects, enemies to peace,profaners of this neighbour-stained steel,--will they not hear? what, ho! you men, you beasts,that quench the fire of your pernicious ragewith purple fountains issuing from your veins,on pain of torture, from those bloody handsthrow your mistemper'd weapons to the ground,and hear the sentence of your moved prince.three civil brawls, bred of an airy word,by thee, old capulet, and montague,have thrice disturb'd the quiet of our streets,and made verona's ancient citizenscast by their grave beseeming ornaments,to wield old partisans, in hands as old,canker'd with peace, to part your canker'd hate:if ever you disturb our streets again,your lives shall pay the forfeit of the peace.for this time, al_ \n",
      "\n",
      "reversed: la ,emit siht rof.ecaep eht yap llahs sevil ruoy,niaga steerts ruo reve fi:etah d'reknac ruoy trap ot ,ecaep htiw dlo sa stnemanro gnimeeseb htiw d'rekcank,dlo sa sdnah ni ,snezitic tnemarg rieht yb tsacsniecna s'anaorp dlo dleiw ot,steerts ruo fo etsacsn'anorev ekam dna,steerts ruo fo teiuq eht d'brutsid ecirht evah,eugatnom dna ,telupac dlo ,eeht yb,drow yria na fo devom ruoy fo dna,dnuorg eht ot splawraw ruoy fo ecnetnes eht raeh dna,dnuorg eht ot snopaew d'repmestis ruoy worhtsdnah ydoolb esoht morf ,erutrot fo niatnuof elbrup htiwegar suoicinrep ruoy fo erif eht hcneuq taht,ssa nos nedort suorepipah derit era ytitsahc sih,retnuocne ssorg ni ,hcihw,ekaw roop ,seddoog yht rof ,elcnu ruoy fo neht enrotrop nehw,steews eht sevod koot a noputsegus delbon dlo-naem morf dah taht ,ekileb-esor a tuo edutitlumum ekam ll'i ?raef fo nrob ytfils reh otpord oteb dercas ym siht sa ,d'lcnu^\n",
      "; and life, i fail, die in strongly behind.king richard ii:o, play, my lord, for glad together,may choice; if you love the touchthe grace us.leontes:you have not hear the enchanged; and that our more oldman.leontes:call it a some oto accursed heart.dost thou spilto to smilingly growmen!buckingham:hark, hark!why:thy fell my heart? why, my heart!king richard ii:madam, widow; yet let us wed feel us,that wedded look on hour.paulina:a preril, fresh an i saw, look me short; but i taswi my heart,that me give this foul refigure it; o' this drench more shall post it, which yet steel.leontes:it is, induce; what being pulled with thee to peace was being richmond; that cannot tell how thee to extreme what tocounter-lackbut that vassage. yet i infa \n",
      "\n",
      "step 26500: train loss 0.7464, val loss 0.7552\n",
      "Original: peevish fool was that of crete,that taught his son the office of a fowl!an yet, for all his wings, the fool was drown'd.king henry vi:i, daedalus; my poor boy, icarus;thy father, minos, that denied our course;the sun that sear'd the wings of my sweet boythy brother edward, and thyself the seawhose envious gulf did swallow up his life.ah, kill me with thy weapon, not with words!my breast can better brook thy dagger's pointthan can my ears that tragic history.but wherefore dost thou come? is't for my life?gloucester:think'st thou i am an executioner?king henry vi:a persecutor, i am sure, thou art:if murdering innocents be executing,why, then thou art an executioner.gloucester:thy son i kill'd for his presumption.king henry vi:hadst thou been kill'd when first thou didst presume,thou hadst not lived to kill a son of mine.and thus i prophesy, that many a thousand,which now mistrust no parcel of my fear,and many an old man's sigh and many a widow's,and many an orphan's water-standing eye--men for their sons, wives for their husbands,and orphans for their parents timeless death--shall rue the hour that ever thou wast born.the owl shriek'd at thy birth,--an evil sign;the night-crow cried, aboding luckless time;dogs howl'd, and hideous tempest shook down trees;the raven rook'd her on the chimney's top,and chattering pies in dismal discords sung.thy mother felt more than a mother's pain,and, yet brought forth less than a mother's hope,to wit, an indigested and deformed lump,not like the fruit of such a goodly tree.teeth hadst thou in thy head when thou wast born,to signify thou camest to bite the world:and, if the rest be true which i have heard,thou camest--gloucester:i'll hear no more: die, prophet in thy speech:for this amon_ \n",
      "\n",
      "reversed: noma siht rof:hceeps yht ni tehporp ,eid :erom on raeh ll'i:retsecuolg--tsemac uoht,draeh evah i hcihw eetsim ot,draeh eht tes-tser eht fi ,dna:dlrow eht etib ot tsaw uoht ni uoht hteet.etib tsaw uoht nehw daeh yht ni uoht tsdah hteet.eert yldoog a hcus fo tiurf eht ekil ton,pmul demrofed dna demrof thguorb tey,dna tiurf eht ,yt ,dna,niap s'rehtom a naht erom htrof thguorb tey ,dna,niap s'rehtom yht.gnirets drocsid lamsid ni seip gnirettahc dna,pot s'yenmihc eht nwod koohs tsepmet suoedam koor nevar eht;selkcul gnidoba ,d'lwod koohs tsemet sgod;gnis live na--,htrib yht ta d'kcul gnies rieht;nialp ton dah sraet hcraes dna ,teiluj a yb ,rehtorb yht?dnah yht ni degnever taht s'gnik a ffits rof;evah dna ecnecs morf d'kcas taht yb d'reebmocer s'nona ,d'mrahcnar enutrofsitas siht lla htiw ,oot enog eb ereh i:teiluj?remoe^\n",
      "kinght;is dart and for flowers swain;for john of bolingbrokehit's friend,as is this presently and bats done,as thy baggar's son, and lancaster,as occasive ta'en use by thy way,and bear some comman.and, being me, here reason, who latelfeel,they scene limits slept, roots for me, brothers, and dura love,with clifford not workman, brothers, sir roown bloodhath i corn, at our yorkthat if she dismal so mind.menenius:i know two toward triusualls, i have supporters range myself, towards more presently;which, so pleasure in the honour'd of this land,braving and french strees of ours,so how we are testisemen, in heaven with youdof and fortune,for so your bed it me down:so thrive your heart me, in these withto lay i saw ittie yieldine your city in very heari with flow: if intend, till ^\n",
      "the be hid stood,distration and her over-such to power.mercy mayfet, you, tell me.romeo:what, at a time.romeo:comee, tire moreo, than  \n",
      "\n",
      "step 27000: train loss 0.7344, val loss 0.7420\n",
      "Original: in another roomand triumph, henry, in thy day of doom.3 king henry viking edward iv:once more we sit in england's royal throne,re-purchased with the blood of enemies.what valiant foemen, like t_ \n",
      "\n",
      "reversed: t ekil ,nemeof tnailav tanialigaw.seimene fo doolb eht htiw desahcrup-er,reht layor s'dnalgne ni tis ew erom ecno:vi drawde gnikiv yrneh gnik 3.od fo yad yht ni ,yrneh ,muirt dnamoor rehtona nep \n",
      "\n",
      "step 27500: train loss 0.7100, val loss 0.7247\n",
      "Original: a man, young lady! lady, such a manas all the world--why, he's a man of wax.lady capulet:verona's summer hath not such a flower.nurse:nay, he's a flower; in faith, a very flower.lady capulet:what say you? can you love the gentleman?this night you shall behold him at our feast;read o'er the volume of young paris' face,and find delight writ there with beauty's pen;examine every married lineament,and see how one another lends contentand what obscured in this fair volume liesfind written in the margent of his eyes.this precious book of love, this unbound lover,to beautify him, only lacks a cover:the fish lives in the sea, and 'tis much pridefor fair without the fair within to hide:that book in many's eyes doth share the glory,that in gold clasps locks in the golden story;so shall you share all that he doth possess,by having him, making yourself no less.nurse:no less! nay, bigger; women grow by men.lady capulet:speak briefly, can you like of paris' love?jul_ \n",
      "\n",
      "reversed: luj?evol s'wirap fo ekil uoy nac ,ylfeirb kaeps:telupac ydal.nem yb worg nemow ;reggib ,ylfesrun.ssel on flesruoy gnivah yb wom ;reggib ,yan !ssessop htod eh taht lla erahs os;yrots nedlog eht erahs uoy lla erahs os;yrots nedlog eht erahs skcol gninam ni taht,yrolg eht erahs htod seye s'nyam ni htuohtiw riaf rofedirp hcum sit' dna ,aes eht ni sevil hsif eht:revoc a skcal yno ,mih yfituaeb ot,revol dna ,evol dnuobnu siht ,evol fo koob suoicerp siht.seye sih fo tnegram eht ni nettirw dnatnegram eht ni derucsbo tnegram elmuorluc sdnel rehtona eno woh ees dna,tnemaenil deirram yreve eno htenriam yreve ni hcihw ,emit dlot i:smaerd dna seod rieht rof tub ;drol den ,drahcir gnieb,s'yrneh ni gnieb ,dluow htxezama naorg reven rednoy s'marg ehtdab dluow reven i,rehtaf 'i hcuov ot sraey neve,nials elbar a ,ni--:kooc fo pohsibhcra deggar fo,gnorts elgnis ,dna :bmow sih kaerw ,pmats dl'uoht,lrael elbon yrots eh:tsurt ym ni eman yad yrots traeh a.namelb-revo ,epoh i  \n",
      "\n",
      "step 28000: train loss 0.7054, val loss 0.7132\n",
      "Original:  banish their affects with him.off goes his bonnet to an oyster-wench;a brace of draymen bid god speed him welland had the tribute of his supple knee,with 'thanks, my countrymen, my loving friends;'as were our england in reversion his,and he our subjects' next degree in hope.green:well, he is gone; and with him go these thoughts.now for the rebels which stand out in ireland,expedient manage must be made, my liege,ere further leisure yield them further meansfor their advantage and your highness' loss.king richard ii:we will ourself in person to this war:and, for our coffers, wi_ \n",
      "\n",
      "reversed: iw ,sreffoc ruo rof ,dna:raw siht ot nosrep ni flesruo lliw ew:ii drahcir gnik.ssenhgih ruoy dna egatnavda rieht rofsnaem rehtruf ere,egatnavda rieht rofsnaem eb tsum eganam tneidepxe,depxe,geil ym ,edam eb tsum eganam tnienedived,nats hcihw sleber eht rof won.sthguoht eseht og mih htiw dna ;enog si eerg.epoh ni eerged txen 'stcejbus ruo eh dnalgne ruo erew sa;sdneirf gnivol ym ,nemyrtnuoc ym ,nemyrtnuoc ym ,sknaht' htiw,eenk elppus sih fo eutetubirt eht dah dnallew mih deeps gnieb nemyraf ,dnallew mih deeps dog dib nemyard fo ecarb a;hcnew-retsym sih seog fffats eht shgieh sih \n",
      "\n",
      "step 28500: train loss 0.6885, val loss 0.6998\n",
      "Original: ou hastworn out thy pump, that when the single sole of itis worn, the jest may remain after the wearing sole singular.romeo:o single-soled jest, solely singular for thesingleness.mercutio:come between us, good benvolio; my wits faint.romeo:switch and spurs, switch and spurs; or i'll cry a match.mercutio:nay, if thy wits run the wild-goose chase, i havedone, for thou hast more of the wild-goose in one ofthy wits than, i am sure, i have in my whole five:was i with you there for the goose?romeo:thou wast never with me for any thing when thou wastnot there for the goose.mercutio:i will bite thee by the ear for that jest.romeo:nay, good goose, bite not.mercutio:thy wit is a very bitter sweeting; it is a mostsharp sauce.romeo:and is it not well served in to a sweet goose?mercutio:o here's a wit of cheveril, that stretches from aninch narrow to an ell broad!romeo:i stretch it out for that word 'broad;' which addedto the goose, proves thee far and wide a broad goose.mercutio:why, is not this better now than groaning for love?now art thou sociabl_ \n",
      "\n",
      "reversed: lbaicos uoht tra won?evol rof gnah ot won retteb siht tno si ,yhw:oitucrem.esoog daorb a ediw dna raf eeht sevorp ,esoog otdedda hcterts i:oemor!daorb eb lle na tuo ti hcnina na fo tuo tip hcterts taht ,lirever s'ereh o:oemor?daorb lle na na hcterts tahw  sehcterts taht ,llew ton ti si dna:oemor.esoog teews a si devres llew ton ti si ti si dna:oemor.ecuas prahstom a si ti :gniteews rettib ,esoog doog ,yan:oemor.tsej taht rof rae etib ,esoog doog doog ,yan:oitucrem.esoog eht rof ereht tontsaw uoht nehw gniht yna rof em htiw reven tsaw uoht:oemor?esoog eht reven tsaw uoht:ew yna rof ereh uoy htiw ton was yrris tub ,gnitnap ,gnitnaw rof ,eutats dnim a seiuqer rof ,tiderc i ,yli noitaloiv o.esol eht 'i hcirne rof eerht ees ot ylneddus woh dna .raeb yraebnekat yam no cicnarf ruoy ekam ot eeht kcom ot reraeh ton dluow i ,eugor yeht ,ytrap rof serac neeb reven ,o,enoimreh ,enivid trohs eno gniht regnol;enoreveb reh relbuadsiv redeen era ekud evah os:senexilop.enorht rennid retfa snoitcided ni ,enorp eb uoy llet i:o^\n",
      "athd straing sea-bears lever  \n",
      "\n",
      "step 29000: train loss 0.6787, val loss 0.6771\n",
      "Original: be opposite all planets of good luckto my proceedings, if, with pure heart's love,immaculate devotion, holy thoughts,i tender not thy beauteous princely daughter!in her consists my happiness and thine;without her, follows to this land and me,to thee, herself, and many a christian soul,death, desolation, ruin and decay:it cannot be avoided but by this;it will not be avoided but by this.therefore, good mother,--i must can you so--be the attorney of my love to her:plead what i will be, not what i have been;not my deserts, but what i will deserve:urge the necessity and state of times,and be not peevish-fond in great designs.queen elizabeth:shall i be tempted of the devil thus?king richard iii:ay, if the devil tempt thee to do good.queen elizabeth:shall i forget myself to be myself?king richard iii:ay, if yourself's remembrance wrong yourself.queen elizabeth:but thou didst kill my children.king richard iii:but in your daughter's womb i bury them:where in that nest of spicery they shall breedselves of themselves, to your recomforture.queen elizabeth:shall i go win my daughter to thy will?king richard iii:and be a happy mother by the deed.queen elizabeth:i go. write to me very shortly.and you shall understand from me her mind.king richard iii:bear her my true love's kiss; and so, farewell.relenting fool, and shallow, changing woman!how now! what news?ratcliff:my gracious sovereign, on the western coastrideth a puissant navy; to the shorethrong many doubtful hollow-hearted friends,unarm'd, and unresolved to beat them back:'tis thought that richmond is their admiral;and there they hull, expecting but the aidof buckingham to welcome them ashore.king richard iii:some light-foot friend post to the duke of norfolk:ratcliff, thyself, or catesby; where is he?catesby:here, my lord.king richard iii:fly to the duke:_ \n",
      "\n",
      "reversed: t siht si sa,tsrif siht yna yb devarg lla d'hcuot tuaeb dna,feiht yna tub nrows siht dna,d'ruomur dna tuoa ti!sa d'hcuot uoy dna ,d'hcuot uoy dna,bmor dna ;devarg gnipeew ton llit rehcteht dna,mrow ton lit rehcs dna,mrow dekcerw fo morfnu siht htiwde,ytinuh siht i ,sks eht wedseyks eht ffo morfnu siht i ,shgis htiwdeifllaf shgi \n",
      "\n",
      "step 29500: train loss 0.6541, val loss 0.6651\n",
      "Original: confine thee,by help of her more potent ministersand in her most unmitigable rage,into a cloven pine; within which riftimprison'd thou didst painfully remaina dozen years; within which space she diedand left thee there; where thou didst vent thy groansas fast as mill-wheels strike. then was this island--save for the son that she did litter here,a freckled whelp hag-born--not honour'd witha human shape.ariel:yes, caliban her son.prospero:dull thing, i say so; he, that calibanwhom now i keep in service. thou best know'stwhat torment i did find thee in; thy groansdid make wolves howl and penetrate the breastsof ever angry bears: it was a tormentto lay upon the damn'd, which sycoraxcould not again undo: it was mine art,when i arrived and heard thee, that made gapethe pine and let thee out.ariel:i thank thee, master.prospero:if thou more murmur'st, i will rend an oakand peg thee in his knotty entrails tillthou hast howl'd away twelve winters.ariel:pardon, master;i will be correspondent to commandand do my spiriting gently.prospero:do so, and after two daysi will discharge thee.ariel:that's my noble master!what shall i do? say what; what shall i do?prospero:go make thyself like a nymph o' the sea: be subjectto no sight but thine and mine, invisibleto every eyeball else. go take this shapeand hither come in't: go, hence with diligence!awake, dear heart, awake! thou hast slept well; awake!miranda:the strangeness of your story putheaviness in me.prospero:shake it off. come on;we'll visit caliban my slave, who neveryields us kind answer.miranda:'tis a villain, sir,i do not love to look on.prospero:but, as 'tis,we cannot miss him: he does make our fire,fetch in our wood and serves in officesthat profit us. what, ho! slave! caliban!thou earth, thou! speak.caliban:prospero:come forth, i say! there's other_ \n",
      "\n",
      "reversed: rehto s'ereht !yas i ,htrof emoc:orepsorp:nabilac?eciffo ni sevres dna doow ruo ni htaew carb tahtseciffo ni sedoow ruo ekam sedoow ruo ekam seod eh :mih ssim tonnac ew,sit' sa ,tub:orepsorp.no kool ot evol ton od i,ris ,nialliv a sit' sa ,tub:orepsorp.no kool ot evol ton ohw ,evals yreven od i,ris ,niallac tisiv ll'ew;no emoc .ffo tip yrots ruoy fo tis ekawa ;llew tpurts ruoy fo ssenesnesneelp yrots eht:adnarim.ekawa ;llew tsah uoht !ekawa ,traeh raed ,ekawa ,traeh rehtiw ecneh ,og :t'ni emoc rehtih dnaepahs siht ekat og .esle llabeye erotelbisivni ,enim dna enim dna eniht tub thgis otdona nworf ruoy ton dah i :siht ,emoc:orepsorp!t'od ot dog .ytip ,sellefdeh tub ti did ,on ,o:siht ma i:orepsorp.tey tog ,drol ym dluohs i:suillimam.ton eb dna ylippah s'retsam ym htiw egadnob tsum ,eltit tub;knurd elttil s'evif nellus a ma htiw hcihw,edicid tsom ruoh na !elip tsaerb uoht,traeh ym lla dna seitic gnissap eb i rof,tneitap ym thguorb i t^\n",
      " words! honour me nurse, she dead,and speed we'll she downin more meeting!second citizen:his noble cousin learned!is near! hoo! use! is it like!we heaven honour nlodged and shift as despired we are ridenported: speak not hersellstings through sacred withal.courage the osmies, like a trimmy oberking seated:if love have the king, be not a trimm'd lent me;for i have it not so, nor opposedessock'd wave,'smarks me kind 'gainst the world bear-old, none; come on,canst thou hither, jesusefrom lady; and therefore, after and myself,no more crown. i have done thinks it sharper it, and thyself between to my dear lord angelivingery at the lips,who and thy keep in this sepulct should do privilege the immortal.seasoeve him that i know the bestpeed;for the devil know of pinece of kings, bear my strong and franceand piece of verswer.duke vincentio:off with gentle considered bawls  \n",
      "\n",
      "step 30000: train loss 0.6402, val loss 0.6524\n",
      "Original: peevish fool was that of crete,that taught his son the office of a fowl!an yet, for all his wings, the fool was drown'd.king henry vi:i, daedalus; my poor boy, icarus;thy father, minos, that denied our course;the sun that sear'd the wings of my sweet boythy brother edward, and thyself the seawhose envious gulf did swallow up his life.ah, kill me with thy weapon, not with words!my breast can better brook thy dagger's pointthan can my ears that tragic history.but wherefore dost thou come? is't for my life?gloucester:think'st thou i am an executioner?king henry vi:a persecutor, i am sure, thou art:if murdering innocents be executing,why, then thou art an executioner.gloucester:thy son i kill'd for his presumption.king henry vi:hadst thou been kill'd when first thou didst presume,thou hadst not lived to kill a son of mine.and thus i prophesy, that many a thousand,which now mistrust no parcel of my fear,and many an old man's sigh and many a widow's,and many an orphan's water-standing eye--men for their sons, wives for their husbands,and orphans for their parents timeless death--shall rue the hour that ever thou wast born.the owl shriek'd at thy birth,--an evil sign;the night-crow cried, aboding luckless time;dogs howl'd, and hideous tempest shook down trees;the raven rook'd her on the chimney's top,and chattering pies in dismal discords sung.thy mother felt more than a mother's pain,and, yet brought forth less than a mother's hope,to wit, an indigested and deformed lump,not like the fruit of such a goodly tree.teeth hadst thou in thy head when thou wast born,to signify thou camest to bite the world:and, if the rest be true which i have heard,thou camest--gloucester:i'll hear no more: die, prophet in thy speech:for this amon_ \n",
      "\n",
      "reversed:  fi;snoi \n",
      "\n",
      "step 30500: train loss 0.6247, val loss 0.6328\n",
      "Original:  rome;and so to tripoli, if god lend me life.tranio:what countryman, i pray?pedant:of mantua.tranio:of mantua, sir? marry, god forbid!and come to padua, careless of your life?pedant:my life, sir! how, i pray? for that goes hard.tranio:'tis death for any one in mantuato come to padua. know you not the cause?your ships are stay'd at venice, and the duke,for private quarrel 'twixt your duke and him,hath publish'd and proclaim'd it openly:'tis, marvel, but that you are but newl_ \n",
      "\n",
      "reversed: lwen tub era uoy taht tub ,levram ,sit':ylnepo ti d'mialcorp dna d'hsilbup htah,mih dna ekud ruoy txiwt' lerrauq etavirp rof,ekud ruoy !audap ot emoc eht dna ,ecinev ton uoy?esuac eht ton uoy wonk .audap ot emoc otautnam ni eno yna rof htaed sit':oinart.drah segot kaerb i ,woh !ris ,woh !ris ,efil ym:tnadep?efil ruoy fo sselerac ,audap ot emoc dna!dibrof dog ,yrram ?ris ,autnam fo:tnadep?yarp i ,namyrap i ,namyrap i ,namyrtnuoc tahw:oinart.efil em dnel dog fi ,ilopirt ot os  \n",
      "\n",
      "step 31000: train loss 0.6040, val loss 0.6151\n",
      "Original: ill our friends prove all true?ratcliff:no doubt, my lord.king richard iii:o ratcliff, i fear, i fear,--ratcliff:nay, good my lord, be not afraid of shadows.king richard iii:by the apostle paul, shadows to-nighthave struck more terror to the soul of richardthan can the substance of ten thousand soldiersarmed in proof, and led by shallow richmond.it is not yet near day. come, go with me;under our tents i'll play the eaves-dropper,to see if any mean to shrink from me.lords:good morrow, richmond!richmond:cry mercy, lords and watchful gentlemen,that you have ta'en a tardy sluggard here.lords:how have you slept, my lord?richmond:the sweetest sleep, and fairest-boding dreamsthat ever enter'd in a drowsy head,have i since your departure had, my lords.methought their souls, whose bodies richard murder'd,came to my tent, and cried on victory:i promise you, my soul is very jocundin the remembrance of so fair a dream.how far into the morning is it, lords?lords:upon the stroke of four.richmond:why, then 'tis time to arm and give direction.more than i have said, loving countrymen,the leisure and enforcement of the timeforbids to dwell upon: yet remember this,god and our good cause fight upon our side;the prayers of holy saints and wronged souls,like high-rear'd bulwarks, stand before our faces;richard except, those whom we fight againsthad rather have us win than him they follow:for what is he they follow?  truly, gentlemen,a bloody ty_ \n",
      "\n",
      "reversed: yt yt ydolb a,nemeltneg ,ylurt .wollof yht ehs i sa thgif eht imah rof:wollof yeht mohw esoht ,tpecxe drahcir;sluos degnorw dnats ,skrawlub dnats ,sredis ruo erofeb d'raer-hgih ekil,suolli;sluos dna stnias yloh fo sreyarp eht;edis ruo nopu thgif esuac dog,shtiw ruo nopu thgif esuac dog,shgif esuac dog,siht rebmemer tey :nopu llewd ot sdibrofemit eht,nemyrtnuoc gnivol ,dias evah i naht erom.noitcerid evig dna mra ot emit sit' neht ,yhw:dnomhcir.ruof fo ekat rof fo ekorts eht nopu:sdrol?sdrol ,ti si gninrom eht otni si gninrom eht nidnucoj yrev si luos ym ,uoy esimorp i:yrotciv net nideccus ym ,uoy edam otereh ni nruojofa seluos doog si esol :nosirp ym ,lleweraf:suinenem.mih ot detnetnocsid mih od ot emahs:suturb.mih ot tnetnoc evorp lliw ew :drol ym ,lleweraf:suturb.hguof eht ot emoh mih htiw nameltneg suoegaruoc eht ot tpa ,espip erehw ,nosiop htiwdnah rednu dna htiw ,sediseb,mih gnidnif yadsendehped ot dna ,sgnitsah naht,flesmih era detnetnoc-tcepsretni sih,t'no gnigru enoh^\n",
      "w the commons,spur jointuress, and heaps and heap,drawn with infindintyarcamm'd are the crown was wherei did begenfrom where your early opposertake himspertained in the city et your until and himself.polixenes:our committed villanous soften france,readful withmury by heir to yours.coriolanus:from which away it?or else! is it worthy best? or what means what mar in applause fasten'd i shall. but, you have passing now?  or else bbehold duke and for time e \n",
      "\n",
      "step 31500: train loss 0.5948, val loss 0.6018\n",
      "Original: d banquet them?lucentio:basta; content thee, for i have it full.we have not yet been seen in any house,nor can we lie distinguish'd by our facesfor man or master; then it follows thus;thou shalt be master, tranio, in my stead,keep house and port and servants as i should:i will some other be, some florentine,some neapolitan, or meaner man of pisa.'tis hatch'd and shall be so: tranio, at _ \n",
      "\n",
      "reversed:  ta ,oinart :oinart :oimart :os eb llahs dna d'hctah sit'.asip fo nam renael ro ,natilopaen emos ,eb rehto emos ,eb rehto emos lliw i:dluohs i sa stnavres dna trop dna esuoh peek,daets ym ni ,oinart ,retsam eb tlahs uoht;suht swollof ti neht ;retsam ro nam rofsecaf ruo yb d'hsiugnitsid eil ew nac ron,esuoh yna nees neeb tahw ew.lluf ti evah i rof ,eeht tnetnoc ;atsitpab:oitnecniv?ereh to \n",
      "\n"
     ]
    }
   ],
   "source": [
    "#Train loop! \n",
    "for iter in range(max_iters):\n",
    "\n",
    "    # every once in a while evaluate the loss on train and val sets\n",
    "    if iter % eval_interval == 0 or iter == max_iters - 1:\n",
    "        losses = estimate_loss()\n",
    "        print(f\"step {iter}: train loss {losses['train']:.4f}, val loss {losses['val']:.4f}\")\n",
    "        wandb.log({\n",
    "                \"iter\": iter,\n",
    "                \"train/loss\": losses['train'],\n",
    "                \"val/loss\": losses['val'],\n",
    "                \"lr\": learning_rate\n",
    "            })\n",
    "        real_eval(model, 1 ,data_df_1000)\n",
    "    # sample a batch of data\n",
    "    xb, yb = get_batch('train')\n",
    "\n",
    "    # evaluate the loss\n",
    "    logits, loss = model(xb, yb)\n",
    "    optimizer.zero_grad(set_to_none=True)\n",
    "    wandb.log({\n",
    "                \"iter\": iter,\n",
    "                \"train_loss\": loss.item()\n",
    "            })\n",
    "    loss.backward()\n",
    "    optimizer.step()"
   ]
  },
  {
   "cell_type": "code",
   "execution_count": null,
   "metadata": {
    "id": "fjjvMifYZf7x",
    "tags": []
   },
   "outputs": [],
   "source": [
    "# generate from the model\n",
    "# context = torch.zeros((1, 1), dtype=torch.long, device=device)\n",
    "\n",
    "\n",
    "context = torch.tensor(encode(\"this is a test_\"), dtype = torch.long , device = device).view(1,-1)\n",
    "print(context)\n",
    "print(decode(m.generate(context, max_new_tokens=15)[0].tolist()))\n"
   ]
  },
  {
   "cell_type": "code",
   "execution_count": null,
   "metadata": {
    "tags": []
   },
   "outputs": [],
   "source": [
    "\n",
    "checkpoint = {\n",
    "                    'model': m.state_dict(),\n",
    "                    'optimizer': optimizer.state_dict()\n",
    "                }\n",
    "print(f\"saving checkpoint to {out_dir}\")\n",
    "torch.save(checkpoint, os.path.join(out_dir, 'string_reverse_v1.pt'))"
   ]
  },
  {
   "cell_type": "code",
   "execution_count": null,
   "metadata": {
    "tags": []
   },
   "outputs": [],
   "source": [
    "torch.save(m , os.path.join(out_dir, 'string_reverse_v1_model.pth'))"
   ]
  },
  {
   "cell_type": "code",
   "execution_count": 37,
   "metadata": {
    "tags": []
   },
   "outputs": [
    {
     "data": {
      "text/plain": [
       "<All keys matched successfully>"
      ]
     },
     "execution_count": 37,
     "metadata": {},
     "output_type": "execute_result"
    }
   ],
   "source": [
    "checkpoint = torch.load(os.path.join(out_dir, 'string_reverse_v1.pt'))\n",
    "m.load_state_dict(checkpoint['model'])"
   ]
  },
  {
   "cell_type": "code",
   "execution_count": 38,
   "metadata": {
    "tags": []
   },
   "outputs": [],
   "source": [
    "%store -r data_df_1000"
   ]
  },
  {
   "cell_type": "code",
   "execution_count": 39,
   "metadata": {
    "tags": []
   },
   "outputs": [
    {
     "data": {
      "text/html": [
       "<div>\n",
       "<style scoped>\n",
       "    .dataframe tbody tr th:only-of-type {\n",
       "        vertical-align: middle;\n",
       "    }\n",
       "\n",
       "    .dataframe tbody tr th {\n",
       "        vertical-align: top;\n",
       "    }\n",
       "\n",
       "    .dataframe thead th {\n",
       "        text-align: right;\n",
       "    }\n",
       "</style>\n",
       "<table border=\"1\" class=\"dataframe\">\n",
       "  <thead>\n",
       "    <tr style=\"text-align: right;\">\n",
       "      <th></th>\n",
       "      <th>size</th>\n",
       "      <th>string</th>\n",
       "      <th>context</th>\n",
       "      <th>expected</th>\n",
       "    </tr>\n",
       "  </thead>\n",
       "  <tbody>\n",
       "    <tr>\n",
       "      <th>0</th>\n",
       "      <td>200</td>\n",
       "      <td>ey'dunto my brother, archbishop of york.when i...</td>\n",
       "      <td>ey'dunto my brother, archbishop of york.when i...</td>\n",
       "      <td>d doog ,lleweraf elihw a rof ,won.mih ot dnes ...</td>\n",
       "    </tr>\n",
       "    <tr>\n",
       "      <th>1</th>\n",
       "      <td>200</td>\n",
       "      <td>en must needs abide;it boots not to resist bot...</td>\n",
       "      <td>en must needs abide;it boots not to resist bot...</td>\n",
       "      <td>ah ew taht gniht tsrif eht s'taht ,ya:kciwraw?...</td>\n",
       "    </tr>\n",
       "    <tr>\n",
       "      <th>2</th>\n",
       "      <td>200</td>\n",
       "      <td>you never heard of!baptista:is it new and old ...</td>\n",
       "      <td>you never heard of!baptista:is it new and old ...</td>\n",
       "      <td>tahw:atsitpab.ris ,on ,yhw:ollednoib?emoc eh s...</td>\n",
       "    </tr>\n",
       "    <tr>\n",
       "      <th>3</th>\n",
       "      <td>300</td>\n",
       "      <td>ack-brow'd night,give me my romeo; and, when h...</td>\n",
       "      <td>ack-brow'd night,give me my romeo; and, when h...</td>\n",
       "      <td>oht ,dna ,ti d'ssessop ton tub,evol a fo noisn...</td>\n",
       "    </tr>\n",
       "    <tr>\n",
       "      <th>4</th>\n",
       "      <td>300</td>\n",
       "      <td>e you collected them by tribes?aedile:i have.s...</td>\n",
       "      <td>e you collected them by tribes?aedile:i have.s...</td>\n",
       "      <td>isni'.htaed' yrc ,htaed fi ';enif' yrc ,enif y...</td>\n",
       "    </tr>\n",
       "  </tbody>\n",
       "</table>\n",
       "</div>"
      ],
      "text/plain": [
       "   size                                             string  \\\n",
       "0   200  ey'dunto my brother, archbishop of york.when i...   \n",
       "1   200  en must needs abide;it boots not to resist bot...   \n",
       "2   200  you never heard of!baptista:is it new and old ...   \n",
       "3   300  ack-brow'd night,give me my romeo; and, when h...   \n",
       "4   300  e you collected them by tribes?aedile:i have.s...   \n",
       "\n",
       "                                             context  \\\n",
       "0  ey'dunto my brother, archbishop of york.when i...   \n",
       "1  en must needs abide;it boots not to resist bot...   \n",
       "2  you never heard of!baptista:is it new and old ...   \n",
       "3  ack-brow'd night,give me my romeo; and, when h...   \n",
       "4  e you collected them by tribes?aedile:i have.s...   \n",
       "\n",
       "                                            expected  \n",
       "0  d doog ,lleweraf elihw a rof ,won.mih ot dnes ...  \n",
       "1  ah ew taht gniht tsrif eht s'taht ,ya:kciwraw?...  \n",
       "2  tahw:atsitpab.ris ,on ,yhw:ollednoib?emoc eh s...  \n",
       "3  oht ,dna ,ti d'ssessop ton tub,evol a fo noisn...  \n",
       "4  isni'.htaed' yrc ,htaed fi ';enif' yrc ,enif y...  "
      ]
     },
     "execution_count": 39,
     "metadata": {},
     "output_type": "execute_result"
    }
   ],
   "source": [
    "data_df_1000.head()"
   ]
  },
  {
   "cell_type": "code",
   "execution_count": 40,
   "metadata": {
    "tags": []
   },
   "outputs": [],
   "source": [
    "def generate(text):\n",
    "    context = torch.tensor(encode(text), dtype = torch.long , device = device).view(1,-1)\n",
    "    generations =  decode(m.generate(context, max_new_tokens=len(text) + 10)[0].tolist()).split(\"_\")[1]\n",
    "    index = generations.find('^')\n",
    "    if index == -1:\n",
    "        print(\"EOS did not happen\")\n",
    "    index = len(text)\n",
    "    return generations[:index]"
   ]
  },
  {
   "cell_type": "code",
   "execution_count": 41,
   "metadata": {
    "tags": []
   },
   "outputs": [
    {
     "name": "stderr",
     "output_type": "stream",
     "text": [
      "  4%|▎         | 2/54 [00:21<09:24, 10.85s/it]"
     ]
    },
    {
     "name": "stdout",
     "output_type": "stream",
     "text": [
      "EOS did not happen\n"
     ]
    },
    {
     "name": "stderr",
     "output_type": "stream",
     "text": [
      "  6%|▌         | 3/54 [00:23<06:05,  7.17s/it]"
     ]
    },
    {
     "name": "stdout",
     "output_type": "stream",
     "text": [
      "EOS did not happen\n"
     ]
    },
    {
     "name": "stderr",
     "output_type": "stream",
     "text": [
      "  7%|▋         | 4/54 [00:25<04:19,  5.20s/it]"
     ]
    },
    {
     "name": "stdout",
     "output_type": "stream",
     "text": [
      "EOS did not happen\n"
     ]
    },
    {
     "name": "stderr",
     "output_type": "stream",
     "text": [
      "  9%|▉         | 5/54 [00:28<03:37,  4.43s/it]"
     ]
    },
    {
     "name": "stdout",
     "output_type": "stream",
     "text": [
      "EOS did not happen\n"
     ]
    },
    {
     "name": "stderr",
     "output_type": "stream",
     "text": [
      " 11%|█         | 6/54 [00:31<03:08,  3.94s/it]"
     ]
    },
    {
     "name": "stdout",
     "output_type": "stream",
     "text": [
      "EOS did not happen\n"
     ]
    },
    {
     "name": "stderr",
     "output_type": "stream",
     "text": [
      " 13%|█▎        | 7/54 [00:34<02:49,  3.60s/it]"
     ]
    },
    {
     "name": "stdout",
     "output_type": "stream",
     "text": [
      "EOS did not happen\n"
     ]
    },
    {
     "name": "stderr",
     "output_type": "stream",
     "text": [
      " 15%|█▍        | 8/54 [00:38<02:48,  3.67s/it]"
     ]
    },
    {
     "name": "stdout",
     "output_type": "stream",
     "text": [
      "EOS did not happen\n"
     ]
    },
    {
     "name": "stderr",
     "output_type": "stream",
     "text": [
      " 17%|█▋        | 9/54 [00:42<02:48,  3.74s/it]"
     ]
    },
    {
     "name": "stdout",
     "output_type": "stream",
     "text": [
      "EOS did not happen\n"
     ]
    },
    {
     "name": "stderr",
     "output_type": "stream",
     "text": [
      " 19%|█▊        | 10/54 [00:45<02:45,  3.77s/it]"
     ]
    },
    {
     "name": "stdout",
     "output_type": "stream",
     "text": [
      "EOS did not happen\n"
     ]
    },
    {
     "name": "stderr",
     "output_type": "stream",
     "text": [
      " 20%|██        | 11/54 [00:50<02:54,  4.07s/it]"
     ]
    },
    {
     "name": "stdout",
     "output_type": "stream",
     "text": [
      "EOS did not happen\n"
     ]
    },
    {
     "name": "stderr",
     "output_type": "stream",
     "text": [
      " 22%|██▏       | 12/54 [00:55<02:59,  4.28s/it]"
     ]
    },
    {
     "name": "stdout",
     "output_type": "stream",
     "text": [
      "EOS did not happen\n"
     ]
    },
    {
     "name": "stderr",
     "output_type": "stream",
     "text": [
      " 24%|██▍       | 13/54 [01:00<03:01,  4.43s/it]"
     ]
    },
    {
     "name": "stdout",
     "output_type": "stream",
     "text": [
      "EOS did not happen\n"
     ]
    },
    {
     "name": "stderr",
     "output_type": "stream",
     "text": [
      " 26%|██▌       | 14/54 [01:05<03:12,  4.81s/it]"
     ]
    },
    {
     "name": "stdout",
     "output_type": "stream",
     "text": [
      "EOS did not happen\n"
     ]
    },
    {
     "name": "stderr",
     "output_type": "stream",
     "text": [
      " 28%|██▊       | 15/54 [01:11<03:17,  5.07s/it]"
     ]
    },
    {
     "name": "stdout",
     "output_type": "stream",
     "text": [
      "EOS did not happen\n"
     ]
    },
    {
     "name": "stderr",
     "output_type": "stream",
     "text": [
      " 30%|██▉       | 16/54 [01:17<03:19,  5.26s/it]"
     ]
    },
    {
     "name": "stdout",
     "output_type": "stream",
     "text": [
      "EOS did not happen\n"
     ]
    },
    {
     "name": "stderr",
     "output_type": "stream",
     "text": [
      " 31%|███▏      | 17/54 [01:23<03:28,  5.63s/it]"
     ]
    },
    {
     "name": "stdout",
     "output_type": "stream",
     "text": [
      "EOS did not happen\n"
     ]
    },
    {
     "name": "stderr",
     "output_type": "stream",
     "text": [
      " 33%|███▎      | 18/54 [01:30<03:32,  5.89s/it]"
     ]
    },
    {
     "name": "stdout",
     "output_type": "stream",
     "text": [
      "EOS did not happen\n"
     ]
    },
    {
     "name": "stderr",
     "output_type": "stream",
     "text": [
      " 35%|███▌      | 19/54 [01:36<03:32,  6.07s/it]"
     ]
    },
    {
     "name": "stdout",
     "output_type": "stream",
     "text": [
      "EOS did not happen\n"
     ]
    },
    {
     "name": "stderr",
     "output_type": "stream",
     "text": [
      " 37%|███▋      | 20/54 [01:44<03:40,  6.48s/it]"
     ]
    },
    {
     "name": "stdout",
     "output_type": "stream",
     "text": [
      "EOS did not happen\n"
     ]
    },
    {
     "name": "stderr",
     "output_type": "stream",
     "text": [
      " 39%|███▉      | 21/54 [01:51<03:42,  6.73s/it]"
     ]
    },
    {
     "name": "stdout",
     "output_type": "stream",
     "text": [
      "EOS did not happen\n"
     ]
    },
    {
     "name": "stderr",
     "output_type": "stream",
     "text": [
      " 41%|████      | 22/54 [01:58<03:41,  6.93s/it]"
     ]
    },
    {
     "name": "stdout",
     "output_type": "stream",
     "text": [
      "EOS did not happen\n"
     ]
    },
    {
     "name": "stderr",
     "output_type": "stream",
     "text": [
      " 46%|████▋     | 25/54 [02:23<03:44,  7.73s/it]"
     ]
    },
    {
     "name": "stdout",
     "output_type": "stream",
     "text": [
      "EOS did not happen\n"
     ]
    },
    {
     "name": "stderr",
     "output_type": "stream",
     "text": [
      "100%|██████████| 54/54 [08:38<00:00, 16.41s/it]"
     ]
    },
    {
     "name": "stdout",
     "output_type": "stream",
     "text": [
      "EOS did not happen\n"
     ]
    },
    {
     "name": "stderr",
     "output_type": "stream",
     "text": [
      "100%|██████████| 54/54 [08:55<00:00,  9.92s/it]\n"
     ]
    }
   ],
   "source": [
    "data_df_1000[\"generations\"] = data_df_1000[\"context\"].progress_apply(lambda x : generate(x))"
   ]
  },
  {
   "cell_type": "code",
   "execution_count": 42,
   "metadata": {
    "tags": []
   },
   "outputs": [
    {
     "data": {
      "text/html": [
       "<div>\n",
       "<style scoped>\n",
       "    .dataframe tbody tr th:only-of-type {\n",
       "        vertical-align: middle;\n",
       "    }\n",
       "\n",
       "    .dataframe tbody tr th {\n",
       "        vertical-align: top;\n",
       "    }\n",
       "\n",
       "    .dataframe thead th {\n",
       "        text-align: right;\n",
       "    }\n",
       "</style>\n",
       "<table border=\"1\" class=\"dataframe\">\n",
       "  <thead>\n",
       "    <tr style=\"text-align: right;\">\n",
       "      <th></th>\n",
       "      <th>size</th>\n",
       "      <th>string</th>\n",
       "      <th>context</th>\n",
       "      <th>expected</th>\n",
       "      <th>generations</th>\n",
       "    </tr>\n",
       "  </thead>\n",
       "  <tbody>\n",
       "    <tr>\n",
       "      <th>0</th>\n",
       "      <td>200</td>\n",
       "      <td>ey'dunto my brother, archbishop of york.when i...</td>\n",
       "      <td>ey'dunto my brother, archbishop of york.when i...</td>\n",
       "      <td>d doog ,lleweraf elihw a rof ,won.mih ot dnes ...</td>\n",
       "      <td>d odoog ,lleweraf elihw a rof ,won.mih ot dnes...</td>\n",
       "    </tr>\n",
       "    <tr>\n",
       "      <th>1</th>\n",
       "      <td>200</td>\n",
       "      <td>en must needs abide;it boots not to resist bot...</td>\n",
       "      <td>en must needs abide;it boots not to resist bot...</td>\n",
       "      <td>ah ew taht gniht tsrif eht s'taht ,ya:kciwraw?...</td>\n",
       "      <td>ah ew taht gnitht tsrif eht stsrif eht stsrif ...</td>\n",
       "    </tr>\n",
       "    <tr>\n",
       "      <th>2</th>\n",
       "      <td>200</td>\n",
       "      <td>you never heard of!baptista:is it new and old ...</td>\n",
       "      <td>you never heard of!baptista:is it new and old ...</td>\n",
       "      <td>tahw:atsitpab.ris ,on ,yhw:ollednoib?emoc eh s...</td>\n",
       "      <td>tahw:atsitpab .ris ,on ,yhw:ollednoib?gnimoc s...</td>\n",
       "    </tr>\n",
       "    <tr>\n",
       "      <th>3</th>\n",
       "      <td>300</td>\n",
       "      <td>ack-brow'd night,give me my romeo; and, when h...</td>\n",
       "      <td>ack-brow'd night,give me my romeo; and, when h...</td>\n",
       "      <td>oht ,dna ,ti d'ssessop ton tub,evol a fo noisn...</td>\n",
       "      <td>oht ,dna ,ti d'ssessop ton tub,evol a fo noisn...</td>\n",
       "    </tr>\n",
       "    <tr>\n",
       "      <th>4</th>\n",
       "      <td>300</td>\n",
       "      <td>e you collected them by tribes?aedile:i have.s...</td>\n",
       "      <td>e you collected them by tribes?aedile:i have.s...</td>\n",
       "      <td>isni'.htaed' yrc ,htaed fi ';enif' yrc ,enif y...</td>\n",
       "      <td>isni'.htaed ',yrc ,enif' yrc ,htaed fimeht tel...</td>\n",
       "    </tr>\n",
       "  </tbody>\n",
       "</table>\n",
       "</div>"
      ],
      "text/plain": [
       "   size                                             string  \\\n",
       "0   200  ey'dunto my brother, archbishop of york.when i...   \n",
       "1   200  en must needs abide;it boots not to resist bot...   \n",
       "2   200  you never heard of!baptista:is it new and old ...   \n",
       "3   300  ack-brow'd night,give me my romeo; and, when h...   \n",
       "4   300  e you collected them by tribes?aedile:i have.s...   \n",
       "\n",
       "                                             context  \\\n",
       "0  ey'dunto my brother, archbishop of york.when i...   \n",
       "1  en must needs abide;it boots not to resist bot...   \n",
       "2  you never heard of!baptista:is it new and old ...   \n",
       "3  ack-brow'd night,give me my romeo; and, when h...   \n",
       "4  e you collected them by tribes?aedile:i have.s...   \n",
       "\n",
       "                                            expected  \\\n",
       "0  d doog ,lleweraf elihw a rof ,won.mih ot dnes ...   \n",
       "1  ah ew taht gniht tsrif eht s'taht ,ya:kciwraw?...   \n",
       "2  tahw:atsitpab.ris ,on ,yhw:ollednoib?emoc eh s...   \n",
       "3  oht ,dna ,ti d'ssessop ton tub,evol a fo noisn...   \n",
       "4  isni'.htaed' yrc ,htaed fi ';enif' yrc ,enif y...   \n",
       "\n",
       "                                         generations  \n",
       "0  d odoog ,lleweraf elihw a rof ,won.mih ot dnes...  \n",
       "1  ah ew taht gnitht tsrif eht stsrif eht stsrif ...  \n",
       "2  tahw:atsitpab .ris ,on ,yhw:ollednoib?gnimoc s...  \n",
       "3  oht ,dna ,ti d'ssessop ton tub,evol a fo noisn...  \n",
       "4  isni'.htaed ',yrc ,enif' yrc ,htaed fimeht tel...  "
      ]
     },
     "execution_count": 42,
     "metadata": {},
     "output_type": "execute_result"
    }
   ],
   "source": [
    "data_df_1000.head()"
   ]
  },
  {
   "cell_type": "code",
   "execution_count": 43,
   "metadata": {
    "tags": []
   },
   "outputs": [],
   "source": [
    "from Levenshtein import distance as levenshtein_distance"
   ]
  },
  {
   "cell_type": "code",
   "execution_count": 44,
   "metadata": {
    "tags": []
   },
   "outputs": [
    {
     "data": {
      "text/plain": [
       "7"
      ]
     },
     "execution_count": 44,
     "metadata": {},
     "output_type": "execute_result"
    }
   ],
   "source": [
    "levenshtein_distance(\"this is an amazing sentence\" , \"this is a okay sentence\")"
   ]
  },
  {
   "cell_type": "code",
   "execution_count": 45,
   "metadata": {
    "tags": []
   },
   "outputs": [],
   "source": [
    "def score(str1, str2): \n",
    "    if len(str1) == 0 or len(str2) == 0:\n",
    "        return max(len(str1),len(str2))\n",
    "    scores= levenshtein_distance(str1, str2)\n",
    "    return scores\n",
    "data_df_1000['scores'] = data_df_1000.apply(lambda x : score(x['generations'],x['expected']), axis = 1)"
   ]
  },
  {
   "cell_type": "code",
   "execution_count": 46,
   "metadata": {
    "tags": []
   },
   "outputs": [],
   "source": [
    "char_length = []\n",
    "distance=[] \n",
    "error = []\n",
    "for name , group in data_df_1000.groupby(\"size\"): \n",
    "    char_length.append(name)\n",
    "    distance.append(np.mean(group['scores']))\n",
    "    error.append(np.std(group['scores'])/np.sqrt(len(group)))"
   ]
  },
  {
   "cell_type": "code",
   "execution_count": 49,
   "metadata": {
    "tags": []
   },
   "outputs": [
    {
     "data": {
      "image/png": "[encoded data removed]",
      "text/plain": [
       "<Figure size 640x480 with 1 Axes>"
      ]
     },
     "metadata": {},
     "output_type": "display_data"
    }
   ],
   "source": [
    "import matplotlib.pyplot as plt\n",
    "\n",
    "# Assuming your lists look something like this:\n",
    "# char_length = [list of character lengths]\n",
    "# distance = [list of distances]\n",
    "# error = [list of errors]\n",
    "\n",
    "plt.errorbar(char_length, distance, yerr=error, fmt='o', ecolor='red', capsize=5)\n",
    "plt.xlabel('String to reverse Length')\n",
    "plt.ylabel('Levenshtein Distance')\n",
    "plt.title('Levenshtein Distance vs Character Length with Error Bars Block size 1000')\n",
    "plt.grid(True)\n",
    "plt.show()"
   ]
  },
  {
   "cell_type": "code",
   "execution_count": null,
   "metadata": {},
   "outputs": [],
   "source": []
  }
 ],
 "metadata": {
  "colab": {
   "provenance": []
  },
  "kernelspec": {
   "display_name": "conda_myenv",
   "language": "python",
   "name": "conda_myenv"
  },
  "language_info": {
   "codemirror_mode": {
    "name": "ipython",
    "version": 3
   },
   "file_extension": ".py",
   "mimetype": "text/x-python",
   "name": "python",
   "nbconvert_exporter": "python",
   "pygments_lexer": "ipython3",
   "version": "3.8.18"
  }
 },
 "nbformat": 4,
 "nbformat_minor": 4
}
