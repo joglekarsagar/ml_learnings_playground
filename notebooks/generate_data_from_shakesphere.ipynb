{
 "cells": [
  {
   "cell_type": "code",
   "execution_count": 1,
   "id": "3cbecddf-faca-4966-976f-f536ebec867a",
   "metadata": {
    "tags": []
   },
   "outputs": [],
   "source": [
    "import torch\n",
    "import random"
   ]
  },
  {
   "cell_type": "code",
   "execution_count": 2,
   "id": "9eb6ddcb-ca65-416d-b58b-711a333f33a9",
   "metadata": {
    "tags": []
   },
   "outputs": [
    {
     "name": "stdout",
     "output_type": "stream",
     "text": [
      "--2023-12-05 10:37:08--  https://raw.githubusercontent.com/karpathy/char-rnn/master/data/tinyshakespeare/input.txt\n",
      "Resolving raw.githubusercontent.com (raw.githubusercontent.com)... 185.199.110.133, 185.199.111.133, 185.199.108.133, ...\n",
      "Connecting to raw.githubusercontent.com (raw.githubusercontent.com)|185.199.110.133|:443... connected.\n",
      "HTTP request sent, awaiting response... 200 OK\n",
      "Length: 1115394 (1.1M) [text/plain]\n",
      "Saving to: ‘input.txt.1’\n",
      "\n",
      "100%[======================================>] 1,115,394   --.-K/s   in 0.008s  \n",
      "\n",
      "2023-12-05 10:37:08 (138 MB/s) - ‘input.txt.1’ saved [1115394/1115394]\n",
      "\n"
     ]
    }
   ],
   "source": [
    "# We always start with a dataset to train on. Let's download the tiny shakespeare dataset\n",
    "!wget https://raw.githubusercontent.com/karpathy/char-rnn/master/data/tinyshakespeare/input.txt"
   ]
  },
  {
   "cell_type": "code",
   "execution_count": 13,
   "id": "c08d4ec2-8f7b-4829-839b-6773e37eeb3c",
   "metadata": {
    "tags": []
   },
   "outputs": [],
   "source": [
    "# read it in to inspect it\n",
    "with open('input.txt', 'r', encoding='utf-8') as f:\n",
    "    text = f.read()"
   ]
  },
  {
   "cell_type": "code",
   "execution_count": 24,
   "id": "23f07726-29cf-4e1d-819b-167655d78739",
   "metadata": {
    "tags": []
   },
   "outputs": [
    {
     "data": {
      "text/plain": [
       "\"th's pale _ elap s'ht^\\n\""
      ]
     },
     "execution_count": 24,
     "metadata": {},
     "output_type": "execute_result"
    }
   ],
   "source": [
    "import random\n",
    "import re\n",
    "\n",
    "def sample_and_process(text, block_size , sep= \"_\" , eos = \"^\"):\n",
    "    # Ensure the block size is not larger than the text length\n",
    "    block_size = min(block_size, len(text))\n",
    "\n",
    "    # Sample a random starting point\n",
    "    start = random.randint(0, len(text) - block_size)\n",
    "\n",
    "    # Extract the block of size n from the starting point\n",
    "    block = text[start:start + block_size]\n",
    "\n",
    "    # Remove newline and special characters\n",
    "    block = re.sub(r'[\\n\\r\\t]', '', block)\n",
    "    # block = re.sub(r'[^a-zA-Z0-9 ]', '', block)\n",
    "    block = block.lower()\n",
    "    # Append the seperator token\n",
    "    processed_block = block + sep\n",
    "\n",
    "    # Add the reversed version of the block\n",
    "    processed_block += block[::-1] + eos + \"\\n\"\n",
    "\n",
    "    return processed_block\n",
    "\n",
    "# Example usage\n",
    "# text = \"This is a sample text from a book. It contains various characters, including newlines\\n and special characters like @, #, etc.\"\n",
    "block_size = 10\n",
    "sampled_block = sample_and_process(text, block_size)\n",
    "sampled_block\n",
    "\n"
   ]
  },
  {
   "cell_type": "code",
   "execution_count": 27,
   "id": "ca17bd72-a6d8-43f3-bc5b-d00952a2f85f",
   "metadata": {
    "tags": []
   },
   "outputs": [],
   "source": [
    "seperator_token = \"_\"\n",
    "block_size = 20\n",
    "samples = 1000000\n",
    "buffer = []\n",
    "for i in range(samples): \n",
    "    s = sample_and_process(text , block_size , sep = seperator_token)\n",
    "    buffer.append(s)"
   ]
  },
  {
   "cell_type": "code",
   "execution_count": 28,
   "id": "c80c6e6c-7441-4252-ba8c-b25098b077f2",
   "metadata": {
    "tags": []
   },
   "outputs": [],
   "source": [
    "with open(\"output_data.txt\",'w') as f:\n",
    "    f.writelines(buffer)"
   ]
  },
  {
   "cell_type": "code",
   "execution_count": null,
   "id": "b18e281e-70eb-43bc-a544-f39315fdeb88",
   "metadata": {},
   "outputs": [],
   "source": []
  }
 ],
 "metadata": {
  "kernelspec": {
   "display_name": "conda_answerbot",
   "language": "python",
   "name": "conda_answerbot"
  },
  "language_info": {
   "codemirror_mode": {
    "name": "ipython",
    "version": 3
   },
   "file_extension": ".py",
   "mimetype": "text/x-python",
   "name": "python",
   "nbconvert_exporter": "python",
   "pygments_lexer": "ipython3",
   "version": "3.8.12"
  }
 },
 "nbformat": 4,
 "nbformat_minor": 5
}
