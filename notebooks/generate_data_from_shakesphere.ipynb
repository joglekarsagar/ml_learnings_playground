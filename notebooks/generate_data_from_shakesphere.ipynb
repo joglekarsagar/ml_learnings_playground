{
 "cells": [
  {
   "cell_type": "code",
   "execution_count": 22,
   "id": "3cbecddf-faca-4966-976f-f536ebec867a",
   "metadata": {
    "tags": []
   },
   "outputs": [],
   "source": [
    "import torch\n",
    "import random\n",
    "import numpy as np\n",
    "import pandas as pd"
   ]
  },
  {
   "cell_type": "code",
   "execution_count": 23,
   "id": "9eb6ddcb-ca65-416d-b58b-711a333f33a9",
   "metadata": {
    "tags": []
   },
   "outputs": [
    {
     "name": "stdout",
     "output_type": "stream",
     "text": [
      "--2023-12-07 15:23:28--  https://raw.githubusercontent.com/karpathy/char-rnn/master/data/tinyshakespeare/input.txt\n",
      "Resolving raw.githubusercontent.com (raw.githubusercontent.com)... 185.199.110.133, 185.199.111.133, 185.199.108.133, ...\n",
      "Connecting to raw.githubusercontent.com (raw.githubusercontent.com)|185.199.110.133|:443... connected.\n",
      "HTTP request sent, awaiting response... 200 OK\n",
      "Length: 1115394 (1.1M) [text/plain]\n",
      "Saving to: ‘input.txt.2’\n",
      "\n",
      "100%[======================================>] 1,115,394   --.-K/s   in 0.02s   \n",
      "\n",
      "2023-12-07 15:23:28 (62.6 MB/s) - ‘input.txt.2’ saved [1115394/1115394]\n",
      "\n"
     ]
    }
   ],
   "source": [
    "# We always start with a dataset to train on. Let's download the tiny shakespeare dataset\n",
    "!wget https://raw.githubusercontent.com/karpathy/char-rnn/master/data/tinyshakespeare/input.txt"
   ]
  },
  {
   "cell_type": "code",
   "execution_count": 24,
   "id": "c08d4ec2-8f7b-4829-839b-6773e37eeb3c",
   "metadata": {
    "tags": []
   },
   "outputs": [],
   "source": [
    "# read it in to inspect it\n",
    "with open('input.txt', 'r', encoding='utf-8') as f:\n",
    "    text = f.read()"
   ]
  },
  {
   "cell_type": "code",
   "execution_count": 25,
   "id": "23f07726-29cf-4e1d-819b-167655d78739",
   "metadata": {
    "tags": []
   },
   "outputs": [
    {
     "data": {
      "text/plain": [
       "'bout the m_m eht tuob^\\n'"
      ]
     },
     "execution_count": 25,
     "metadata": {},
     "output_type": "execute_result"
    }
   ],
   "source": [
    "import random\n",
    "import re\n",
    "\n",
    "def sample_and_process(text, block_size , sep= \"_\" , eos = \"^\"):\n",
    "    # Ensure the block size is not larger than the text length\n",
    "    block_size = min(block_size, len(text))\n",
    "\n",
    "    # Sample a random starting point\n",
    "    start = random.randint(0, len(text) - block_size)\n",
    "\n",
    "    # Extract the block of size n from the starting point\n",
    "    block = text[start:start + block_size]\n",
    "\n",
    "    # Remove newline and special characters\n",
    "    block = re.sub(r'[\\n\\r\\t]', '', block)\n",
    "    # block = re.sub(r'[^a-zA-Z0-9 ]', '', block)\n",
    "    block = block.lower()\n",
    "    # Append the seperator token\n",
    "    processed_block = block + sep\n",
    "\n",
    "    # Add the reversed version of the block\n",
    "    processed_block += block[::-1] + eos + \"\\n\"\n",
    "\n",
    "    return processed_block\n",
    "\n",
    "# Example usage\n",
    "# text = \"This is a sample text from a book. It contains various characters, including newlines\\n and special characters like @, #, etc.\"\n",
    "block_size = 10\n",
    "sampled_block = sample_and_process(text, block_size)\n",
    "sampled_block\n",
    "\n"
   ]
  },
  {
   "cell_type": "code",
   "execution_count": 26,
   "id": "ca17bd72-a6d8-43f3-bc5b-d00952a2f85f",
   "metadata": {
    "tags": []
   },
   "outputs": [],
   "source": [
    "seperator_token = \"_\"\n",
    "block_size = 50\n",
    "samples = 1000000\n",
    "buffer = []\n",
    "for i in range(samples): \n",
    "    s = sample_and_process(text , block_size , sep = seperator_token)\n",
    "    buffer.append(s)"
   ]
  },
  {
   "cell_type": "code",
   "execution_count": 27,
   "id": "c80c6e6c-7441-4252-ba8c-b25098b077f2",
   "metadata": {
    "tags": []
   },
   "outputs": [],
   "source": [
    "with open(\"output_data_50.txt\",'w') as f:\n",
    "    f.writelines(buffer)"
   ]
  },
  {
   "cell_type": "code",
   "execution_count": 28,
   "id": "b18e281e-70eb-43bc-a544-f39315fdeb88",
   "metadata": {
    "tags": []
   },
   "outputs": [],
   "source": [
    "block_sizes = np.arange(10,110,10)"
   ]
  },
  {
   "cell_type": "code",
   "execution_count": 29,
   "id": "926280c4-5130-44c5-854d-017ae7443e5a",
   "metadata": {
    "tags": []
   },
   "outputs": [],
   "source": [
    "data_dict = {\"size\" : [] , \"string\" : [] , \"context\" : [] , \"expected\" : []}\n",
    "seperator_token = \"_\"\n",
    "samples = 10\n",
    "for block_size in block_sizes:\n",
    "    for i in range(samples):\n",
    "        s = sample_and_process(text , block_size , sep = seperator_token)\n",
    "        data_dict['size'].append(block_size)\n",
    "        data_dict['string'].append(s)\n",
    "        context = s.split(\"_\")[0] + \"_\"\n",
    "        expected = s.split(\"_\")[1].strip()\n",
    "        data_dict['context'].append(context)\n",
    "        data_dict['expected'].append(expected)\n",
    "data_df = pd.DataFrame.from_dict(data_dict)"
   ]
  },
  {
   "cell_type": "code",
   "execution_count": 30,
   "id": "0a0449f2-d9b1-464f-942d-8ce5bf2ed70e",
   "metadata": {
    "tags": []
   },
   "outputs": [
    {
     "data": {
      "text/html": [
       "<div>\n",
       "<style scoped>\n",
       "    .dataframe tbody tr th:only-of-type {\n",
       "        vertical-align: middle;\n",
       "    }\n",
       "\n",
       "    .dataframe tbody tr th {\n",
       "        vertical-align: top;\n",
       "    }\n",
       "\n",
       "    .dataframe thead th {\n",
       "        text-align: right;\n",
       "    }\n",
       "</style>\n",
       "<table border=\"1\" class=\"dataframe\">\n",
       "  <thead>\n",
       "    <tr style=\"text-align: right;\">\n",
       "      <th></th>\n",
       "      <th>size</th>\n",
       "      <th>string</th>\n",
       "      <th>context</th>\n",
       "      <th>expected</th>\n",
       "    </tr>\n",
       "  </thead>\n",
       "  <tbody>\n",
       "    <tr>\n",
       "      <th>95</th>\n",
       "      <td>100</td>\n",
       "      <td>doleful dumps the mind oppress,then music wit...</td>\n",
       "      <td>doleful dumps the mind oppress,then music wit...</td>\n",
       "      <td>cisum' yhw ?'dnuos revlis' yhw--'dnuos revlis ...</td>\n",
       "    </tr>\n",
       "    <tr>\n",
       "      <th>96</th>\n",
       "      <td>100</td>\n",
       "      <td>t yet not stay, entreat me how you can.kathari...</td>\n",
       "      <td>t yet not stay, entreat me how you can.kathari...</td>\n",
       "      <td>m ,oimurg:oihcurtep.yats ,em evol uoy fi ,won:...</td>\n",
       "    </tr>\n",
       "    <tr>\n",
       "      <th>97</th>\n",
       "      <td>100</td>\n",
       "      <td>i the master here, or you? go to.you'll not e...</td>\n",
       "      <td>i the master here, or you? go to.you'll not e...</td>\n",
       "      <td>itum a ekam ll'uoy!luos ym dnem llahs dog !mih...</td>\n",
       "    </tr>\n",
       "    <tr>\n",
       "      <th>98</th>\n",
       "      <td>100</td>\n",
       "      <td>are.autolycus:i humbly beseech you, sir, to p...</td>\n",
       "      <td>are.autolycus:i humbly beseech you, sir, to p...</td>\n",
       "      <td>ow ruoy ot dettimmoc evah i stluafeht lla em n...</td>\n",
       "    </tr>\n",
       "    <tr>\n",
       "      <th>99</th>\n",
       "      <td>100</td>\n",
       "      <td>tmy hate to marcius: where i find him, were it...</td>\n",
       "      <td>tmy hate to marcius: where i find him, were it...</td>\n",
       "      <td>sniaga,ereht neve ,draug s'rehtorb ym nopu ,em...</td>\n",
       "    </tr>\n",
       "  </tbody>\n",
       "</table>\n",
       "</div>"
      ],
      "text/plain": [
       "    size                                             string  \\\n",
       "95   100   doleful dumps the mind oppress,then music wit...   \n",
       "96   100  t yet not stay, entreat me how you can.kathari...   \n",
       "97   100   i the master here, or you? go to.you'll not e...   \n",
       "98   100   are.autolycus:i humbly beseech you, sir, to p...   \n",
       "99   100  tmy hate to marcius: where i find him, were it...   \n",
       "\n",
       "                                              context  \\\n",
       "95   doleful dumps the mind oppress,then music wit...   \n",
       "96  t yet not stay, entreat me how you can.kathari...   \n",
       "97   i the master here, or you? go to.you'll not e...   \n",
       "98   are.autolycus:i humbly beseech you, sir, to p...   \n",
       "99  tmy hate to marcius: where i find him, were it...   \n",
       "\n",
       "                                             expected  \n",
       "95  cisum' yhw ?'dnuos revlis' yhw--'dnuos revlis ...  \n",
       "96  m ,oimurg:oihcurtep.yats ,em evol uoy fi ,won:...  \n",
       "97  itum a ekam ll'uoy!luos ym dnem llahs dog !mih...  \n",
       "98  ow ruoy ot dettimmoc evah i stluafeht lla em n...  \n",
       "99  sniaga,ereht neve ,draug s'rehtorb ym nopu ,em...  "
      ]
     },
     "execution_count": 30,
     "metadata": {},
     "output_type": "execute_result"
    }
   ],
   "source": [
    "data_df.tail()"
   ]
  },
  {
   "cell_type": "code",
   "execution_count": 21,
   "id": "e20b3ba8-9b18-4f57-8226-773855330b68",
   "metadata": {
    "tags": []
   },
   "outputs": [
    {
     "name": "stdout",
     "output_type": "stream",
     "text": [
      "Stored 'data_df' (DataFrame)\n"
     ]
    }
   ],
   "source": [
    "%store data_df"
   ]
  },
  {
   "cell_type": "code",
   "execution_count": null,
   "id": "dcfc05f6-7596-4359-838d-25f67ba89c67",
   "metadata": {},
   "outputs": [],
   "source": []
  }
 ],
 "metadata": {
  "kernelspec": {
   "display_name": "conda_answerbot",
   "language": "python",
   "name": "conda_answerbot"
  },
  "language_info": {
   "codemirror_mode": {
    "name": "ipython",
    "version": 3
   },
   "file_extension": ".py",
   "mimetype": "text/x-python",
   "name": "python",
   "nbconvert_exporter": "python",
   "pygments_lexer": "ipython3",
   "version": "3.8.12"
  }
 },
 "nbformat": 4,
 "nbformat_minor": 5
}
